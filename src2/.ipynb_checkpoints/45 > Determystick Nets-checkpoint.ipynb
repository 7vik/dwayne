{
 "cells": [
  {
   "cell_type": "markdown",
   "metadata": {},
   "source": [
    "It is necessary to get deterministic computation before moving ahead with trying stuff out. Refactoring some stuff too for future ease."
   ]
  },
  {
   "cell_type": "code",
   "execution_count": 1,
   "metadata": {},
   "outputs": [],
   "source": [
    "# python imports, check requirements.txt for version\n",
    "import pandas as pd\n",
    "import numpy as np\n",
    "import matplotlib.pyplot as plt\n",
    "%matplotlib inline\n",
    "import os\n",
    "import requests \n",
    "import io\n",
    "import torch"
   ]
  },
  {
   "cell_type": "code",
   "execution_count": 2,
   "metadata": {},
   "outputs": [],
   "source": [
    "# loading the data, check readme.md for download\n",
    "PATH = '../data/'\n",
    "files = os.listdir(PATH)\n",
    "dfs = {f[:-4] : pd.read_csv(PATH + f) \n",
    "           for f in files if f[-3:] == 'csv'\n",
    "}"
   ]
  },
  {
   "cell_type": "markdown",
   "metadata": {},
   "source": [
    "The graph formulation:\n",
    "\n",
    "**Nodes**: Members (total 763)\n",
    "\n",
    "**Node Features**: (the node label for classification)\n",
    "- Reputation Value \n",
    "\n",
    "**Edges**: (both can be treated as directed edges)\n",
    "- Notifications (total 47066)\n",
    "- Private Messages (total 3101)"
   ]
  },
  {
   "cell_type": "code",
   "execution_count": 3,
   "metadata": {},
   "outputs": [],
   "source": [
    "def create_nodes(dfs):\n",
    "    members = sorted(list(dfs['orig_members'].member_id))\n",
    "    reputation = [[m, sum(dfs['orig_reputation_index'].member_id == m)] for m in members]\n",
    "    just_reps  = [reputation[z][1] for z in range(reputation.__len__())]\n",
    "    med_reps   = np.median(just_reps)\n",
    "    rep_cutoff = med_reps              # change to whatever cutoff to keep\n",
    "    labels = [int(rep > rep_cutoff) for rep in just_reps]\n",
    "    return labels"
   ]
  },
  {
   "cell_type": "code",
   "execution_count": 4,
   "metadata": {},
   "outputs": [],
   "source": [
    "def create_edges(dfs, edge_type):\n",
    "    members = sorted(list(dfs['orig_members'].member_id))\n",
    "    notifs_raw = [[dfs['orig_inline_notifications'].notify_from_id[z], \n",
    "               dfs['orig_inline_notifications'].notify_to_id[z]]\n",
    "              for z in range(dfs['orig_inline_notifications'].shape[0])]\n",
    "    notifs = [n for n in notifs_raw if (n[0] in members and n[1] in members)]\n",
    "    messages_raw = [[dfs['orig_message_topics'].mt_starter_id[z], \n",
    "               dfs['orig_message_topics'].mt_to_member_id[z]]\n",
    "              for z in range(dfs['orig_message_topics'].shape[0])]\n",
    "    messages = [n for n in messages_raw if (n[0] in members and n[1] in members)]\n",
    "    if edge_type == 'notifs':\n",
    "        edges_raw = notifs \n",
    "    elif edge_type == 'messages':\n",
    "        edges_raw = messages\n",
    "    member_index = {members[i] : i+1 for i in range(len(members))}\n",
    "    edges = [\n",
    "        [member_index[node] for node in edge]\n",
    "        for edge in edges_raw\n",
    "    ]\n",
    "    return edges"
   ]
  },
  {
   "cell_type": "code",
   "execution_count": 5,
   "metadata": {},
   "outputs": [],
   "source": [
    "def create_adjacency(dfs, edge_type):\n",
    "    members = sorted(list(dfs['orig_members'].member_id))\n",
    "    num_nodes = len(members)\n",
    "    adjacency = [[0 for _ in range(num_nodes)] for _ in range(num_nodes)]\n",
    "    edges = create_edges(dfs, edge_type)\n",
    "    # add edges symmetrically\n",
    "    for edge in edges:\n",
    "        adjacency[edge[0] - 1][edge[1] - 1] = 1\n",
    "        adjacency[edge[1] - 1][edge[0] - 1] = 1\n",
    "    # add self loops\n",
    "    for i in range(len(adjacency)):\n",
    "        adjacency[i][i] = 1\n",
    "    from sklearn.preprocessing import normalize\n",
    "    # normalize the adjacency matrix\n",
    "    adjacency = np.array(adjacency)\n",
    "    adjacency = normalize(adjacency, norm='l1', axis=1)\n",
    "    return adjacency"
   ]
  },
  {
   "cell_type": "code",
   "execution_count": 6,
   "metadata": {},
   "outputs": [],
   "source": [
    "def seed(SEED=42):\n",
    "    # numpy\n",
    "    np.random.seed(SEED)\n",
    "    # torch\n",
    "    torch.manual_seed(SEED)\n",
    "    # cuda\n",
    "    if torch.cuda.is_available():\n",
    "        torch.cuda.manual_seed(SEED)"
   ]
  },
  {
   "cell_type": "code",
   "execution_count": 26,
   "metadata": {},
   "outputs": [],
   "source": [
    "def train_val_test_split(num_nodes, train, val):\n",
    "    idx_train = np.random.choice(range(num_nodes), int(train * num_nodes), replace=False)\n",
    "    idx_vt = list(set(range(num_nodes)) - set(idx_train))\n",
    "    idx_val = np.random.choice(idx_vt, int(val * num_nodes), replace=False)\n",
    "    idx_test = list(set(idx_vt) - set(idx_val))\n",
    "    return np.array(idx_train), np.array(idx_val), np.array(idx_test)"
   ]
  },
  {
   "cell_type": "code",
   "execution_count": 27,
   "metadata": {},
   "outputs": [],
   "source": [
    "def featurize(labels, ft_type='random', size=50):\n",
    "    if ft_type == 'random':\n",
    "        return np.random.rand(len(labels), size)\n",
    "    if ft_type == 'uniform':\n",
    "        return np.ones(len(labels), size)"
   ]
  },
  {
   "cell_type": "code",
   "execution_count": 28,
   "metadata": {},
   "outputs": [],
   "source": [
    "def dataloader(dfs, edge_type, trainf=0.30, valf=0.20):\n",
    "    labels = np.array(create_nodes(dfs))\n",
    "    features = featurize(labels)\n",
    "    adjacency = create_adjacency(dfs, edge_type)\n",
    "    idx_train, idx_val, idx_test = train_val_test_split(adjacency.shape[0], trainf, valf)\n",
    "    data = (adjacency, features, labels, idx_train, idx_val, idx_test)\n",
    "    data = tuple(map(lambda z: torch.from_numpy(z), data))\n",
    "    return data"
   ]
  },
  {
   "cell_type": "code",
   "execution_count": 29,
   "metadata": {},
   "outputs": [],
   "source": [
    "def accuracy(output, labels):\n",
    "#     print(output, labels)\n",
    "    preds   = output.max(1)[1].type_as(labels)\n",
    "    correct = preds.eq(labels).double()\n",
    "    correct = correct.sum()\n",
    "    return correct / len(labels)"
   ]
  },
  {
   "cell_type": "code",
   "execution_count": 30,
   "metadata": {},
   "outputs": [],
   "source": [
    "import math\n",
    "import torch.nn as nn\n",
    "import torch.nn.functional as F\n",
    "import torch.optim as optim\n",
    "import matplotlib.pyplot as plt\n",
    "%matplotlib inline\n",
    "import time"
   ]
  },
  {
   "cell_type": "code",
   "execution_count": 31,
   "metadata": {},
   "outputs": [],
   "source": [
    "class GraphConv(nn.Module):\n",
    "\n",
    "    def __init__(self, in_features, out_features):\n",
    "        super(GraphConv, self).__init__()\n",
    "        self.in_features  = in_features\n",
    "        self.out_features = out_features\n",
    "        self.weight = nn.Parameter(torch.Tensor(in_features, out_features))\n",
    "        self.bias = nn.Parameter(torch.Tensor(out_features))\n",
    "        self.reset_parameters()\n",
    "    \n",
    "    def reset_parameters(self):\n",
    "        stdv = 1. / math.sqrt(self.weight.size(1))\n",
    "        self.weight.data.uniform_(-stdv, stdv)\n",
    "        self.bias.data.uniform_(-stdv, stdv)\n",
    "\n",
    "    def forward(self, input, adj):\n",
    "#         print(input.dtype, adj.dtype)\n",
    "        input = input.float()\n",
    "        adj   = adj.float()\n",
    "#         print(input.dtype, adj.dtype)\n",
    "        support = torch.mm(input, self.weight)\n",
    "        output = torch.mm(adj, support)     # permutation inv sum of all neighbor features\n",
    "        return output + self.bias\n",
    "\n",
    "    def __repr__(self):\n",
    "        return self.__class__.__name__ +' ('+str(self.in_features)+' -> '+str(self.out_features)+')'"
   ]
  },
  {
   "cell_type": "code",
   "execution_count": 32,
   "metadata": {},
   "outputs": [],
   "source": [
    "class VanillaGCN(nn.Module):\n",
    "\n",
    "    def __init__(self, nfeat, nhid, nclass, dropout):\n",
    "        super(VanillaGCN, self).__init__()\n",
    "        self.gc1 = GraphConv(nfeat, nhid)\n",
    "        self.gc2 = GraphConv(nhid, nclass)\n",
    "        self.dropout = dropout\n",
    "\n",
    "    def forward(self, x, adj):\n",
    "        x = F.relu(self.gc1(x, adj))\n",
    "        x = F.dropout(x, self.dropout, training=self.training)\n",
    "        x = self.gc2(x, adj)\n",
    "        return F.log_softmax(x, dim=1)\n",
    "    # TODO: try different activation functions"
   ]
  },
  {
   "cell_type": "code",
   "execution_count": 33,
   "metadata": {},
   "outputs": [],
   "source": [
    "# hyperparameters\n",
    "lr = 0.03\n",
    "epochs = 200\n",
    "wd = 5e-4\n",
    "hidden = 16\n",
    "dropout = 0.5\n",
    "fastmode = False"
   ]
  },
  {
   "cell_type": "code",
   "execution_count": 34,
   "metadata": {},
   "outputs": [],
   "source": [
    "def train(epoch, model, optimizer, features, adj, idx_train, idx_val, labels):\n",
    "    t = time.time()\n",
    "    model.train()\n",
    "    optimizer.zero_grad()\n",
    "    output = model(features, adj)\n",
    "    loss_train = F.nll_loss(output[idx_train], labels[idx_train])\n",
    "    acc_train = accuracy(output[idx_train], labels[idx_train])\n",
    "    loss_train.backward()\n",
    "    optimizer.step()\n",
    "    if not fastmode:\n",
    "        model.eval()\n",
    "    output = model(features, adj)\n",
    "    loss_val = F.nll_loss(output[idx_val], labels[idx_val])\n",
    "    acc_val = accuracy(output[idx_val], labels[idx_val])\n",
    "    if epoch % 10 == 0:\n",
    "        print('Epoch: {:04d}'.format(epoch+1),\n",
    "            'loss_train: {:.4f}'.format(loss_train.item()),\n",
    "            'loss_val: {:.4f}'.format(loss_val.item()),\n",
    "            'acc_val: {:.4f}'.format(acc_val.item()))\n",
    "    return loss_train.item(), loss_val.item()"
   ]
  },
  {
   "cell_type": "code",
   "execution_count": 35,
   "metadata": {},
   "outputs": [],
   "source": [
    "def test(model, features, adj, idx_test, labels):\n",
    "  model.eval()\n",
    "  output = model(features, adj)\n",
    "  loss_test = F.nll_loss(output[idx_test], labels[idx_test])\n",
    "  acc_test = accuracy(output[idx_test], labels[idx_test])\n",
    "  print(\"Test set results:\",\n",
    "        \"loss= {:.4f}\".format(loss_test.item()),\n",
    "        \"accuracy= {:.4f}\".format(acc_test.item()))"
   ]
  },
  {
   "cell_type": "code",
   "execution_count": 36,
   "metadata": {},
   "outputs": [],
   "source": [
    "def expt_loop(edge_type):\n",
    "    seed()\n",
    "    adj, features, labels, idx_train, idx_val, idx_test = dataloader(dfs, edge_type)\n",
    "    model = VanillaGCN(\n",
    "        nfeat   = features.shape[1], \n",
    "        nhid    = hidden, \n",
    "        nclass  = labels.max().item() + 1, \n",
    "        dropout = dropout\n",
    "    )\n",
    "    optimizer = optim.Adam(model.parameters(), lr=lr, weight_decay=wd)\n",
    "    train_losses, val_losses = [], []\n",
    "    for epoch in range(epochs):\n",
    "        loss_train, loss_val = train(epoch, model, optimizer, \n",
    "                                     features, adj, idx_train, idx_val, labels)\n",
    "        train_losses.append(loss_train)\n",
    "        val_losses.append(loss_val)\n",
    "    test(model, features, adj, idx_test, labels)\n",
    "    plt.plot(train_losses, label='Train Loss')\n",
    "    plt.plot(val_losses, label='Val Loss')\n",
    "    plt.grid()\n",
    "    plt.xlabel('Epochs')\n",
    "    plt.ylabel('NLLLoss')\n",
    "    plt.legend()\n",
    "    plt.show()"
   ]
  },
  {
   "cell_type": "code",
   "execution_count": 38,
   "metadata": {},
   "outputs": [
    {
     "name": "stdout",
     "output_type": "stream",
     "text": [
      "Epoch: 0001 loss_train: 0.7523 loss_val: 0.9276 acc_val: 0.4868\n",
      "Epoch: 0011 loss_train: 0.6858 loss_val: 0.6900 acc_val: 0.5724\n",
      "Epoch: 0021 loss_train: 0.6597 loss_val: 0.6817 acc_val: 0.5921\n",
      "Epoch: 0031 loss_train: 0.6114 loss_val: 0.6776 acc_val: 0.6184\n",
      "Epoch: 0041 loss_train: 0.5808 loss_val: 0.6880 acc_val: 0.6184\n",
      "Epoch: 0051 loss_train: 0.5711 loss_val: 0.6908 acc_val: 0.6053\n",
      "Epoch: 0061 loss_train: 0.5450 loss_val: 0.7209 acc_val: 0.6382\n",
      "Epoch: 0071 loss_train: 0.5441 loss_val: 0.7264 acc_val: 0.6184\n",
      "Epoch: 0081 loss_train: 0.5341 loss_val: 0.7363 acc_val: 0.6382\n",
      "Epoch: 0091 loss_train: 0.4927 loss_val: 0.7714 acc_val: 0.6382\n",
      "Epoch: 0101 loss_train: 0.5316 loss_val: 0.7708 acc_val: 0.6316\n",
      "Epoch: 0111 loss_train: 0.4839 loss_val: 0.7886 acc_val: 0.6053\n",
      "Epoch: 0121 loss_train: 0.5095 loss_val: 0.8441 acc_val: 0.6382\n",
      "Epoch: 0131 loss_train: 0.4896 loss_val: 0.8417 acc_val: 0.6316\n",
      "Epoch: 0141 loss_train: 0.4825 loss_val: 0.8755 acc_val: 0.6447\n",
      "Epoch: 0151 loss_train: 0.4888 loss_val: 0.9177 acc_val: 0.6447\n",
      "Epoch: 0161 loss_train: 0.5069 loss_val: 0.8578 acc_val: 0.6250\n",
      "Epoch: 0171 loss_train: 0.4971 loss_val: 0.8830 acc_val: 0.6316\n",
      "Epoch: 0181 loss_train: 0.5231 loss_val: 0.9300 acc_val: 0.6053\n",
      "Epoch: 0191 loss_train: 0.4758 loss_val: 0.9546 acc_val: 0.6447\n",
      "Test set results: loss= 0.9962 accuracy= 0.5692\n"
     ]
    },
    {
     "data": {
      "image/png": "[encoded data removed]",
      "text/plain": [
       "<Figure size 432x288 with 1 Axes>"
      ]
     },
     "metadata": {
      "needs_background": "light"
     },
     "output_type": "display_data"
    }
   ],
   "source": [
    "expt_loop('notifs')"
   ]
  },
  {
   "cell_type": "code",
   "execution_count": null,
   "metadata": {},
   "outputs": [],
   "source": []
  }
 ],
 "metadata": {
  "kernelspec": {
   "display_name": "Python 3",
   "language": "python",
   "name": "python3"
  },
  "language_info": {
   "codemirror_mode": {
    "name": "ipython",
    "version": 3
   },
   "file_extension": ".py",
   "mimetype": "text/x-python",
   "name": "python",
   "nbconvert_exporter": "python",
   "pygments_lexer": "ipython3",
   "version": "3.8.5"
  }
 },
 "nbformat": 4,
 "nbformat_minor": 4
}
