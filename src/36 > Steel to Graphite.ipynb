{
 "cells": [
  {
   "cell_type": "markdown",
   "metadata": {},
   "source": [
    "From the useful sheets, we have to formalize a GRL problem."
   ]
  },
  {
   "cell_type": "code",
   "execution_count": 1,
   "metadata": {},
   "outputs": [],
   "source": [
    "import pandas as pd\n",
    "import numpy as np\n",
    "import matplotlib.pyplot as plt\n",
    "%matplotlib inline\n",
    "import os\n",
    "import requests \n",
    "import io\n",
    "import seaborn as sns"
   ]
  },
  {
   "cell_type": "code",
   "execution_count": 2,
   "metadata": {},
   "outputs": [
    {
     "data": {
      "text/plain": [
       "['core_theme_settings_values.csv',\n",
       " 'orig_admin_login_logs.csv',\n",
       " 'core_sys_login.csv',\n",
       " 'core_theme_templates.csv']"
      ]
     },
     "execution_count": 2,
     "metadata": {},
     "output_type": "execute_result"
    }
   ],
   "source": [
    "PATH = '../data/'\n",
    "files = os.listdir(PATH)\n",
    "files[:4]"
   ]
  },
  {
   "cell_type": "code",
   "execution_count": 3,
   "metadata": {},
   "outputs": [],
   "source": [
    "dfs = {f[:-4] : pd.read_csv(PATH + f) \n",
    "           for f in files if f[-3:] == 'csv'\n",
    "}"
   ]
  },
  {
   "cell_type": "code",
   "execution_count": 4,
   "metadata": {},
   "outputs": [],
   "source": [
    "#3. comment_eid (event id?), comment_mid (member id?), \n",
    "#comment_text, comment_author (string name) might be useful.\n",
    "dfs['calendar_event_comments'].head(3);"
   ]
  },
  {
   "cell_type": "code",
   "execution_count": 5,
   "metadata": {},
   "outputs": [],
   "source": [
    "#16. follow_rel_id (?) and follow_member_id may be useful.\n",
    "dfs['core_follow'];"
   ]
  },
  {
   "cell_type": "code",
   "execution_count": 6,
   "metadata": {},
   "outputs": [],
   "source": [
    "#25. All Users. Important.\n",
    "# member_id is unique and reflected across all csvs (total 1207)\n",
    "# all other things like DoB, IP, etc are most likely spoof\n",
    "# Difference between name and member_title\n",
    "# What is member_group_id?\n",
    "# ID 4, 6, 10 are core moderators (from core_moderators)\n",
    "dfs['core_members'];"
   ]
  },
  {
   "cell_type": "code",
   "execution_count": 7,
   "metadata": {},
   "outputs": [],
   "source": [
    "#29. Important. All Private Messages. Total 21715.\n",
    "# msg_topic_id is the thread ID; each convo bw two users has its own thread/topic\n",
    "# msg_author_id is the same as member_id in core_members\n",
    "# msg_post is the first message in the thread, with HTML tags\n",
    "dfs['core_message_posts'].head(5);"
   ]
  },
  {
   "cell_type": "code",
   "execution_count": 8,
   "metadata": {},
   "outputs": [],
   "source": [
    "#30. All Private Message Topics (total 4475)\n",
    "# mt_id is same as msg_topic_id from core_message_posts\n",
    "# mt_starter_id is the member_id of the person who put the first message on that topic\n",
    "# mt_to_member_id is the member_id of the recipient of this private message\n",
    "dfs['core_message_topics'].head(5);"
   ]
  },
  {
   "cell_type": "code",
   "execution_count": 9,
   "metadata": {},
   "outputs": [],
   "source": [
    "#35. Pfields for each member. Total 1208. Could be used for node classification.\n",
    "dfs['core_pfields_content'].head(3);"
   ]
  },
  {
   "cell_type": "code",
   "execution_count": 10,
   "metadata": {},
   "outputs": [],
   "source": [
    "#43. Important. All Posts. Total 196042.\n",
    "# index_content has the post content.\n",
    "# index_author is the member_id of the authon of that post.\n",
    "dfs['core_search_index'].head(4);"
   ]
  },
  {
   "cell_type": "code",
   "execution_count": 11,
   "metadata": {},
   "outputs": [],
   "source": [
    "#75. Useful. Notification Graph could give us very informative edges.\n",
    "# from notify_from_id to notify_to_id based on notify_type_key\n",
    "# and notify_type_key could be a nice edge feature\n",
    "dfs['orig_inline_notifications'].notify_type_key.value_counts();\n",
    "dfs['orig_inline_notifications'].head(5);"
   ]
  },
  {
   "cell_type": "code",
   "execution_count": 12,
   "metadata": {},
   "outputs": [
    {
     "name": "stdout",
     "output_type": "stream",
     "text": [
      "based on username\n",
      "1207 763\n",
      "0.44 = fraction of original members in core members.\n",
      "0.28 = fraction of core members in original members.\n",
      "based on member_id\n",
      "1207 763\n",
      "0.56 = fraction of original members in core members.\n",
      "0.35 = fraction of core members in original members.\n"
     ]
    }
   ],
   "source": [
    "#76. 763 Original members.\n",
    "sum(dfs['orig_members'].email.isnull())\n",
    "orig_members = [name for name in dfs['orig_members'].name]\n",
    "core_members = [name for name in dfs['core_members'].name]\n",
    "print('based on username')\n",
    "print(len(core_members), len(orig_members))\n",
    "print(round(np.mean([\n",
    "    user in core_members\n",
    "    for user in orig_members\n",
    "]), 2),\n",
    "     '= fraction of original members in core members.')\n",
    "print(round(np.mean([\n",
    "    user in orig_members\n",
    "    for user in core_members\n",
    "]), 2),\n",
    "     '= fraction of core members in original members.')\n",
    "print('based on member_id')\n",
    "orig_members = [user for user in dfs['orig_members'].member_id]\n",
    "core_members = [user for user in dfs['core_members'].member_id]\n",
    "print(len(core_members), len(orig_members))\n",
    "print(round(np.mean([\n",
    "    user in core_members\n",
    "    for user in orig_members\n",
    "]), 2),\n",
    "     '= fraction of original members in core members.')\n",
    "print(round(np.mean([\n",
    "    user in orig_members\n",
    "    for user in core_members\n",
    "]), 2),\n",
    "     '= fraction of core members in original members.')\n"
   ]
  },
  {
   "cell_type": "code",
   "execution_count": 13,
   "metadata": {},
   "outputs": [],
   "source": [
    "#78. Useful. But don't fully understand.\n",
    "# Mapping from user_id to topic_id, might help connect users.\n",
    "dfs['orig_message_topic_user_map'];"
   ]
  },
  {
   "cell_type": "code",
   "execution_count": 14,
   "metadata": {},
   "outputs": [],
   "source": [
    "#79 All Orig Message Topics (total 3101)\n",
    "# mt_id is same as map_topic_id from orig_message_topic_user_map\n",
    "# mt_starter_id is the member_id of the person who put the first message on that topic\n",
    "# mt_to_member_id is the member_id of the recipient of this message\n",
    "dfs['orig_message_topics'].head(5);"
   ]
  },
  {
   "cell_type": "code",
   "execution_count": 15,
   "metadata": {},
   "outputs": [],
   "source": [
    "#82. pfields of 764 members. Might help in node features.\n",
    "dfs['orig_pfields_content'].head(5);"
   ]
  },
  {
   "cell_type": "code",
   "execution_count": 16,
   "metadata": {},
   "outputs": [],
   "source": [
    "#87. Only 20 rows. While it has id, rid, comment_by, author_name, 20 prolly won't help\n",
    "dfs['orig_rc_comments'];"
   ]
  },
  {
   "cell_type": "code",
   "execution_count": 17,
   "metadata": {},
   "outputs": [],
   "source": [
    "#92. What is reputation? Total 141550\n",
    "# 635 users have a reputation index, could be used for node classification or features?\n",
    "dfs['orig_reputation_index'];"
   ]
  },
  {
   "cell_type": "code",
   "execution_count": null,
   "metadata": {},
   "outputs": [],
   "source": []
  }
 ],
 "metadata": {
  "kernelspec": {
   "display_name": "env",
   "language": "python",
   "name": "env"
  },
  "language_info": {
   "codemirror_mode": {
    "name": "ipython",
    "version": 3
   },
   "file_extension": ".py",
   "mimetype": "text/x-python",
   "name": "python",
   "nbconvert_exporter": "python",
   "pygments_lexer": "ipython3",
   "version": "3.8.2"
  }
 },
 "nbformat": 4,
 "nbformat_minor": 4
}
