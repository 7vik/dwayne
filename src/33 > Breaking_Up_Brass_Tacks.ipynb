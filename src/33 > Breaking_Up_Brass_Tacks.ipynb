{
  "nbformat": 4,
  "nbformat_minor": 0,
  "metadata": {
    "colab": {
      "name": "33 > Breaking Up Brass Tacks",
      "provenance": [],
      "collapsed_sections": []
    },
    "kernelspec": {
      "name": "python3",
      "display_name": "Python 3"
    }
  },
  "cells": [
    {
      "cell_type": "markdown",
      "metadata": {
        "id": "uU9D21DXQmsg",
        "colab_type": "text"
      },
      "source": [
        "The nuts and bolts of Deep Graph Learning, with loading graph data and training a Vanilla GCN in PyTorch."
      ]
    },
    {
      "cell_type": "code",
      "metadata": {
        "id": "qDXNmqzP7jkV",
        "colab_type": "code",
        "colab": {
          "base_uri": "https://localhost:8080/",
          "height": 35
        },
        "outputId": "2590a62d-c1b2-4828-88e3-82835bf57de3"
      },
      "source": [
        "import torch\n",
        "torch.__version__"
      ],
      "execution_count": 181,
      "outputs": [
        {
          "output_type": "execute_result",
          "data": {
            "application/vnd.google.colaboratory.intrinsic+json": {
              "type": "string"
            },
            "text/plain": [
              "'1.6.0+cu101'"
            ]
          },
          "metadata": {
            "tags": []
          },
          "execution_count": 181
        }
      ]
    },
    {
      "cell_type": "code",
      "metadata": {
        "id": "31Cv_pAy8x_s",
        "colab_type": "code",
        "colab": {}
      },
      "source": [
        "# downloading the Cora Dataset\n",
        "! wget -q https://github.com/tkipf/pygcn/raw/master/data/cora/cora.cites\n",
        "! wget -q https://github.com/tkipf/pygcn/raw/master/data/cora/cora.content"
      ],
      "execution_count": 182,
      "outputs": []
    },
    {
      "cell_type": "code",
      "metadata": {
        "id": "PB0Ogz8UEF70",
        "colab_type": "code",
        "colab": {}
      },
      "source": [
        "# sparse matrices have a different encoding that saves space (doesn't store lots of zeros)\n",
        "import numpy as np\n",
        "import scipy.sparse as sp\n",
        "import torch"
      ],
      "execution_count": 183,
      "outputs": []
    },
    {
      "cell_type": "code",
      "metadata": {
        "id": "1qXsZbm40boo",
        "colab_type": "code",
        "colab": {}
      },
      "source": [
        "# one-hot encode a list\n",
        "def encode_onehot(labels):\n",
        "  classes = set(labels)\n",
        "  classes_dict = {c : np.identity(len(classes))[i, :] for i, c in enumerate(classes)}\n",
        "  labels_oh = np.array(list(map(classes_dict.get, labels)), dtype=np.int32)\n",
        "  return labels_oh"
      ],
      "execution_count": 184,
      "outputs": []
    },
    {
      "cell_type": "code",
      "metadata": {
        "id": "Otls5JeCmTBH",
        "colab_type": "code",
        "colab": {
          "base_uri": "https://localhost:8080/",
          "height": 84
        },
        "outputId": "19235d96-9d77-49ae-d5a9-a416afd5adb2"
      },
      "source": [
        "encode_onehot(['apple', 'mango', 'banana', 'apple'])"
      ],
      "execution_count": 185,
      "outputs": [
        {
          "output_type": "execute_result",
          "data": {
            "text/plain": [
              "array([[0, 1, 0],\n",
              "       [0, 0, 1],\n",
              "       [1, 0, 0],\n",
              "       [0, 1, 0]], dtype=int32)"
            ]
          },
          "metadata": {
            "tags": []
          },
          "execution_count": 185
        }
      ]
    },
    {
      "cell_type": "markdown",
      "metadata": {
        "id": "cD0y3irJ2ziT",
        "colab_type": "text"
      },
      "source": [
        "## The Dataset (Cora)\n",
        "\n",
        "The Cora dataset consists of ML papers, classified into one of the following seven classes:\n",
        "-\tCase_Based\n",
        "-\tGenetic_Algorithms\n",
        "-\tNeural_Networks\n",
        "-\tProbabilistic_Methods\n",
        "-\tReinforcement_Learning\n",
        "-\tRule_Learning\n",
        "-\tTheory\n",
        "\n",
        "The papers were selected in a way such that in the final corpus every paper cites or is cited by atleast one other paper. There are 2708 papers in the whole corpus. \n",
        "\n",
        "(This means the graph is a fully spanning graph with 2708 reachable nodes)\n",
        "\n",
        "After stemming and removing stopwords we were left with a vocabulary of size 1433 unique words. \n",
        "\n",
        "`cora.content` contains descriptions of the papers in the following format:\n",
        "\n",
        "\t\t<paper_id> <word_attributes> <class_label>\n",
        "\n",
        "The first entry in each line contains the unique string ID of the paper followed by binary values indicating whether each word in the vocabulary is present (indicated by 1) or absent (indicated by 0) in the paper. Finally, the last entry in the line contains the class label of the paper.\n",
        "\n",
        "`cora.cites` contains the citation graph of the corpus. Each line describes a link in the following format:\n",
        "\n",
        "\t\t<ID of cited paper> <ID of citing paper>\n",
        "\n",
        "Each line contains two paper IDs. The first entry is the ID of the paper being cited and the second ID stands for the paper which contains the citation. The direction of the link is from right to left. If a line is represented by \"paper1 paper2\" then the link is \"paper2->paper1\". "
      ]
    },
    {
      "cell_type": "code",
      "metadata": {
        "id": "5MGxSEDOioU1",
        "colab_type": "code",
        "colab": {}
      },
      "source": [
        "# normalize a matrix row-wise\n",
        "def normalize(mx):\n",
        "  rowsum = np.array(mx.sum(1))\n",
        "  r_inv  = np.power(rowsum, -1).flatten()\n",
        "  r_inv[np.isinf(r_inv)] = 0.\n",
        "  r_mat_inv = sp.diags(r_inv)\n",
        "  mx = r_mat_inv.dot(mx)\n",
        "  return mx"
      ],
      "execution_count": 186,
      "outputs": []
    },
    {
      "cell_type": "code",
      "metadata": {
        "id": "b1daJFw_rkF8",
        "colab_type": "code",
        "colab": {}
      },
      "source": [
        "def dataloader(path='./', dataset='cora'):\n",
        "  idxs, features, labels = load_nodes(path, dataset)\n",
        "  idxs_map = {j : i for i, j in enumerate(idxs)}                      \n",
        "  adj = load_adj(path, dataset, idxs_map, labels)\n",
        "  features = normalize(features)\n",
        "  adj = normalize(adj + sp.eye(adj.shape[0]))                         # add self loops\n",
        "  idx_train, idx_val, idx_test = train_val_test_split(adj.shape[0])\n",
        "  features = torch.FloatTensor(np.array(features.todense()))\n",
        "  labels = torch.LongTensor(np.where(labels)[1])\n",
        "  adj = sparse_mx_to_torch_sparse_tensor(adj)\n",
        "  return adj, features, labels, idx_train, idx_val, idx_test"
      ],
      "execution_count": 187,
      "outputs": []
    },
    {
      "cell_type": "code",
      "metadata": {
        "id": "nGy_SLugrkM8",
        "colab_type": "code",
        "colab": {}
      },
      "source": [
        "def load_nodes(path, dataset):\n",
        "  nodes = np.genfromtxt(f'{path}{dataset}.content', dtype=np.dtype(str)) # index, features.., label\n",
        "  features = sp.csr_matrix(nodes[:, 1:-1], dtype=np.float32) # one-hot dictionary words\n",
        "  labels = encode_onehot(nodes[:, -1]) # the target to predict\n",
        "  idxs = np.array(nodes[:, 0], dtype=np.int32) # the index of the papers (UID)\n",
        "  return idxs, features, labels"
      ],
      "execution_count": 188,
      "outputs": []
    },
    {
      "cell_type": "code",
      "metadata": {
        "id": "yI7hUlUcrkSH",
        "colab_type": "code",
        "colab": {}
      },
      "source": [
        "def load_adj(path, dataset, idxs_map, labels):\n",
        "  edges_unordered = np.genfromtxt(f'{path}{dataset}.cites', dtype=np.int32)\n",
        "  edges = np.array(list(map(idxs_map.get, edges_unordered.flatten())), dtype=np.int32)\n",
        "  edges = edges.reshape(edges_unordered.shape)\n",
        "  edges_t = (np.ones(edges.shape[0]), (edges[:, 0], edges[:, 1]))\n",
        "  adj = sp.coo_matrix(edges_t, shape=(labels.shape[0], labels.shape[0]), dtype=np.float32)\n",
        "  adj = adj + adj.T.multiply(adj.T > adj) - adj.multiply(adj.T > adj)              # undirected graph\n",
        "  return adj"
      ],
      "execution_count": 189,
      "outputs": []
    },
    {
      "cell_type": "code",
      "metadata": {
        "id": "xnAv-GFNrkKC",
        "colab_type": "code",
        "colab": {}
      },
      "source": [
        "def sparse_mx_to_torch_sparse_tensor(sparse_mx):\n",
        "  sparse_mx = sparse_mx.tocoo().astype(np.float32)\n",
        "  indices = torch.from_numpy(np.vstack((sparse_mx.row, sparse_mx.col)).astype(np.int64))\n",
        "  values = torch.from_numpy(sparse_mx.data)\n",
        "  shape = torch.Size(sparse_mx.shape)\n",
        "  return torch.sparse.FloatTensor(indices, values, shape)"
      ],
      "execution_count": 190,
      "outputs": []
    },
    {
      "cell_type": "code",
      "metadata": {
        "id": "OQ6V5rOom1UL",
        "colab_type": "code",
        "colab": {}
      },
      "source": [
        "def train_val_test_split(num_nodes, train=0.15, val=0.15):\n",
        "  idx_train = np.random.choice(range(num_nodes), int(train * num_nodes), replace=False)\n",
        "  idx_vt = list(set(range(num_nodes)) - set(idx_train))\n",
        "  idx_val = np.random.choice(idx_vt, int(val * num_nodes), replace=False)\n",
        "  idx_test = list(set(idx_vt) - set(idx_val))\n",
        "  idx_train = torch.LongTensor(idx_train)\n",
        "  idx_val = torch.LongTensor(idx_val)\n",
        "  idx_test = torch.LongTensor(idx_test)\n",
        "  return idx_train, idx_val, idx_test"
      ],
      "execution_count": 191,
      "outputs": []
    },
    {
      "cell_type": "code",
      "metadata": {
        "id": "VWwtAx_n1QZ5",
        "colab_type": "code",
        "colab": {}
      },
      "source": [
        "def accuracy(output, labels):\n",
        "  preds   = output.max(1)[1].type_as(labels)\n",
        "  correct = preds.eq(labels).double()\n",
        "  correct = correct.sum()\n",
        "  return correct / len(labels)"
      ],
      "execution_count": 192,
      "outputs": []
    },
    {
      "cell_type": "code",
      "metadata": {
        "id": "qS2WImyf1QeU",
        "colab_type": "code",
        "colab": {}
      },
      "source": [
        "adj, features, labels, idx_train, idx_val, idx_test = dataloader()"
      ],
      "execution_count": 193,
      "outputs": []
    },
    {
      "cell_type": "code",
      "metadata": {
        "id": "s6mmOVexAd0Z",
        "colab_type": "code",
        "colab": {
          "base_uri": "https://localhost:8080/",
          "height": 34
        },
        "outputId": "36c05121-da70-4bb5-eff3-bdcaee37771e"
      },
      "source": [
        "idx_train.shape, idx_val.shape, idx_test.shape"
      ],
      "execution_count": 194,
      "outputs": [
        {
          "output_type": "execute_result",
          "data": {
            "text/plain": [
              "(torch.Size([406]), torch.Size([406]), torch.Size([1896]))"
            ]
          },
          "metadata": {
            "tags": []
          },
          "execution_count": 194
        }
      ]
    },
    {
      "cell_type": "code",
      "metadata": {
        "id": "f3kvNBRCC4fh",
        "colab_type": "code",
        "colab": {
          "base_uri": "https://localhost:8080/",
          "height": 34
        },
        "outputId": "ae61e90b-55ee-4223-ac69-7690117fb9a9"
      },
      "source": [
        "features.shape"
      ],
      "execution_count": 195,
      "outputs": [
        {
          "output_type": "execute_result",
          "data": {
            "text/plain": [
              "torch.Size([2708, 1433])"
            ]
          },
          "metadata": {
            "tags": []
          },
          "execution_count": 195
        }
      ]
    },
    {
      "cell_type": "code",
      "metadata": {
        "id": "L1_GUNxp9F8J",
        "colab_type": "code",
        "colab": {}
      },
      "source": [
        "import math\n",
        "import torch.nn as nn\n",
        "import torch.nn.functional as F\n",
        "import torch.optim as optim\n",
        "import matplotlib.pyplot as plt\n",
        "%matplotlib inline"
      ],
      "execution_count": 196,
      "outputs": []
    },
    {
      "cell_type": "code",
      "metadata": {
        "id": "fmCLk5B7DDdq",
        "colab_type": "code",
        "colab": {}
      },
      "source": [
        "class GraphConv(nn.Module):\n",
        "\n",
        "  def __init__(self, in_features, out_features):\n",
        "    super(GraphConv, self).__init__()\n",
        "    self.in_features  = in_features\n",
        "    self.out_features = out_features\n",
        "    self.weight = nn.Parameter(torch.Tensor(in_features, out_features))\n",
        "    self.bias = nn.Parameter(torch.Tensor(out_features))\n",
        "    self.reset_parameters()\n",
        "    \n",
        "  def reset_parameters(self):\n",
        "    stdv = 1. / math.sqrt(self.weight.size(1))\n",
        "    self.weight.data.uniform_(-stdv, stdv)\n",
        "    self.bias.data.uniform_(-stdv, stdv)\n",
        "\n",
        "  def forward(self, input, adj):\n",
        "    support = torch.mm(input, self.weight)\n",
        "    output = torch.spmm(adj, support)     # permutation inv sum of all neighbor features\n",
        "    return output + self.bias\n",
        "\n",
        "    def __repr__(self):\n",
        "      return self.__class__.__name__ +' ('+str(self.in_features)+' -> '+str(self.out_features)+')'"
      ],
      "execution_count": 197,
      "outputs": []
    },
    {
      "cell_type": "code",
      "metadata": {
        "id": "3-i7AIU4D-Lf",
        "colab_type": "code",
        "colab": {}
      },
      "source": [
        "class VanillaGCN(nn.Module):\n",
        "\n",
        "  def __init__(self, nfeat, nhid, nclass, dropout):\n",
        "    super(VanillaGCN, self).__init__()\n",
        "    self.gc1 = GraphConv(nfeat, nhid)\n",
        "    self.gc3 = GraphConv(nhid, nhid)\n",
        "    self.gc2 = GraphConv(nhid, nclass)\n",
        "    self.dropout = dropout\n",
        "\n",
        "  def forward(self, x, adj):\n",
        "    x = F.relu(self.gc1(x, adj))\n",
        "    x = F.dropout(x, self.dropout, training=self.training)\n",
        "    x = F.relu(self.gc3(x, adj))\n",
        "    x = self.gc2(x, adj)\n",
        "    return F.log_softmax(x, dim=1)"
      ],
      "execution_count": 216,
      "outputs": []
    },
    {
      "cell_type": "code",
      "metadata": {
        "id": "ah8cnedjDV5k",
        "colab_type": "code",
        "colab": {}
      },
      "source": [
        "CUDA = torch.cuda.is_available()\n",
        "SEED = 42\n",
        "torch.manual_seed(SEED)\n",
        "if CUDA: torch.cuda.manual_seed(SEED)\n",
        "np.random.seed(SEED)"
      ],
      "execution_count": 217,
      "outputs": []
    },
    {
      "cell_type": "code",
      "metadata": {
        "id": "wYTovIOKTsHY",
        "colab_type": "code",
        "colab": {}
      },
      "source": [
        "lr = 0.01\n",
        "# epochs = 200\n",
        "epochs = 200\n",
        "wd = 5e-4\n",
        "hidden = 16\n",
        "dropout = 0.5\n",
        "fastmode = False"
      ],
      "execution_count": 226,
      "outputs": []
    },
    {
      "cell_type": "code",
      "metadata": {
        "id": "f_VgUNPOT_ad",
        "colab_type": "code",
        "colab": {}
      },
      "source": [
        "model = VanillaGCN(nfeat=features.shape[1], nhid=hidden, nclass=labels.max().item() + 1, dropout=dropout)\n",
        "optimizer = optim.Adam(model.parameters(), lr=lr, weight_decay=wd)"
      ],
      "execution_count": 227,
      "outputs": []
    },
    {
      "cell_type": "code",
      "metadata": {
        "id": "VRBuPNDMD5Ad",
        "colab_type": "code",
        "colab": {}
      },
      "source": [
        "if CUDA:\n",
        "  model.cuda()\n",
        "  features = features.cuda()\n",
        "  adj = adj.cuda()\n",
        "  labels = labels.cuda()\n",
        "  idx_train = idx_train.cuda()\n",
        "  idx_val = idx_val.cuda()\n",
        "  idx_test = idx_test.cuda()"
      ],
      "execution_count": 228,
      "outputs": []
    },
    {
      "cell_type": "code",
      "metadata": {
        "id": "5lRmy_Y6SVqQ",
        "colab_type": "code",
        "colab": {}
      },
      "source": [
        "def train(epoch):\n",
        "  t = time.time()\n",
        "  model.train()\n",
        "  optimizer.zero_grad()\n",
        "  output = model(features, adj)\n",
        "  loss_train = F.nll_loss(output[idx_train], labels[idx_train])\n",
        "  acc_train = accuracy(output[idx_train], labels[idx_train])\n",
        "  loss_train.backward()\n",
        "  optimizer.step()\n",
        "  if not fastmode:\n",
        "      model.eval()\n",
        "      output = model(features, adj)\n",
        "  loss_val = F.nll_loss(output[idx_val], labels[idx_val])\n",
        "  acc_val = accuracy(output[idx_val], labels[idx_val])\n",
        "  if epoch % 10 == 0:\n",
        "    print('Epoch: {:04d}'.format(epoch+1),\n",
        "        'loss_train: {:.4f}'.format(loss_train.item()),\n",
        "        'loss_val: {:.4f}'.format(loss_val.item()),\n",
        "        'acc_val: {:.4f}'.format(acc_val.item()))\n",
        "  return loss_train.item(), loss_val.item()"
      ],
      "execution_count": 229,
      "outputs": []
    },
    {
      "cell_type": "code",
      "metadata": {
        "id": "7qEw8X6gSlet",
        "colab_type": "code",
        "colab": {}
      },
      "source": [
        "def test():\n",
        "  model.eval()\n",
        "  output = model(features, adj)\n",
        "  loss_test = F.nll_loss(output[idx_test], labels[idx_test])\n",
        "  acc_test = accuracy(output[idx_test], labels[idx_test])\n",
        "  print(\"Test set results:\",\n",
        "        \"loss= {:.4f}\".format(loss_test.item()),\n",
        "        \"accuracy= {:.4f}\".format(acc_test.item()))"
      ],
      "execution_count": 230,
      "outputs": []
    },
    {
      "cell_type": "code",
      "metadata": {
        "id": "1BjAiO1tSOSd",
        "colab_type": "code",
        "colab": {
          "base_uri": "https://localhost:8080/",
          "height": 386
        },
        "outputId": "770edebf-7370-4f84-b811-b56727615abd"
      },
      "source": [
        "import time\n",
        "t_total = time.time()\n",
        "train_losses, val_losses = [], []\n",
        "for epoch in range(epochs):\n",
        "  loss_train, loss_val = train(epoch)\n",
        "  train_losses.append(loss_train)\n",
        "  val_losses.append(loss_val)\n",
        "print(\"Optimization Finished!\")\n",
        "print(\"Total time elapsed: {:.4f}s\".format(time.time() - t_total))"
      ],
      "execution_count": 231,
      "outputs": [
        {
          "output_type": "stream",
          "text": [
            "Epoch: 0001 loss_train: 1.9926 loss_val: 1.9627 acc_val: 0.0764\n",
            "Epoch: 0011 loss_train: 1.8385 loss_val: 1.8374 acc_val: 0.2956\n",
            "Epoch: 0021 loss_train: 1.7642 loss_val: 1.7984 acc_val: 0.2956\n",
            "Epoch: 0031 loss_train: 1.6331 loss_val: 1.6725 acc_val: 0.3547\n",
            "Epoch: 0041 loss_train: 1.4116 loss_val: 1.4765 acc_val: 0.4163\n",
            "Epoch: 0051 loss_train: 1.2210 loss_val: 1.3164 acc_val: 0.5172\n",
            "Epoch: 0061 loss_train: 1.0190 loss_val: 1.1598 acc_val: 0.6453\n",
            "Epoch: 0071 loss_train: 0.8321 loss_val: 0.9927 acc_val: 0.7143\n",
            "Epoch: 0081 loss_train: 0.6560 loss_val: 0.8517 acc_val: 0.7635\n",
            "Epoch: 0091 loss_train: 0.4930 loss_val: 0.7492 acc_val: 0.8030\n",
            "Epoch: 0101 loss_train: 0.4051 loss_val: 0.6978 acc_val: 0.8325\n",
            "Epoch: 0111 loss_train: 0.3406 loss_val: 0.6770 acc_val: 0.8300\n",
            "Epoch: 0121 loss_train: 0.3333 loss_val: 0.6536 acc_val: 0.8350\n",
            "Epoch: 0131 loss_train: 0.2903 loss_val: 0.6298 acc_val: 0.8276\n",
            "Epoch: 0141 loss_train: 0.2639 loss_val: 0.6094 acc_val: 0.8325\n",
            "Epoch: 0151 loss_train: 0.2168 loss_val: 0.6250 acc_val: 0.8300\n",
            "Epoch: 0161 loss_train: 0.1991 loss_val: 0.6133 acc_val: 0.8300\n",
            "Epoch: 0171 loss_train: 0.2060 loss_val: 0.6125 acc_val: 0.8276\n",
            "Epoch: 0181 loss_train: 0.1982 loss_val: 0.6253 acc_val: 0.8202\n",
            "Epoch: 0191 loss_train: 0.2056 loss_val: 0.6196 acc_val: 0.8300\n",
            "Optimization Finished!\n",
            "Total time elapsed: 4.2040s\n"
          ],
          "name": "stdout"
        }
      ]
    },
    {
      "cell_type": "code",
      "metadata": {
        "id": "2aOHpfjmTyQb",
        "colab_type": "code",
        "colab": {
          "base_uri": "https://localhost:8080/",
          "height": 34
        },
        "outputId": "aba266a9-c8f7-4e1b-9b48-88f7490afa14"
      },
      "source": [
        "test()"
      ],
      "execution_count": 232,
      "outputs": [
        {
          "output_type": "stream",
          "text": [
            "Test set results: loss= 0.6001 accuracy= 0.8318\n"
          ],
          "name": "stdout"
        }
      ]
    },
    {
      "cell_type": "code",
      "metadata": {
        "id": "GLmJbYibYj_n",
        "colab_type": "code",
        "colab": {
          "base_uri": "https://localhost:8080/",
          "height": 296
        },
        "outputId": "869dbe1c-6ab9-488d-fb9b-4d7580127b11"
      },
      "source": [
        "plt.plot(train_losses, label='Train Loss')\n",
        "plt.plot(val_losses, label='Val Loss')\n",
        "plt.grid()\n",
        "plt.xlabel('Epochs')\n",
        "plt.ylabel('NLLLoss')\n",
        "plt.legend()"
      ],
      "execution_count": 233,
      "outputs": [
        {
          "output_type": "execute_result",
          "data": {
            "text/plain": [
              "<matplotlib.legend.Legend at 0x7f16d5a2d160>"
            ]
          },
          "metadata": {
            "tags": []
          },
          "execution_count": 233
        },
        {
          "output_type": "display_data",
          "data": {
            "image/png": "[encoded data removed]",
            "text/plain": [
              "<Figure size 432x288 with 1 Axes>"
            ]
          },
          "metadata": {
            "tags": [],
            "needs_background": "light"
          }
        }
      ]
    },
    {
      "cell_type": "markdown",
      "metadata": {
        "id": "gilds_d0Ve82",
        "colab_type": "text"
      },
      "source": [
        "Sometime soon, we'll have week-13 of [this](https://www.youtube.com/watch?v=f01J0Dri-6k&list=PLLHTzKZzVU9eaEyErdV26ikyolxOsz6mq&index=24&t=0s) and that should be really good!\n",
        "\n",
        "Also, ICML 2020 had a workshop on [GRL+](https://slideslive.com/icml-2020/graph-representation-learning-and-beyond-grl), should definitely watch relevant presentations"
      ]
    },
    {
      "cell_type": "code",
      "metadata": {
        "id": "JbIoYTSaXbue",
        "colab_type": "code",
        "colab": {}
      },
      "source": [
        ""
      ],
      "execution_count": null,
      "outputs": []
    },
    {
      "cell_type": "code",
      "metadata": {
        "id": "IbYum6i8VeRp",
        "colab_type": "code",
        "colab": {}
      },
      "source": [
        ""
      ],
      "execution_count": null,
      "outputs": []
    },
    {
      "cell_type": "markdown",
      "metadata": {
        "id": "ys_LmAYSs7xb",
        "colab_type": "text"
      },
      "source": [
        "### Experiment Journal:\n",
        "\n",
        "1. Default hyperparams, default splits (140, 300, 1000) => 0.81\n",
        "2. Default hyperparams, splits (200, 300, 1000) => 0.83\n",
        "3. Default hyperparamas, random splits (0.1, 0.2, 0.7) => 0.8044\n",
        "4. Default hyperparamas, random splits (0.5, 0.2, 0.3) => 0.8918\n",
        "5. Default hyperparamas, random splits (0.5, 0.2, 0.3) without bias => 0.8512\n",
        "5. 100 epochs, 1 hidden layer, random splits (0.15, 0.15, 0.7) without bias => 0.7342\n",
        "5. 100 epochs, 2 hidden layer, random splits (0.15, 0.15, 0.7) without bias => 0.7453"
      ]
    },
    {
      "cell_type": "code",
      "metadata": {
        "id": "0Ok_6Jpgx8jU",
        "colab_type": "code",
        "colab": {}
      },
      "source": [
        ""
      ],
      "execution_count": null,
      "outputs": []
    }
  ]
}