{
 "cells": [
  {
   "cell_type": "markdown",
   "metadata": {},
   "source": [
    "From the following from ORIG, we have to formalize a GRL problem.\n",
    "\n",
    "And reading the two papers: `../papers/Key-Players-GNN-19.pdf` and `../papers/DarkWeb-Pred.pdf`"
   ]
  },
  {
   "cell_type": "markdown",
   "metadata": {},
   "source": [
    "What all is useful here:\n",
    "- orig_members: member_id (763)\n",
    "- orig_inline_notifications: notify_from_id, notify_to_id (47066)\n",
    "- orig_message_topic_user_map: map_user_id, map_topic_id (6025)\n",
    "- orig_message_topics: mt_starter_id, mt_to_member_id, mt_id (3101)\n",
    "- orig_reputation_index: member_id (141550)\n",
    "\n",
    "NOTE: Make sure to adjust some inconsistencies in members before trying out GRL."
   ]
  },
  {
   "cell_type": "code",
   "execution_count": 3,
   "metadata": {},
   "outputs": [],
   "source": [
    "import pandas as pd\n",
    "import numpy as np\n",
    "import matplotlib.pyplot as plt\n",
    "%matplotlib inline\n",
    "import os\n",
    "import requests \n",
    "import io\n",
    "import seaborn as sns"
   ]
  },
  {
   "cell_type": "markdown",
   "metadata": {},
   "source": [
    "Graph Formulation:\n",
    "\n",
    "**Nodes**: Members (total 763)\n",
    "\n",
    "**Node Features**: (the node label for classification)\n",
    "- Reputation Value \n",
    "\n",
    "**Edges**: (both can be treated as directed edges)\n",
    "- Notifications (total 47066)\n",
    "- Private Messages (total 3101)"
   ]
  },
  {
   "cell_type": "code",
   "execution_count": 23,
   "metadata": {},
   "outputs": [],
   "source": [
    "PATH = '../data/'\n",
    "files = os.listdir(PATH)\n",
    "dfs = {f[:-4] : pd.read_csv(PATH + f) \n",
    "           for f in files if f[-3:] == 'csv'\n",
    "}"
   ]
  },
  {
   "cell_type": "markdown",
   "metadata": {},
   "source": [
    "Now, we need to fit this problem into the Vanilla GCN implementation by Kipf!"
   ]
  },
  {
   "cell_type": "code",
   "execution_count": 26,
   "metadata": {},
   "outputs": [],
   "source": [
    "# first, make Python lists of all the relevant data\n",
    "members = sorted(list(dfs['orig_members'].member_id))"
   ]
  },
  {
   "cell_type": "code",
   "execution_count": 31,
   "metadata": {},
   "outputs": [
    {
     "data": {
      "text/plain": [
       "(763, 74)"
      ]
     },
     "execution_count": 31,
     "metadata": {},
     "output_type": "execute_result"
    }
   ],
   "source": [
    "dfs['orig_members'].shape"
   ]
  },
  {
   "cell_type": "code",
   "execution_count": 35,
   "metadata": {},
   "outputs": [],
   "source": [
    "reputation = [[m, sum(dfs['orig_reputation_index'].member_id == m)]\n",
    "              for m in members]"
   ]
  },
  {
   "cell_type": "code",
   "execution_count": 45,
   "metadata": {},
   "outputs": [
    {
     "data": {
      "text/plain": [
       "17.0"
      ]
     },
     "execution_count": 45,
     "metadata": {},
     "output_type": "execute_result"
    }
   ],
   "source": [
    "# maybe using 17.0 as the cutoff\n",
    "just_reps = [reputation[z][1] for z in range(reputation.__len__())]\n",
    "med_reps  = np.median(just_reps)\n",
    "med_reps"
   ]
  },
  {
   "cell_type": "code",
   "execution_count": 51,
   "metadata": {},
   "outputs": [],
   "source": [
    "notifs_raw = [[dfs['orig_inline_notifications'].notify_from_id[z], \n",
    "               dfs['orig_inline_notifications'].notify_to_id[z]]\n",
    "              for z in range(dfs['orig_inline_notifications'].shape[0])]"
   ]
  },
  {
   "cell_type": "code",
   "execution_count": 55,
   "metadata": {},
   "outputs": [],
   "source": [
    "notifs = [n for n in notifs_raw if (n[0] in members and n[1] in members)]"
   ]
  },
  {
   "cell_type": "code",
   "execution_count": 59,
   "metadata": {},
   "outputs": [],
   "source": [
    "messages_raw = [[dfs['orig_message_topics'].mt_starter_id[z], \n",
    "               dfs['orig_message_topics'].mt_to_member_id[z]]\n",
    "              for z in range(dfs['orig_message_topics'].shape[0])]"
   ]
  },
  {
   "cell_type": "code",
   "execution_count": 61,
   "metadata": {},
   "outputs": [],
   "source": [
    "messages = [n for n in messages_raw if (n[0] in members and n[1] in members)]"
   ]
  },
  {
   "cell_type": "code",
   "execution_count": 62,
   "metadata": {},
   "outputs": [
    {
     "data": {
      "text/plain": [
       "(3101, 2859)"
      ]
     },
     "execution_count": 62,
     "metadata": {},
     "output_type": "execute_result"
    }
   ],
   "source": [
    "len(messages_raw), len(messages)"
   ]
  },
  {
   "cell_type": "code",
   "execution_count": null,
   "metadata": {},
   "outputs": [],
   "source": []
  }
 ],
 "metadata": {
  "kernelspec": {
   "display_name": "env",
   "language": "python",
   "name": "env"
  },
  "language_info": {
   "codemirror_mode": {
    "name": "ipython",
    "version": 3
   },
   "file_extension": ".py",
   "mimetype": "text/x-python",
   "name": "python",
   "nbconvert_exporter": "python",
   "pygments_lexer": "ipython3",
   "version": "3.8.2"
  }
 },
 "nbformat": 4,
 "nbformat_minor": 4
}
