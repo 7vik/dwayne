{
 "cells": [
  {
   "cell_type": "markdown",
   "metadata": {},
   "source": [
    "This week we'll analyse the dataset (Iron March was leaked on November 7th, 2019) and see how we can effectively fit it into the GRL formalism. Acc to Wikipedia, \n",
    "\n",
    "Iron March was a fascist web forum to which the Southern Poverty Law Center (SPLC) linked nearly 100 hate crime murders as of mid-2018 ...\n",
    "\n",
    "... in November 2019, an unknown individual uploaded a database of Iron March users to the Internet Archive; multiple neo-nazi users, including an ICE detention center captain and several active members of the US armed forces, were identified.\n",
    "\n",
    "Our goal is to use GRL algoritms to extract useful information from this data, hence serving as a PoC for the use of these algoritms for future detection and prevention of crimes."
   ]
  },
  {
   "cell_type": "code",
   "execution_count": 2,
   "metadata": {},
   "outputs": [],
   "source": [
    "import pandas as pd\n",
    "import numpy as np\n",
    "import matplotlib.pyplot as plt\n",
    "%matplotlib inline\n",
    "import os\n",
    "import requests \n",
    "import io\n",
    "import seaborn as sns"
   ]
  },
  {
   "cell_type": "code",
   "execution_count": 3,
   "metadata": {},
   "outputs": [
    {
     "data": {
      "text/plain": [
       "['core_theme_settings_values.csv',\n",
       " 'orig_admin_login_logs.csv',\n",
       " 'core_sys_login.csv',\n",
       " 'core_theme_templates.csv',\n",
       " 'orig_message_topics.csv',\n",
       " 'orig_core_hooks_files.csv',\n",
       " 'calendar_calendars.csv',\n",
       " 'core_message_posts.csv',\n",
       " 'orig_core_item_markers_storage.csv',\n",
       " 'orig_pfields_data.csv',\n",
       " 'core_attachments.csv',\n",
       " 'core_emoticons.csv',\n",
       " 'orig_rc_status_sev.csv',\n",
       " 'core_message_topics.csv',\n",
       " 'orig_reputation_cache.csv',\n",
       " 'core_members_known_devices.csv',\n",
       " 'orig_profile_portal.csv',\n",
       " 'orig_permission_index.csv',\n",
       " 'orig_rc_status.csv',\n",
       " 'orig_members.csv',\n",
       " 'core_acp_search_index.csv',\n",
       " 'core_leaders.csv',\n",
       " 'core_modules.csv',\n",
       " 'orig_search_keywords.csv',\n",
       " 'orig_skin_templates.csv',\n",
       " 'orig_error_logs.csv',\n",
       " 'data.torrent',\n",
       " 'orig_members_warn_logs.csv',\n",
       " 'core_polls.csv',\n",
       " 'orig_reputation_index.csv',\n",
       " 'core_rc_index.csv',\n",
       " 'core_like_cache.csv',\n",
       " 'core_social_promote_sharers.csv',\n",
       " 'orig_core_sys_lang_words.csv',\n",
       " 'core_item_markers.csv',\n",
       " 'core_login_handlers.csv',\n",
       " 'core_admin_login_logs.csv',\n",
       " 'orig_core_like_cache.csv',\n",
       " 'core_reputation_levels.csv',\n",
       " 'x_utf_convert_session.csv',\n",
       " 'calendar_event_comments.csv',\n",
       " 'orig_pfields_groups.csv',\n",
       " 'core_pfields_content.csv',\n",
       " 'orig_topic_ratings.csv',\n",
       " 'orig_pfields_content.csv',\n",
       " 'core_file_logs.csv',\n",
       " 'core_search_index_item_map.csv',\n",
       " 'orig_search_sessions.csv',\n",
       " 'core_pfields_data.csv',\n",
       " 'core_file_storage.csv',\n",
       " 'core_tags_cache.csv',\n",
       " 'core_upgrade_history.csv',\n",
       " 'orig_rc_modpref.csv',\n",
       " 'orig_rc_comments.csv',\n",
       " 'core_tags.csv',\n",
       " 'orig_message_topic_user_map.csv',\n",
       " 'core_banfilters.csv',\n",
       " 'orig_validating.csv',\n",
       " 'orig_task_logs.csv',\n",
       " 'core_follow.csv',\n",
       " 'calendar_events.csv',\n",
       " 'orig_cache_store.csv',\n",
       " 'orig_core_sys_module.csv',\n",
       " 'core_widgets.csv',\n",
       " 'orig_admin_logs.csv',\n",
       " 'core_themes.csv',\n",
       " 'core_moderators.csv',\n",
       " 'core_deletion_log.csv',\n",
       " 'orig_moderator_logs.csv',\n",
       " 'core_javascript.csv',\n",
       " 'core_hooks_files.csv',\n",
       " 'orig_core_share_links.csv',\n",
       " 'orig_attachments_type.csv',\n",
       " 'core_moderator_logs.csv',\n",
       " 'core_menu.csv',\n",
       " 'core_members_warn_reasons.csv',\n",
       " 'orig_custom_bbcode.csv',\n",
       " 'core_ratings.csv',\n",
       " 'orig_core_applications.csv',\n",
       " 'orig_core_hooks.csv',\n",
       " 'core_group_promotions.csv',\n",
       " 'core_members.csv',\n",
       " 'bbcode_mediatag.csv',\n",
       " 'core_ignored_users.csv',\n",
       " 'core_applications.csv',\n",
       " 'core_soft_delete_log.csv',\n",
       " 'orig_ignored_users.csv',\n",
       " 'orig_content_cache_sigs.csv',\n",
       " 'core_tasks.csv',\n",
       " 'core_sys_conf_settings.csv',\n",
       " 'core_rc_comments.csv',\n",
       " 'core_search_index.csv',\n",
       " 'orig_cal_calendars.csv',\n",
       " 'orig_search_visitors.csv',\n",
       " 'core_admin_logs.csv',\n",
       " 'core_rc_reports.csv',\n",
       " 'orig_cal_events.csv',\n",
       " 'orig_inline_notifications.csv',\n",
       " 'orig_rc_classes.csv',\n",
       " 'core_notification_defaults.csv',\n",
       " 'core_cache.csv']"
      ]
     },
     "execution_count": 3,
     "metadata": {},
     "output_type": "execute_result"
    }
   ],
   "source": [
    "PATH = '../data/'\n",
    "files = os.listdir(PATH)\n",
    "files"
   ]
  },
  {
   "cell_type": "code",
   "execution_count": 10,
   "metadata": {},
   "outputs": [],
   "source": [
    "dfs = {f[:-4] : pd.read_csv(PATH + f) \n",
    "           for f in files if f[-3:] == 'csv'\n",
    "}"
   ]
  },
  {
   "cell_type": "code",
   "execution_count": 26,
   "metadata": {},
   "outputs": [
    {
     "ename": "TypeError",
     "evalue": "'dict_values' object is not subscriptable",
     "output_type": "error",
     "traceback": [
      "\u001b[0;31m---------------------------------------------------------------------------\u001b[0m",
      "\u001b[0;31mTypeError\u001b[0m                                 Traceback (most recent call last)",
      "\u001b[0;32m<ipython-input-26-ca83b1003f83>\u001b[0m in \u001b[0;36m<module>\u001b[0;34m\u001b[0m\n\u001b[0;32m----> 1\u001b[0;31m \u001b[0mdfs\u001b[0m\u001b[0;34m.\u001b[0m\u001b[0mvalues\u001b[0m\u001b[0;34m(\u001b[0m\u001b[0;34m)\u001b[0m\u001b[0;34m[\u001b[0m\u001b[0;36m0\u001b[0m\u001b[0;34m]\u001b[0m\u001b[0;34m.\u001b[0m\u001b[0mhead\u001b[0m\u001b[0;34m(\u001b[0m\u001b[0;34m)\u001b[0m\u001b[0;34m\u001b[0m\u001b[0;34m\u001b[0m\u001b[0m\n\u001b[0m",
      "\u001b[0;31mTypeError\u001b[0m: 'dict_values' object is not subscriptable"
     ]
    }
   ],
   "source": [
    "dfs.values()[0].head()"
   ]
  },
  {
   "cell_type": "code",
   "execution_count": 9,
   "metadata": {},
   "outputs": [
    {
     "data": {
      "text/plain": [
       "<AxesSubplot:>"
      ]
     },
     "execution_count": 9,
     "metadata": {},
     "output_type": "execute_result"
    },
    {
     "data": {
      "image/png": "[encoded data removed]",
      "text/plain": [
       "<Figure size 432x288 with 1 Axes>"
      ]
     },
     "metadata": {
      "needs_background": "light"
     },
     "output_type": "display_data"
    }
   ],
   "source": [
    "dfs['core_members'].member_group_id.value_counts().plot.bar()"
   ]
  },
  {
   "cell_type": "code",
   "execution_count": 42,
   "metadata": {},
   "outputs": [],
   "source": [
    "df_modlog = pd.read_csv(PATH + 'core_moderator_logs.csv')"
   ]
  },
  {
   "cell_type": "code",
   "execution_count": 46,
   "metadata": {},
   "outputs": [],
   "source": [
    "df_mods = df_modlog.filter(['member_id', 'member_name']).dropna().drop_duplicates(subset=['member_id'], keep='last').sort_values(by=['member_id'], ascending = True)\n",
    "df1 = pd.read_csv(PATH + 'core_members.csv').filter([\n",
    "    'member_id', 'member_posts', 'timezone'\n",
    "])"
   ]
  },
  {
   "cell_type": "code",
   "execution_count": 48,
   "metadata": {},
   "outputs": [
    {
     "data": {
      "text/html": [
       "<div>\n",
       "<style scoped>\n",
       "    .dataframe tbody tr th:only-of-type {\n",
       "        vertical-align: middle;\n",
       "    }\n",
       "\n",
       "    .dataframe tbody tr th {\n",
       "        vertical-align: top;\n",
       "    }\n",
       "\n",
       "    .dataframe thead th {\n",
       "        text-align: right;\n",
       "    }\n",
       "</style>\n",
       "<table border=\"1\" class=\"dataframe\">\n",
       "  <thead>\n",
       "    <tr style=\"text-align: right;\">\n",
       "      <th></th>\n",
       "      <th>member_id</th>\n",
       "      <th>member_name</th>\n",
       "      <th>member_posts</th>\n",
       "      <th>timezone</th>\n",
       "    </tr>\n",
       "  </thead>\n",
       "  <tbody>\n",
       "    <tr>\n",
       "      <th>0</th>\n",
       "      <td>1</td>\n",
       "      <td>Александр Славрос</td>\n",
       "      <td>7715</td>\n",
       "      <td>Asia/Riyadh</td>\n",
       "    </tr>\n",
       "    <tr>\n",
       "      <th>19</th>\n",
       "      <td>9288</td>\n",
       "      <td>Змајевит</td>\n",
       "      <td>3783</td>\n",
       "      <td>Europe/Belgrade</td>\n",
       "    </tr>\n",
       "    <tr>\n",
       "      <th>3</th>\n",
       "      <td>132</td>\n",
       "      <td>Myrrysmies</td>\n",
       "      <td>3756</td>\n",
       "      <td>Europe/Helsinki</td>\n",
       "    </tr>\n",
       "    <tr>\n",
       "      <th>26</th>\n",
       "      <td>9571</td>\n",
       "      <td>Captain Oakleaf</td>\n",
       "      <td>2950</td>\n",
       "      <td>America/New_York</td>\n",
       "    </tr>\n",
       "    <tr>\n",
       "      <th>31</th>\n",
       "      <td>9668</td>\n",
       "      <td>MOONLORD</td>\n",
       "      <td>2669</td>\n",
       "      <td>America/Denver</td>\n",
       "    </tr>\n",
       "    <tr>\n",
       "      <th>7</th>\n",
       "      <td>6113</td>\n",
       "      <td>Aquila</td>\n",
       "      <td>2500</td>\n",
       "      <td>America/New_York</td>\n",
       "    </tr>\n",
       "    <tr>\n",
       "      <th>21</th>\n",
       "      <td>9353</td>\n",
       "      <td>Hyperborean</td>\n",
       "      <td>1337</td>\n",
       "      <td>Europe/Bucharest</td>\n",
       "    </tr>\n",
       "    <tr>\n",
       "      <th>12</th>\n",
       "      <td>7636</td>\n",
       "      <td>Богатырь</td>\n",
       "      <td>1269</td>\n",
       "      <td>America/New_York</td>\n",
       "    </tr>\n",
       "    <tr>\n",
       "      <th>4</th>\n",
       "      <td>274</td>\n",
       "      <td>Palmer</td>\n",
       "      <td>1170</td>\n",
       "      <td>America/Chicago</td>\n",
       "    </tr>\n",
       "    <tr>\n",
       "      <th>22</th>\n",
       "      <td>9446</td>\n",
       "      <td>NotEqual</td>\n",
       "      <td>1160</td>\n",
       "      <td>Asia/Seoul</td>\n",
       "    </tr>\n",
       "  </tbody>\n",
       "</table>\n",
       "</div>"
      ],
      "text/plain": [
       "    member_id        member_name  member_posts          timezone\n",
       "0           1  Александр Славрос          7715       Asia/Riyadh\n",
       "19       9288           Змајевит          3783   Europe/Belgrade\n",
       "3         132         Myrrysmies          3756   Europe/Helsinki\n",
       "26       9571    Captain Oakleaf          2950  America/New_York\n",
       "31       9668           MOONLORD          2669    America/Denver\n",
       "7        6113             Aquila          2500  America/New_York\n",
       "21       9353        Hyperborean          1337  Europe/Bucharest\n",
       "12       7636           Богатырь          1269  America/New_York\n",
       "4         274             Palmer          1170   America/Chicago\n",
       "22       9446           NotEqual          1160        Asia/Seoul"
      ]
     },
     "execution_count": 48,
     "metadata": {},
     "output_type": "execute_result"
    }
   ],
   "source": [
    "#top10mods\n",
    "df_mods_top_10 = df_mods.merge(df1).sort_values(by=['member_posts'], ascending = False).head(10)\n",
    "df_mods_top_10"
   ]
  },
  {
   "cell_type": "code",
   "execution_count": null,
   "metadata": {},
   "outputs": [],
   "source": []
  }
 ],
 "metadata": {
  "kernelspec": {
   "display_name": "env",
   "language": "python",
   "name": "env"
  },
  "language_info": {
   "codemirror_mode": {
    "name": "ipython",
    "version": 3
   },
   "file_extension": ".py",
   "mimetype": "text/x-python",
   "name": "python",
   "nbconvert_exporter": "python",
   "pygments_lexer": "ipython3",
   "version": "3.8.2"
  }
 },
 "nbformat": 4,
 "nbformat_minor": 4
}
