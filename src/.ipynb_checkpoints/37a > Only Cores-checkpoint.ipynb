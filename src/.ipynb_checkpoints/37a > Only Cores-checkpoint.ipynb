{
 "cells": [
  {
   "cell_type": "markdown",
   "metadata": {},
   "source": [
    "From the useful sheets, we have to formalize a GRL problem."
   ]
  },
  {
   "cell_type": "code",
   "execution_count": 1,
   "metadata": {},
   "outputs": [],
   "source": [
    "import pandas as pd\n",
    "import numpy as np\n",
    "import matplotlib.pyplot as plt\n",
    "%matplotlib inline\n",
    "import os\n",
    "import requests \n",
    "import io\n",
    "import seaborn as sns"
   ]
  },
  {
   "cell_type": "code",
   "execution_count": 2,
   "metadata": {},
   "outputs": [],
   "source": [
    "PATH = '../data/'\n",
    "files = os.listdir(PATH)\n",
    "dfs = {f[:-4] : pd.read_csv(PATH + f) \n",
    "           for f in files if f[-3:] == 'csv'\n",
    "}"
   ]
  },
  {
   "cell_type": "markdown",
   "metadata": {},
   "source": [
    "All files in core:\n",
    "- core_members: member_id (1207)\n",
    "- calendar_event_comments: comment_mid (170)\n",
    "- core_follow: follow_member_id (8066)\n",
    "- core_pfields: gender, mid (968)\n",
    "- core_search_index: index_author (196042)"
   ]
  },
  {
   "cell_type": "code",
   "execution_count": 12,
   "metadata": {},
   "outputs": [],
   "source": [
    "# All Users\n",
    "# member_id is unique and reflected across all csvs (total 1207)\n",
    "# all other things like DoB, IP, etc are most likely spoof\n",
    "# Difference between name and member_title\n",
    "# What is member_group_id?\n",
    "# ID 4, 6, 10 are core moderators (from core_moderators)\n",
    "# list of all member ids\n",
    "mems = list(dfs['core_members'].member_id)\n",
    "memt = list(dfs['core_members'].member_title)\n",
    "memn = list(dfs['core_members'].name)\n",
    "dfs['core_members'].head(4);"
   ]
  },
  {
   "cell_type": "code",
   "execution_count": 19,
   "metadata": {},
   "outputs": [
    {
     "data": {
      "text/plain": [
       "0.7352941176470589"
      ]
     },
     "execution_count": 19,
     "metadata": {},
     "output_type": "execute_result"
    }
   ],
   "source": [
    "mems[:2];\n",
    "all([m in mems for m in dfs['calendar_event_comments'].comment_mid[3:]])\n",
    "# except mid=0 all are true, so useful\n",
    "np.mean(np.array([m in memn for m in list(dfs['calendar_event_comments'].comment_author)]))\n",
    "# only 73% of comment authors are present in core_members (hence not useful)"
   ]
  },
  {
   "cell_type": "code",
   "execution_count": 20,
   "metadata": {},
   "outputs": [],
   "source": [
    "#3. 170 comments. comment_eid (event id?), comment_mid (member id?), \n",
    "#comment_text, \n",
    "# comment_author (string name) (doesn't match with any of member_title or name)\n",
    "# might be useful to get some active users\n",
    "# only comment_mid would be useful ig\n",
    "dfs['calendar_event_comments'].head(4);"
   ]
  },
  {
   "cell_type": "code",
   "execution_count": 28,
   "metadata": {},
   "outputs": [
    {
     "name": "stdout",
     "output_type": "stream",
     "text": [
      "False\n",
      "True\n"
     ]
    }
   ],
   "source": [
    "# 8066 follow connections\n",
    "# follow_rel_id (?) and follow_member_id may be useful.\n",
    "print(all([m in mems for m in list(dfs['core_follow'].follow_rel_id)]))\n",
    "print(all([m in mems for m in dfs['core_follow'].follow_member_id]))\n",
    "dfs['core_follow'].head(5);\n",
    "list(dfs['core_follow'].follow_rel_id);"
   ]
  },
  {
   "cell_type": "code",
   "execution_count": 29,
   "metadata": {},
   "outputs": [],
   "source": [
    "dfs['core_follow'].follow_app.value_counts();"
   ]
  },
  {
   "cell_type": "code",
   "execution_count": 30,
   "metadata": {},
   "outputs": [],
   "source": [
    "dfs['core_follow'].follow_area.value_counts();"
   ]
  },
  {
   "cell_type": "code",
   "execution_count": 31,
   "metadata": {},
   "outputs": [],
   "source": [
    "dfs['core_follow'].follow_rel_id.nunique(), dfs['core_follow'].follow_member_id.nunique();"
   ]
  },
  {
   "cell_type": "code",
   "execution_count": 32,
   "metadata": {},
   "outputs": [],
   "source": [
    "min(dfs['core_members'].member_id), max(dfs['core_members'].member_id);"
   ]
  },
  {
   "cell_type": "code",
   "execution_count": 33,
   "metadata": {},
   "outputs": [],
   "source": [
    "min(dfs['core_follow'].follow_rel_id), max(dfs['core_follow'].follow_rel_id);"
   ]
  },
  {
   "cell_type": "code",
   "execution_count": 34,
   "metadata": {},
   "outputs": [],
   "source": [
    "min(dfs['core_follow'].follow_member_id), max(dfs['core_follow'].follow_member_id);"
   ]
  },
  {
   "cell_type": "code",
   "execution_count": 48,
   "metadata": {},
   "outputs": [],
   "source": [
    "# Important. All Private Messages. Total 21715.\n",
    "# msg_topic_id is the thread ID; each convo bw two users has its own thread/topic\n",
    "# msg_author_id is the same as member_id in core_members\n",
    "# msg_post is the first message in the thread, with HTML tags\n",
    "dfs['core_message_posts'].head(3);\n",
    "# 87.6 percent members are there in core\n",
    "np.mean([m in mems for m in list(dfs['core_message_posts'].msg_author_id)])\n",
    "tops = list(dfs['core_message_posts'].msg_topic_id)"
   ]
  },
  {
   "cell_type": "code",
   "execution_count": 49,
   "metadata": {},
   "outputs": [
    {
     "name": "stdout",
     "output_type": "stream",
     "text": [
      "1.0\n",
      "0.775195530726257\n",
      "0.5126256983240224\n"
     ]
    }
   ],
   "source": [
    "#30. All Private Message Topics (total 4475)\n",
    "# mt_id is same as msg_topic_id from core_message_posts\n",
    "# mt_starter_id is the member_id of the person who put the first message on that topic\n",
    "# mt_to_member_id is the member_id of the recipient of this private message\n",
    "dfs['core_message_topics'].head(5)\n",
    "# \n",
    "print(np.mean([m in tops for m in list(dfs['core_message_topics'].mt_id)]))\n",
    "# \n",
    "print(np.mean([m in mems for m in list(dfs['core_message_topics'].mt_starter_id)]))\n",
    "# \n",
    "print(np.mean([m in mems for m in list(dfs['core_message_topics'].mt_to_member_id)]))"
   ]
  },
  {
   "cell_type": "code",
   "execution_count": 47,
   "metadata": {},
   "outputs": [
    {
     "name": "stdout",
     "output_type": "stream",
     "text": [
      "239\n",
      "1\n"
     ]
    }
   ],
   "source": [
    "#35. Pfields for each member. Total 1208. Could be used for node classification.\n",
    "# dfs['core_pfields_content'].field_5[dfs['core_pfields_content'].field_5.isnull()]\n",
    "# dfs['core_pfields_content'].field_5[190:196]\n",
    "# only gender seems useful\n",
    "print(sum(dfs['core_pfields_content'].field_5.isnull()))\n",
    "# print(sum(dfs['core_pfields_content'].field_6.isnull()))\n",
    "# print(sum(dfs['core_pfields_content'].field_7.isnull()))\n",
    "# print(sum(dfs['core_pfields_content'].field_12.isnull()))\n",
    "# print(sum(dfs['core_pfields_content'].field_13.isnull()))\n",
    "# print(sum(dfs['core_pfields_content'].field_3.isnull()))\n",
    "K = [m in mems for m in dfs['core_pfields_content'].member_id]\n",
    "print(len(K) - np.sum(K))"
   ]
  },
  {
   "cell_type": "code",
   "execution_count": 50,
   "metadata": {},
   "outputs": [
    {
     "name": "stdout",
     "output_type": "stream",
     "text": [
      "0.9326011772987421\n"
     ]
    }
   ],
   "source": [
    "#43. Important. All Posts. Total 196042.\n",
    "# index_content has the post content.\n",
    "# index_author is the member_id of the authon of that post.\n",
    "dfs['core_search_index'].head(4)\n",
    "print(np.mean([m in mems for m in list(dfs['core_search_index'].index_author)]))"
   ]
  },
  {
   "cell_type": "code",
   "execution_count": 39,
   "metadata": {},
   "outputs": [],
   "source": [
    "min(dfs['core_search_index'].index_author), max(dfs['core_search_index'].index_author);"
   ]
  },
  {
   "cell_type": "code",
   "execution_count": null,
   "metadata": {},
   "outputs": [],
   "source": []
  }
 ],
 "metadata": {
  "kernelspec": {
   "display_name": "env",
   "language": "python",
   "name": "env"
  },
  "language_info": {
   "codemirror_mode": {
    "name": "ipython",
    "version": 3
   },
   "file_extension": ".py",
   "mimetype": "text/x-python",
   "name": "python",
   "nbconvert_exporter": "python",
   "pygments_lexer": "ipython3",
   "version": "3.8.2"
  }
 },
 "nbformat": 4,
 "nbformat_minor": 4
}
