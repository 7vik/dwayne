{
 "cells": [
  {
   "cell_type": "markdown",
   "metadata": {},
   "source": [
    "From the useful sheets, we have to formalize a GRL problem."
   ]
  },
  {
   "cell_type": "code",
   "execution_count": 1,
   "metadata": {},
   "outputs": [],
   "source": [
    "import pandas as pd\n",
    "import numpy as np\n",
    "import matplotlib.pyplot as plt\n",
    "%matplotlib inline\n",
    "import os\n",
    "import requests \n",
    "import io\n",
    "import seaborn as sns"
   ]
  },
  {
   "cell_type": "code",
   "execution_count": 2,
   "metadata": {},
   "outputs": [],
   "source": [
    "PATH = '../data/'\n",
    "files = os.listdir(PATH)\n",
    "dfs = {f[:-4] : pd.read_csv(PATH + f) \n",
    "           for f in files if f[-3:] == 'csv'\n",
    "}"
   ]
  },
  {
   "cell_type": "code",
   "execution_count": null,
   "metadata": {},
   "outputs": [],
   "source": []
  },
  {
   "cell_type": "markdown",
   "metadata": {},
   "source": [
    "What all is useful here:\n",
    "- orig_members: member_id (763)\n",
    "- orig_inline_notifications: notify_from_id, notify_to_id (47066)\n",
    "- orig_message_topic_user_map: map_user_id, map_topic_id (6025)\n",
    "- orig_message_topics: mt_starter_id, mt_to_member_id, mt_id (3101)\n",
    "- orig_reputation_index: member_id (141550)"
   ]
  },
  {
   "cell_type": "code",
   "execution_count": 3,
   "metadata": {},
   "outputs": [],
   "source": [
    "#76. 763 Original members.\n",
    "sum(dfs['orig_members'].email.isnull()) # (== 0) = True\n",
    "dfs['orig_members'].head(4);\n",
    "mems = list(dfs['orig_members'].member_id)"
   ]
  },
  {
   "cell_type": "code",
   "execution_count": 5,
   "metadata": {},
   "outputs": [
    {
     "name": "stdout",
     "output_type": "stream",
     "text": [
      "1.0\n",
      "1.0\n"
     ]
    },
    {
     "data": {
      "text/html": [
       "<div>\n",
       "<style scoped>\n",
       "    .dataframe tbody tr th:only-of-type {\n",
       "        vertical-align: middle;\n",
       "    }\n",
       "\n",
       "    .dataframe tbody tr th {\n",
       "        vertical-align: top;\n",
       "    }\n",
       "\n",
       "    .dataframe thead th {\n",
       "        text-align: right;\n",
       "    }\n",
       "</style>\n",
       "<table border=\"1\" class=\"dataframe\">\n",
       "  <thead>\n",
       "    <tr style=\"text-align: right;\">\n",
       "      <th></th>\n",
       "      <th>notify_id</th>\n",
       "      <th>notify_to_id</th>\n",
       "      <th>notify_sent</th>\n",
       "      <th>notify_read</th>\n",
       "      <th>notify_title</th>\n",
       "      <th>notify_text</th>\n",
       "      <th>notify_from_id</th>\n",
       "      <th>notify_type_key</th>\n",
       "      <th>notify_url</th>\n",
       "      <th>notify_meta_app</th>\n",
       "      <th>notify_meta_area</th>\n",
       "      <th>notify_meta_id</th>\n",
       "      <th>notify_meta_key</th>\n",
       "    </tr>\n",
       "  </thead>\n",
       "  <tbody>\n",
       "    <tr>\n",
       "      <th>0</th>\n",
       "      <td>333021</td>\n",
       "      <td>9679</td>\n",
       "      <td>1451057630</td>\n",
       "      <td>1</td>\n",
       "      <td>&lt;a href='http://ironmarch.org/index.php?/user/...</td>\n",
       "      <td>Hello!\\n\\nBolesnik just liked a post you made!...</td>\n",
       "      <td>9267</td>\n",
       "      <td>new_likes</td>\n",
       "      <td>http://ironmarch.org/index.php?/topic/5385-ukr...</td>\n",
       "      <td>NaN</td>\n",
       "      <td>NaN</td>\n",
       "      <td>0</td>\n",
       "      <td>NaN</td>\n",
       "    </tr>\n",
       "    <tr>\n",
       "      <th>1</th>\n",
       "      <td>333022</td>\n",
       "      <td>6260</td>\n",
       "      <td>1451059824</td>\n",
       "      <td>1</td>\n",
       "      <td>&lt;a href='http://ironmarch.org/index.php?/user/...</td>\n",
       "      <td>Haggis,\\n\\nAberfoyle has replied to a personal...</td>\n",
       "      <td>9327</td>\n",
       "      <td>reply_private_message</td>\n",
       "      <td>http://ironmarch.org/index.php?app=members&amp;mod...</td>\n",
       "      <td>members</td>\n",
       "      <td>pm</td>\n",
       "      <td>3903</td>\n",
       "      <td>3908661d5069ac5f339318007422057d</td>\n",
       "    </tr>\n",
       "    <tr>\n",
       "      <th>2</th>\n",
       "      <td>333023</td>\n",
       "      <td>9679</td>\n",
       "      <td>1451060512</td>\n",
       "      <td>1</td>\n",
       "      <td>&lt;a href='http://ironmarch.org/index.php?/user/...</td>\n",
       "      <td>Vinokura,\\n\\nRaven (http://ironmarch.org/index...</td>\n",
       "      <td>8232</td>\n",
       "      <td>followed_topics</td>\n",
       "      <td>http://ironmarch.org/index.php?/topic/5652-tru...</td>\n",
       "      <td>forums</td>\n",
       "      <td>topics</td>\n",
       "      <td>5652</td>\n",
       "      <td>c8c841e80c748e31883b1ab076e5dc45</td>\n",
       "    </tr>\n",
       "    <tr>\n",
       "      <th>3</th>\n",
       "      <td>333024</td>\n",
       "      <td>1</td>\n",
       "      <td>1451060542</td>\n",
       "      <td>1</td>\n",
       "      <td>&lt;a href='http://ironmarch.org/index.php?/user/...</td>\n",
       "      <td>Hello!\\n\\nDer Werwolf just liked a post you ma...</td>\n",
       "      <td>6249</td>\n",
       "      <td>new_likes</td>\n",
       "      <td>http://ironmarch.org/index.php?/topic/3382-woa...</td>\n",
       "      <td>NaN</td>\n",
       "      <td>NaN</td>\n",
       "      <td>0</td>\n",
       "      <td>NaN</td>\n",
       "    </tr>\n",
       "  </tbody>\n",
       "</table>\n",
       "</div>"
      ],
      "text/plain": [
       "   notify_id  notify_to_id  notify_sent  notify_read  \\\n",
       "0     333021          9679   1451057630            1   \n",
       "1     333022          6260   1451059824            1   \n",
       "2     333023          9679   1451060512            1   \n",
       "3     333024             1   1451060542            1   \n",
       "\n",
       "                                        notify_title  \\\n",
       "0  <a href='http://ironmarch.org/index.php?/user/...   \n",
       "1  <a href='http://ironmarch.org/index.php?/user/...   \n",
       "2  <a href='http://ironmarch.org/index.php?/user/...   \n",
       "3  <a href='http://ironmarch.org/index.php?/user/...   \n",
       "\n",
       "                                         notify_text  notify_from_id  \\\n",
       "0  Hello!\\n\\nBolesnik just liked a post you made!...            9267   \n",
       "1  Haggis,\\n\\nAberfoyle has replied to a personal...            9327   \n",
       "2  Vinokura,\\n\\nRaven (http://ironmarch.org/index...            8232   \n",
       "3  Hello!\\n\\nDer Werwolf just liked a post you ma...            6249   \n",
       "\n",
       "         notify_type_key                                         notify_url  \\\n",
       "0              new_likes  http://ironmarch.org/index.php?/topic/5385-ukr...   \n",
       "1  reply_private_message  http://ironmarch.org/index.php?app=members&mod...   \n",
       "2        followed_topics  http://ironmarch.org/index.php?/topic/5652-tru...   \n",
       "3              new_likes  http://ironmarch.org/index.php?/topic/3382-woa...   \n",
       "\n",
       "  notify_meta_app notify_meta_area  notify_meta_id  \\\n",
       "0             NaN              NaN               0   \n",
       "1         members               pm            3903   \n",
       "2          forums           topics            5652   \n",
       "3             NaN              NaN               0   \n",
       "\n",
       "                    notify_meta_key  \n",
       "0                               NaN  \n",
       "1  3908661d5069ac5f339318007422057d  \n",
       "2  c8c841e80c748e31883b1ab076e5dc45  \n",
       "3                               NaN  "
      ]
     },
     "execution_count": 5,
     "metadata": {},
     "output_type": "execute_result"
    }
   ],
   "source": [
    "#75. Useful. Notification Graph could give us very informative edges.\n",
    "# from notify_from_id to notify_to_id based on notify_type_key\n",
    "# and notify_type_key could be a nice edge feature\n",
    "dfs['orig_inline_notifications'].notify_type_key.value_counts();\n",
    "\n",
    "# wow, both are fully included\n",
    "print(np.mean([m in mems for m in dfs['orig_inline_notifications'].notify_from_id]))\n",
    "print(np.mean([m in mems for m in dfs['orig_inline_notifications'].notify_to_id]))\n",
    "\n",
    "dfs['orig_inline_notifications'].head(4)"
   ]
  },
  {
   "cell_type": "code",
   "execution_count": 18,
   "metadata": {},
   "outputs": [
    {
     "name": "stdout",
     "output_type": "stream",
     "text": [
      "0.9966804979253112\n"
     ]
    }
   ],
   "source": [
    "#78. Useful. But don't fully understand.\n",
    "# Mapping from user_id to topic_id, might help connect users.\n",
    "print(np.mean([m in mems for m in dfs['orig_message_topic_user_map'].map_user_id]))\n",
    "dfs['orig_message_topic_user_map'].head(4);\n",
    "# TODO:\n",
    "# Check if users following the same topic are same in \n",
    "# this map and core_message_topics and orig_message_topics"
   ]
  },
  {
   "cell_type": "code",
   "execution_count": 78,
   "metadata": {},
   "outputs": [
    {
     "name": "stdout",
     "output_type": "stream",
     "text": [
      "1160\n"
     ]
    }
   ],
   "source": [
    "# reference with topic_title and compare the topic_id v topic_title mapping of both\n",
    "# orig and core\n",
    "ids = 0\n",
    "for i in range(len(dfs['orig_message_topics'].mt_title)):\n",
    "    if dfs['orig_message_topics'].mt_title[i] == dfs['core_message_topics'].mt_title[i]:\n",
    "        ids += 1\n",
    "print(ids)"
   ]
  },
  {
   "cell_type": "code",
   "execution_count": 79,
   "metadata": {},
   "outputs": [
    {
     "data": {
      "text/plain": [
       "(3101, 4475)"
      ]
     },
     "execution_count": 79,
     "metadata": {},
     "output_type": "execute_result"
    }
   ],
   "source": [
    "len(dfs['orig_message_topics'].mt_title), len(dfs['core_message_topics'].mt_title)"
   ]
  },
  {
   "cell_type": "code",
   "execution_count": 20,
   "metadata": {},
   "outputs": [
    {
     "name": "stdout",
     "output_type": "stream",
     "text": [
      "0.9596904224443727\n",
      "0.9616252821670429\n",
      "1.0\n"
     ]
    }
   ],
   "source": [
    "#79 All Orig Message Topics (total 3101)\n",
    "# mt_id is same as map_topic_id from orig_message_topic_user_map\n",
    "# mt_starter_id is the member_id of the person who put the first message on that topic\n",
    "# mt_to_member_id is the member_id of the recipient of this message\n",
    "\n",
    "tops = list(dfs['orig_message_topics'].mt_id)\n",
    "print(np.mean([m in mems for m in dfs['orig_message_topics'].mt_starter_id]))\n",
    "print(np.mean([m in mems for m in dfs['orig_message_topics'].mt_to_member_id]))\n",
    "print(np.mean([m in tops for m in dfs['orig_message_topic_user_map'].map_topic_id]))\n",
    "\n",
    "dfs['orig_message_topics'].head(5);"
   ]
  },
  {
   "cell_type": "code",
   "execution_count": 15,
   "metadata": {},
   "outputs": [],
   "source": [
    "#82. pfields of 764 members. Might help in node features. Not really, mostly nans.\n",
    "dfs['orig_pfields_content'].head(3);"
   ]
  },
  {
   "cell_type": "code",
   "execution_count": 22,
   "metadata": {},
   "outputs": [
    {
     "name": "stdout",
     "output_type": "stream",
     "text": [
      "0.9984251968503937\n"
     ]
    }
   ],
   "source": [
    "# What is reputation? Total 141550\n",
    "# 635 users have a reputation index, could be used for node classification or features?\n",
    "members = set(dfs['orig_reputation_index'].member_id)\n",
    "\n",
    "print(np.mean([m in mems for m in members]))\n",
    "      \n",
    "# print(members)\n",
    "freq = [[m, sum(dfs['orig_reputation_index'].member_id == m)]\n",
    "       for m in members]\n",
    "# dfs['orig_reputation_index'].head(3)\n",
    "freq_sort = sorted(freq, key = lambda z: z[1], reverse=True)"
   ]
  },
  {
   "cell_type": "code",
   "execution_count": 49,
   "metadata": {},
   "outputs": [],
   "source": [
    "freq_sorted = pd.DataFrame(freq_sort)"
   ]
  },
  {
   "cell_type": "code",
   "execution_count": 61,
   "metadata": {},
   "outputs": [
    {
     "name": "stdout",
     "output_type": "stream",
     "text": [
      "321\n",
      "314\n"
     ]
    }
   ],
   "source": [
    "i = 0\n",
    "while freq_sorted[1][i] > 30:\n",
    "    i += 1\n",
    "print(i)\n",
    "print(len(freq_sorted[1]) - i)"
   ]
  },
  {
   "cell_type": "code",
   "execution_count": 53,
   "metadata": {},
   "outputs": [
    {
     "data": {
      "image/png": "[encoded data removed]",
      "text/plain": [
       "<Figure size 432x288 with 1 Axes>"
      ]
     },
     "metadata": {
      "needs_background": "light"
     },
     "output_type": "display_data"
    }
   ],
   "source": [
    "plt.plot(freq_sorted[1])\n",
    "plt.grid()"
   ]
  },
  {
   "cell_type": "code",
   "execution_count": null,
   "metadata": {},
   "outputs": [],
   "source": []
  }
 ],
 "metadata": {
  "kernelspec": {
   "display_name": "Python 3",
   "language": "python",
   "name": "python3"
  },
  "language_info": {
   "codemirror_mode": {
    "name": "ipython",
    "version": 3
   },
   "file_extension": ".py",
   "mimetype": "text/x-python",
   "name": "python",
   "nbconvert_exporter": "python",
   "pygments_lexer": "ipython3",
   "version": "3.8.5"
  }
 },
 "nbformat": 4,
 "nbformat_minor": 4
}
