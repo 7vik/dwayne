{
 "cells": [
  {
   "cell_type": "markdown",
   "metadata": {},
   "source": [
    "The name of this file, \"Rust August\" is deep, poetic, and exudes strong taste of philosophical reminiscence. I'll leave it to the reader to figure it out.\n",
    "\n",
    "We'll start the week with reading two papers: Nulled.io and CharacterizeEve, both of which are available (with highlights and notes) at `../papers/`\n",
    "\n",
    "After this, we'll look at all the data files and figure out 2-3 graph learning problems we can find from this data, and then narrow down to one to solve using GRL.\n",
    "\n",
    "A very crude data dictionary is available [here](https://www.bellingcat.com/resources/how-tos/2019/11/06/massive-white-supremacist-message-board-leak-how-to-access-and-interpret-the-data/). Though, this isn't academic, it's the best we have rn."
   ]
  },
  {
   "cell_type": "code",
   "execution_count": 1,
   "metadata": {},
   "outputs": [],
   "source": [
    "import pandas as pd\n",
    "import numpy as np\n",
    "import matplotlib.pyplot as plt\n",
    "%matplotlib inline\n",
    "import os\n",
    "import requests \n",
    "import io\n",
    "import seaborn as sns"
   ]
  },
  {
   "cell_type": "code",
   "execution_count": 2,
   "metadata": {},
   "outputs": [
    {
     "data": {
      "text/plain": [
       "['core_theme_settings_values.csv',\n",
       " 'orig_admin_login_logs.csv',\n",
       " 'core_sys_login.csv',\n",
       " 'core_theme_templates.csv']"
      ]
     },
     "execution_count": 2,
     "metadata": {},
     "output_type": "execute_result"
    }
   ],
   "source": [
    "PATH = '../data/'\n",
    "files = os.listdir(PATH)\n",
    "files[:4]"
   ]
  },
  {
   "cell_type": "code",
   "execution_count": 4,
   "metadata": {},
   "outputs": [],
   "source": [
    "dfs = {f[:-4] : pd.read_csv(PATH + f) \n",
    "           for f in files if f[-3:] == 'csv'\n",
    "}"
   ]
  },
  {
   "cell_type": "code",
   "execution_count": 25,
   "metadata": {},
   "outputs": [
    {
     "data": {
      "text/plain": [
       "['bbcode_mediatag',\n",
       " 'calendar_calendars',\n",
       " 'calendar_event_comments',\n",
       " 'calendar_events',\n",
       " 'core_acp_search_index',\n",
       " 'core_admin_login_logs',\n",
       " 'core_admin_logs',\n",
       " 'core_applications',\n",
       " 'core_attachments',\n",
       " 'core_banfilters',\n",
       " 'core_cache',\n",
       " 'core_deletion_log',\n",
       " 'core_emoticons',\n",
       " 'core_file_logs',\n",
       " 'core_file_storage',\n",
       " 'core_follow',\n",
       " 'core_group_promotions',\n",
       " 'core_hooks_files',\n",
       " 'core_ignored_users',\n",
       " 'core_item_markers',\n",
       " 'core_javascript',\n",
       " 'core_leaders',\n",
       " 'core_like_cache',\n",
       " 'core_login_handlers',\n",
       " 'core_members',\n",
       " 'core_members_known_devices',\n",
       " 'core_members_warn_reasons',\n",
       " 'core_menu',\n",
       " 'core_message_posts',\n",
       " 'core_message_topics',\n",
       " 'core_moderator_logs',\n",
       " 'core_moderators',\n",
       " 'core_modules',\n",
       " 'core_notification_defaults',\n",
       " 'core_pfields_content',\n",
       " 'core_pfields_data',\n",
       " 'core_polls',\n",
       " 'core_ratings',\n",
       " 'core_rc_comments',\n",
       " 'core_rc_index',\n",
       " 'core_rc_reports',\n",
       " 'core_reputation_levels',\n",
       " 'core_search_index',\n",
       " 'core_search_index_item_map',\n",
       " 'core_social_promote_sharers',\n",
       " 'core_soft_delete_log',\n",
       " 'core_sys_conf_settings',\n",
       " 'core_sys_login',\n",
       " 'core_tags',\n",
       " 'core_tags_cache',\n",
       " 'core_tasks',\n",
       " 'core_theme_settings_values',\n",
       " 'core_theme_templates',\n",
       " 'core_themes',\n",
       " 'core_upgrade_history',\n",
       " 'core_widgets',\n",
       " 'orig_admin_login_logs',\n",
       " 'orig_admin_logs',\n",
       " 'orig_attachments_type',\n",
       " 'orig_cache_store',\n",
       " 'orig_cal_calendars',\n",
       " 'orig_cal_events',\n",
       " 'orig_content_cache_sigs',\n",
       " 'orig_core_applications',\n",
       " 'orig_core_hooks',\n",
       " 'orig_core_hooks_files',\n",
       " 'orig_core_item_markers_storage',\n",
       " 'orig_core_like_cache',\n",
       " 'orig_core_share_links',\n",
       " 'orig_core_sys_lang_words',\n",
       " 'orig_core_sys_module',\n",
       " 'orig_custom_bbcode',\n",
       " 'orig_error_logs',\n",
       " 'orig_ignored_users',\n",
       " 'orig_inline_notifications',\n",
       " 'orig_members',\n",
       " 'orig_members_warn_logs',\n",
       " 'orig_message_topic_user_map',\n",
       " 'orig_message_topics',\n",
       " 'orig_moderator_logs',\n",
       " 'orig_permission_index',\n",
       " 'orig_pfields_content',\n",
       " 'orig_pfields_data',\n",
       " 'orig_pfields_groups',\n",
       " 'orig_profile_portal',\n",
       " 'orig_rc_classes',\n",
       " 'orig_rc_comments',\n",
       " 'orig_rc_modpref',\n",
       " 'orig_rc_status',\n",
       " 'orig_rc_status_sev',\n",
       " 'orig_reputation_cache',\n",
       " 'orig_reputation_index',\n",
       " 'orig_search_keywords',\n",
       " 'orig_search_sessions',\n",
       " 'orig_search_visitors',\n",
       " 'orig_skin_templates',\n",
       " 'orig_task_logs',\n",
       " 'orig_topic_ratings',\n",
       " 'orig_validating',\n",
       " 'x_utf_convert_session']"
      ]
     },
     "execution_count": 25,
     "metadata": {},
     "output_type": "execute_result"
    }
   ],
   "source": [
    "sorted([z for z in dfs])\n",
    "# total 100 files"
   ]
  },
  {
   "cell_type": "code",
   "execution_count": 50,
   "metadata": {},
   "outputs": [],
   "source": [
    "# 1. HTML tags for various media embeds. Not useful.\n",
    "dfs['bbcode_mediatag'].head(3);"
   ]
  },
  {
   "cell_type": "code",
   "execution_count": 49,
   "metadata": {},
   "outputs": [],
   "source": [
    "# 2. Different types of calendars. Not useful.\n",
    "dfs['calendar_calendars'].head(3);"
   ]
  },
  {
   "cell_type": "code",
   "execution_count": 47,
   "metadata": {},
   "outputs": [],
   "source": [
    "#3. comment_eid (event id?), comment_mid (member id?), \n",
    "#comment_text, comment_author (string name) might be useful.\n",
    "dfs['calendar_event_comments'].head(3);"
   ]
  },
  {
   "cell_type": "code",
   "execution_count": 48,
   "metadata": {},
   "outputs": [],
   "source": [
    "#4. Calendar events list. Not useful.\n",
    "dfs['calendar_events'].head(4);"
   ]
  },
  {
   "cell_type": "code",
   "execution_count": 43,
   "metadata": {},
   "outputs": [],
   "source": [
    "#5. Not useful.\n",
    "dfs['core_acp_search_index'].head(5);"
   ]
  },
  {
   "cell_type": "code",
   "execution_count": 44,
   "metadata": {},
   "outputs": [],
   "source": [
    "#6. NU ( = {Not Useful})\n",
    "dfs['core_admin_login_logs'].head(5);"
   ]
  },
  {
   "cell_type": "code",
   "execution_count": 53,
   "metadata": {},
   "outputs": [],
   "source": [
    "#7. NU\n",
    "dfs['core_admin_logs'].head(4);\n",
    "# member_id = 1 is of admin. username = Александр Славрос is of admin."
   ]
  },
  {
   "cell_type": "code",
   "execution_count": 55,
   "metadata": {},
   "outputs": [],
   "source": [
    "#8. NU\n",
    "dfs['core_applications'];"
   ]
  },
  {
   "cell_type": "code",
   "execution_count": 58,
   "metadata": {},
   "outputs": [],
   "source": [
    "#9. NU\n",
    "dfs['core_attachments'].head(4);"
   ]
  },
  {
   "cell_type": "code",
   "execution_count": 60,
   "metadata": {},
   "outputs": [],
   "source": [
    "#10. NU. Banned on Iron March... gg :)\n",
    "dfs['core_banfilters'].head(3);"
   ]
  },
  {
   "cell_type": "code",
   "execution_count": 62,
   "metadata": {},
   "outputs": [],
   "source": [
    "#11. NU\n",
    "dfs['core_cache'];"
   ]
  },
  {
   "cell_type": "code",
   "execution_count": 64,
   "metadata": {},
   "outputs": [],
   "source": [
    "#12. NU\n",
    "dfs['core_deletion_log'];"
   ]
  },
  {
   "cell_type": "code",
   "execution_count": 66,
   "metadata": {},
   "outputs": [],
   "source": [
    "#13. NU.\n",
    "dfs['core_emoticons'];"
   ]
  },
  {
   "cell_type": "code",
   "execution_count": 68,
   "metadata": {},
   "outputs": [],
   "source": [
    "#14. NU\n",
    "dfs['core_file_logs'];"
   ]
  },
  {
   "cell_type": "code",
   "execution_count": 70,
   "metadata": {},
   "outputs": [],
   "source": [
    "#15. NU\n",
    "dfs['core_file_storage'];"
   ]
  },
  {
   "cell_type": "code",
   "execution_count": 76,
   "metadata": {},
   "outputs": [],
   "source": [
    "#16. follow_rel_id (?) and follow_member_id may be useful.\n",
    "dfs['core_follow'];"
   ]
  },
  {
   "cell_type": "code",
   "execution_count": 78,
   "metadata": {},
   "outputs": [],
   "source": [
    "#17. NU\n",
    "dfs['core_group_promotions'];"
   ]
  },
  {
   "cell_type": "code",
   "execution_count": 80,
   "metadata": {},
   "outputs": [],
   "source": [
    "#18. NU\n",
    "dfs['core_hooks_files'];"
   ]
  },
  {
   "cell_type": "code",
   "execution_count": 82,
   "metadata": {},
   "outputs": [],
   "source": [
    "#19. NU\n",
    "dfs['core_ignored_users'];"
   ]
  },
  {
   "cell_type": "code",
   "execution_count": 84,
   "metadata": {},
   "outputs": [],
   "source": [
    "#20. NU\n",
    "dfs['core_item_markers'];"
   ]
  },
  {
   "cell_type": "code",
   "execution_count": 100,
   "metadata": {},
   "outputs": [],
   "source": [
    "#21. NU\n",
    "dfs['core_javascript'].head(5);"
   ]
  },
  {
   "cell_type": "code",
   "execution_count": 102,
   "metadata": {},
   "outputs": [],
   "source": [
    "#22. NU\n",
    "dfs['core_leaders'].head(5);"
   ]
  },
  {
   "cell_type": "code",
   "execution_count": 104,
   "metadata": {},
   "outputs": [],
   "source": [
    "#23. NU\n",
    "dfs['core_like_cache'].head(5);"
   ]
  },
  {
   "cell_type": "code",
   "execution_count": 106,
   "metadata": {},
   "outputs": [],
   "source": [
    "#24. NU\n",
    "dfs['core_login_handlers'].head(5);"
   ]
  },
  {
   "cell_type": "code",
   "execution_count": 109,
   "metadata": {},
   "outputs": [],
   "source": [
    "#25. All Users. Important.\n",
    "# member_id is unique and reflected across all csvs (total 1207)\n",
    "# all other things like DoB, IP, etc are most likely spoof\n",
    "# Difference between name and member_title\n",
    "# What is member_group_id?\n",
    "dfs['core_members'];"
   ]
  },
  {
   "cell_type": "code",
   "execution_count": 111,
   "metadata": {},
   "outputs": [],
   "source": [
    "#26. NU\n",
    "dfs['core_members_known_devices'].head(5);"
   ]
  },
  {
   "cell_type": "code",
   "execution_count": 113,
   "metadata": {},
   "outputs": [],
   "source": [
    "#27. NU\n",
    "dfs['core_members_warn_reasons'].head(5);"
   ]
  },
  {
   "cell_type": "code",
   "execution_count": 115,
   "metadata": {},
   "outputs": [],
   "source": [
    "#28. NU\n",
    "dfs['core_menu'].head(5);"
   ]
  },
  {
   "cell_type": "code",
   "execution_count": 136,
   "metadata": {},
   "outputs": [],
   "source": [
    "#29. Important. All Private Messages. Total 21715.\n",
    "# msg_topic_id is the thread ID; each convo bw two users has its own thread/topic\n",
    "# msg_author_id is the same as member_id in core_members\n",
    "# msg_post is the first message in the thread, with HTML tags\n",
    "dfs['core_message_posts'].head(5);"
   ]
  },
  {
   "cell_type": "code",
   "execution_count": 137,
   "metadata": {},
   "outputs": [],
   "source": [
    "#30. All Private Message Topics (total 4475)\n",
    "# mt_id is same as msg_topic_id from core_message_posts\n",
    "# mt_starter_id is the member_id of the person who put the first message on that topic\n",
    "# mt_to_member_id is the member_id of the recipient of this private message\n",
    "dfs['core_message_topics'].head(5);"
   ]
  },
  {
   "cell_type": "code",
   "execution_count": 141,
   "metadata": {},
   "outputs": [],
   "source": [
    "#31. NU\n",
    "dfs['core_moderator_logs'];"
   ]
  },
  {
   "cell_type": "code",
   "execution_count": 144,
   "metadata": {},
   "outputs": [],
   "source": [
    "#32. NU.\n",
    "# Id 4, 6, 10 are core moderators.\n",
    "dfs['core_moderators'];"
   ]
  },
  {
   "cell_type": "code",
   "execution_count": 146,
   "metadata": {},
   "outputs": [],
   "source": [
    "#33. NU\n",
    "dfs['core_modules'].head(5);"
   ]
  },
  {
   "cell_type": "code",
   "execution_count": 148,
   "metadata": {},
   "outputs": [],
   "source": [
    "#34. NU\n",
    "dfs['core_notification_defaults'].head(5);"
   ]
  },
  {
   "cell_type": "code",
   "execution_count": 204,
   "metadata": {},
   "outputs": [],
   "source": [
    "#35. Pfields for each member. Total 1208. Could be used for node classification.\n",
    "dfs['core_pfields_content'].head(3);"
   ]
  },
  {
   "cell_type": "code",
   "execution_count": 207,
   "metadata": {},
   "outputs": [],
   "source": [
    "#36. NU\n",
    "dfs['core_pfields_data'];"
   ]
  },
  {
   "cell_type": "code",
   "execution_count": 196,
   "metadata": {},
   "outputs": [],
   "source": [
    "#37. NU\n",
    "dfs['core_polls'].head(4);"
   ]
  },
  {
   "cell_type": "code",
   "execution_count": 194,
   "metadata": {},
   "outputs": [],
   "source": [
    "#38. NU\n",
    "dfs['core_ratings'].head(4);"
   ]
  },
  {
   "cell_type": "code",
   "execution_count": 192,
   "metadata": {},
   "outputs": [],
   "source": [
    "#39. NU\n",
    "dfs['core_rc_comments'].head(5);"
   ]
  },
  {
   "cell_type": "code",
   "execution_count": 188,
   "metadata": {},
   "outputs": [],
   "source": [
    "#40. NU\n",
    "dfs['core_rc_index'].head(5);"
   ]
  },
  {
   "cell_type": "code",
   "execution_count": 187,
   "metadata": {},
   "outputs": [],
   "source": [
    "#41. NU\n",
    "dfs['core_rc_reports'].head(5);"
   ]
  },
  {
   "cell_type": "code",
   "execution_count": 186,
   "metadata": {},
   "outputs": [],
   "source": [
    "#42. NU. (unless level_id and level_points come across as important cross-references)\n",
    "dfs['core_reputation_levels'];"
   ]
  },
  {
   "cell_type": "code",
   "execution_count": 184,
   "metadata": {},
   "outputs": [],
   "source": [
    "#43. Important. All Posts. Total 196042.\n",
    "# index_content has the post content.\n",
    "# index_author is the member_id of the authon of that post.\n",
    "dfs['core_search_index'].head(4);"
   ]
  },
  {
   "cell_type": "code",
   "execution_count": 172,
   "metadata": {},
   "outputs": [],
   "source": [
    "#44. NU\n",
    "dfs['core_search_index_item_map'].head(5);"
   ]
  },
  {
   "cell_type": "code",
   "execution_count": 171,
   "metadata": {},
   "outputs": [],
   "source": [
    "#45. NU\n",
    "dfs['core_social_promote_sharers'].head(5);"
   ]
  },
  {
   "cell_type": "code",
   "execution_count": 170,
   "metadata": {},
   "outputs": [],
   "source": [
    "#46. NU\n",
    "dfs['core_soft_delete_log'].head(5);"
   ]
  },
  {
   "cell_type": "code",
   "execution_count": 169,
   "metadata": {},
   "outputs": [],
   "source": [
    "#47. NU\n",
    "dfs['core_sys_conf_settings'].head(5);"
   ]
  },
  {
   "cell_type": "code",
   "execution_count": 168,
   "metadata": {},
   "outputs": [],
   "source": [
    "#48. NU\n",
    "dfs['core_sys_login'].head(5);"
   ]
  },
  {
   "cell_type": "code",
   "execution_count": 167,
   "metadata": {},
   "outputs": [],
   "source": [
    "#49. NU\n",
    "dfs['core_tags'];"
   ]
  },
  {
   "cell_type": "code",
   "execution_count": 165,
   "metadata": {},
   "outputs": [],
   "source": [
    "#50. NU\n",
    "dfs['core_tags_cache'].head(5);"
   ]
  },
  {
   "cell_type": "code",
   "execution_count": null,
   "metadata": {},
   "outputs": [],
   "source": []
  },
  {
   "cell_type": "code",
   "execution_count": null,
   "metadata": {},
   "outputs": [],
   "source": []
  },
  {
   "cell_type": "code",
   "execution_count": null,
   "metadata": {},
   "outputs": [],
   "source": []
  },
  {
   "cell_type": "code",
   "execution_count": null,
   "metadata": {},
   "outputs": [],
   "source": []
  },
  {
   "cell_type": "code",
   "execution_count": null,
   "metadata": {},
   "outputs": [],
   "source": []
  },
  {
   "cell_type": "code",
   "execution_count": null,
   "metadata": {},
   "outputs": [],
   "source": []
  },
  {
   "cell_type": "code",
   "execution_count": null,
   "metadata": {},
   "outputs": [],
   "source": []
  },
  {
   "cell_type": "code",
   "execution_count": null,
   "metadata": {},
   "outputs": [],
   "source": []
  },
  {
   "cell_type": "code",
   "execution_count": null,
   "metadata": {},
   "outputs": [],
   "source": []
  },
  {
   "cell_type": "code",
   "execution_count": null,
   "metadata": {},
   "outputs": [],
   "source": []
  },
  {
   "cell_type": "code",
   "execution_count": null,
   "metadata": {},
   "outputs": [],
   "source": []
  },
  {
   "cell_type": "code",
   "execution_count": null,
   "metadata": {},
   "outputs": [],
   "source": []
  },
  {
   "cell_type": "code",
   "execution_count": null,
   "metadata": {},
   "outputs": [],
   "source": []
  },
  {
   "cell_type": "code",
   "execution_count": null,
   "metadata": {},
   "outputs": [],
   "source": []
  },
  {
   "cell_type": "code",
   "execution_count": null,
   "metadata": {},
   "outputs": [],
   "source": []
  },
  {
   "cell_type": "code",
   "execution_count": null,
   "metadata": {},
   "outputs": [],
   "source": []
  },
  {
   "cell_type": "code",
   "execution_count": null,
   "metadata": {},
   "outputs": [],
   "source": []
  },
  {
   "cell_type": "code",
   "execution_count": null,
   "metadata": {},
   "outputs": [],
   "source": []
  },
  {
   "cell_type": "code",
   "execution_count": 91,
   "metadata": {},
   "outputs": [],
   "source": []
  },
  {
   "cell_type": "code",
   "execution_count": 92,
   "metadata": {},
   "outputs": [],
   "source": [
    "#51.\n",
    "dfs['core_tasks'].head(5);\n",
    "#52.\n",
    "dfs['core_theme_settings_values'].head(5);\n",
    "#53.\n",
    "dfs['core_theme_templates'].head(5);\n",
    "#54.\n",
    "dfs['core_themes'].head(5);\n",
    "#55.\n",
    "dfs['core_upgrade_history'].head(5);\n",
    "#56.\n",
    "dfs['core_widgets'].head(5);\n",
    "#57.\n",
    "dfs['orig_admin_login_logs'].head(5);\n",
    "#58.\n",
    "dfs['orig_admin_logs'].head(5);\n",
    "#59.\n",
    "dfs['orig_attachments_type'].head(5);\n",
    "#60.\n",
    "dfs['orig_cache_store'].head(5);"
   ]
  },
  {
   "cell_type": "code",
   "execution_count": null,
   "metadata": {},
   "outputs": [],
   "source": [
    "#61.\n",
    "dfs['orig_cal_calendars'].head(5);\n",
    "#62.\n",
    "dfs['orig_cal_events'].head(5);\n",
    "#63.\n",
    "dfs['orig_content_cache_sigs'].head(5);\n",
    "#64.\n",
    "dfs['orig_core_applications'].head(5);\n",
    "#65.\n",
    "dfs['orig_core_hooks'].head(5);\n",
    "#66.\n",
    "dfs['orig_core_hooks_files'].head(5);\n",
    "#67.\n",
    "dfs['orig_core_item_markers_storage'].head(5);\n",
    "#68.\n",
    "dfs['orig_core_like_cache'].head(5);\n",
    "#69.\n",
    "dfs['orig_core_share_links'].head(5);\n",
    "#70.\n",
    "dfs['orig_core_sys_lang_words'].head(5);"
   ]
  },
  {
   "cell_type": "code",
   "execution_count": 210,
   "metadata": {},
   "outputs": [],
   "source": [
    "#81.\n",
    "dfs['orig_permission_index'].head(5);\n",
    "#82.\n",
    "dfs['orig_pfields_content'].head(5);\n",
    "#83.\n",
    "dfs['orig_pfields_data'].head(5);\n",
    "#84.\n",
    "dfs['orig_pfields_groups'].head(5);\n",
    "#85.\n",
    "dfs['orig_profile_portal'].head(5);\n",
    "#86.\n",
    "dfs['orig_rc_classes'].head(5);\n",
    "#87.\n",
    "dfs['orig_rc_comments'].head(5);\n",
    "#88.\n",
    "dfs['orig_rc_modpref'].head(5);\n",
    "#89.\n",
    "dfs['orig_rc_status'].head(5);\n",
    "#90.\n",
    "dfs['orig_rc_status_sev'].head(5);"
   ]
  },
  {
   "cell_type": "code",
   "execution_count": 208,
   "metadata": {},
   "outputs": [],
   "source": [
    "#71.\n",
    "dfs['orig_core_sys_module'].head(5);\n",
    "#72.\n",
    "dfs['orig_custom_bbcode'].head(5);\n",
    "#73.\n",
    "dfs['orig_error_logs'].head(5);\n",
    "#74.\n",
    "dfs['orig_ignored_users'].head(5);\n",
    "#75.\n",
    "dfs['orig_inline_notifications'].head(5);\n",
    "#76.\n",
    "dfs['orig_members'].head(5);\n",
    "#77.\n",
    "dfs['orig_members_warn_logs'].head(5);\n",
    "#78.\n",
    "dfs['orig_message_topic_user_map'].head(5);\n",
    "#79.\n",
    "dfs['orig_message_topics'].head(5);\n",
    "#80.\n",
    "dfs['orig_moderator_logs'].head(5);"
   ]
  },
  {
   "cell_type": "code",
   "execution_count": 209,
   "metadata": {},
   "outputs": [],
   "source": [
    "#91.\n",
    "dfs['orig_reputation_cache'].head(5);\n",
    "#92.\n",
    "dfs['orig_reputation_index'].head(5);\n",
    "#93.\n",
    "dfs['orig_search_keywords'].head(5);\n",
    "#94.\n",
    "dfs['orig_search_sessions'].head(5);\n",
    "#95.\n",
    "dfs['orig_search_visitors'].head(5);\n",
    "#96.\n",
    "dfs['orig_skin_templates'].head(5);\n",
    "#97.\n",
    "dfs['orig_task_logs'].head(5);\n",
    "#98.\n",
    "dfs['orig_topic_ratings'].head(5);\n",
    "#99.\n",
    "dfs['orig_validating'].head(5);\n",
    "#100.\n",
    "dfs['x_utf_convert_session'].head(5);"
   ]
  },
  {
   "cell_type": "code",
   "execution_count": 88,
   "metadata": {},
   "outputs": [],
   "source": [
    "l = ['core_javascript',\n",
    " 'core_leaders',\n",
    " 'core_like_cache',\n",
    " 'core_login_handlers',\n",
    " 'core_members',\n",
    " 'core_members_known_devices',\n",
    " 'core_members_warn_reasons',\n",
    " 'core_menu',\n",
    " 'core_message_posts',\n",
    " 'core_message_topics',\n",
    " 'core_moderator_logs',\n",
    " 'core_moderators',\n",
    " 'core_modules',\n",
    " 'core_notification_defaults',\n",
    " 'core_pfields_content',\n",
    " 'core_pfields_data',\n",
    " 'core_polls',\n",
    " 'core_ratings',\n",
    " 'core_rc_comments',\n",
    " 'core_rc_index',\n",
    " 'core_rc_reports',\n",
    " 'core_reputation_levels',\n",
    " 'core_search_index',\n",
    " 'core_search_index_item_map',\n",
    " 'core_social_promote_sharers',\n",
    " 'core_soft_delete_log',\n",
    " 'core_sys_conf_settings',\n",
    " 'core_sys_login',\n",
    " 'core_tags',\n",
    " 'core_tags_cache',\n",
    " 'core_tasks',\n",
    " 'core_theme_settings_values',\n",
    " 'core_theme_templates',\n",
    " 'core_themes',\n",
    " 'core_upgrade_history',\n",
    " 'core_widgets',\n",
    " 'orig_admin_login_logs',\n",
    " 'orig_admin_logs',\n",
    " 'orig_attachments_type',\n",
    " 'orig_cache_store',\n",
    " 'orig_cal_calendars',\n",
    " 'orig_cal_events',\n",
    " 'orig_content_cache_sigs',\n",
    " 'orig_core_applications',\n",
    " 'orig_core_hooks',\n",
    " 'orig_core_hooks_files',\n",
    " 'orig_core_item_markers_storage',\n",
    " 'orig_core_like_cache',\n",
    " 'orig_core_share_links',\n",
    " 'orig_core_sys_lang_words',\n",
    " 'orig_core_sys_module',\n",
    " 'orig_custom_bbcode',\n",
    " 'orig_error_logs',\n",
    " 'orig_ignored_users',\n",
    " 'orig_inline_notifications',\n",
    " 'orig_members',\n",
    " 'orig_members_warn_logs',\n",
    " 'orig_message_topic_user_map',\n",
    " 'orig_message_topics',\n",
    " 'orig_moderator_logs',\n",
    " 'orig_permission_index',\n",
    " 'orig_pfields_content',\n",
    " 'orig_pfields_data',\n",
    " 'orig_pfields_groups',\n",
    " 'orig_profile_portal',\n",
    " 'orig_rc_classes',\n",
    " 'orig_rc_comments',\n",
    " 'orig_rc_modpref',\n",
    " 'orig_rc_status',\n",
    " 'orig_rc_status_sev',\n",
    " 'orig_reputation_cache',\n",
    " 'orig_reputation_index',\n",
    " 'orig_search_keywords',\n",
    " 'orig_search_sessions',\n",
    " 'orig_search_visitors',\n",
    " 'orig_skin_templates',\n",
    " 'orig_task_logs',\n",
    " 'orig_topic_ratings',\n",
    " 'orig_validating',\n",
    " 'x_utf_convert_session']"
   ]
  },
  {
   "cell_type": "code",
   "execution_count": 89,
   "metadata": {},
   "outputs": [
    {
     "name": "stdout",
     "output_type": "stream",
     "text": [
      "#21.\n",
      "dfs['core_javascript'].head(5);\n",
      "#22.\n",
      "dfs['core_leaders'].head(5);\n",
      "#23.\n",
      "dfs['core_like_cache'].head(5);\n",
      "#24.\n",
      "dfs['core_login_handlers'].head(5);\n",
      "#25.\n",
      "dfs['core_members'].head(5);\n",
      "#26.\n",
      "dfs['core_members_known_devices'].head(5);\n",
      "#27.\n",
      "dfs['core_members_warn_reasons'].head(5);\n",
      "#28.\n",
      "dfs['core_menu'].head(5);\n",
      "#29.\n",
      "dfs['core_message_posts'].head(5);\n",
      "#30.\n",
      "dfs['core_message_topics'].head(5);\n",
      "#31.\n",
      "dfs['core_moderator_logs'].head(5);\n",
      "#32.\n",
      "dfs['core_moderators'].head(5);\n",
      "#33.\n",
      "dfs['core_modules'].head(5);\n",
      "#34.\n",
      "dfs['core_notification_defaults'].head(5);\n",
      "#35.\n",
      "dfs['core_pfields_content'].head(5);\n",
      "#36.\n",
      "dfs['core_pfields_data'].head(5);\n",
      "#37.\n",
      "dfs['core_polls'].head(5);\n",
      "#38.\n",
      "dfs['core_ratings'].head(5);\n",
      "#39.\n",
      "dfs['core_rc_comments'].head(5);\n",
      "#40.\n",
      "dfs['core_rc_index'].head(5);\n",
      "#41.\n",
      "dfs['core_rc_reports'].head(5);\n",
      "#42.\n",
      "dfs['core_reputation_levels'].head(5);\n",
      "#43.\n",
      "dfs['core_search_index'].head(5);\n",
      "#44.\n",
      "dfs['core_search_index_item_map'].head(5);\n",
      "#45.\n",
      "dfs['core_social_promote_sharers'].head(5);\n",
      "#46.\n",
      "dfs['core_soft_delete_log'].head(5);\n",
      "#47.\n",
      "dfs['core_sys_conf_settings'].head(5);\n",
      "#48.\n",
      "dfs['core_sys_login'].head(5);\n",
      "#49.\n",
      "dfs['core_tags'].head(5);\n",
      "#50.\n",
      "dfs['core_tags_cache'].head(5);\n",
      "#51.\n",
      "dfs['core_tasks'].head(5);\n",
      "#52.\n",
      "dfs['core_theme_settings_values'].head(5);\n",
      "#53.\n",
      "dfs['core_theme_templates'].head(5);\n",
      "#54.\n",
      "dfs['core_themes'].head(5);\n",
      "#55.\n",
      "dfs['core_upgrade_history'].head(5);\n",
      "#56.\n",
      "dfs['core_widgets'].head(5);\n",
      "#57.\n",
      "dfs['orig_admin_login_logs'].head(5);\n",
      "#58.\n",
      "dfs['orig_admin_logs'].head(5);\n",
      "#59.\n",
      "dfs['orig_attachments_type'].head(5);\n",
      "#60.\n",
      "dfs['orig_cache_store'].head(5);\n",
      "#61.\n",
      "dfs['orig_cal_calendars'].head(5);\n",
      "#62.\n",
      "dfs['orig_cal_events'].head(5);\n",
      "#63.\n",
      "dfs['orig_content_cache_sigs'].head(5);\n",
      "#64.\n",
      "dfs['orig_core_applications'].head(5);\n",
      "#65.\n",
      "dfs['orig_core_hooks'].head(5);\n",
      "#66.\n",
      "dfs['orig_core_hooks_files'].head(5);\n",
      "#67.\n",
      "dfs['orig_core_item_markers_storage'].head(5);\n",
      "#68.\n",
      "dfs['orig_core_like_cache'].head(5);\n",
      "#69.\n",
      "dfs['orig_core_share_links'].head(5);\n",
      "#70.\n",
      "dfs['orig_core_sys_lang_words'].head(5);\n",
      "#71.\n",
      "dfs['orig_core_sys_module'].head(5);\n",
      "#72.\n",
      "dfs['orig_custom_bbcode'].head(5);\n",
      "#73.\n",
      "dfs['orig_error_logs'].head(5);\n",
      "#74.\n",
      "dfs['orig_ignored_users'].head(5);\n",
      "#75.\n",
      "dfs['orig_inline_notifications'].head(5);\n",
      "#76.\n",
      "dfs['orig_members'].head(5);\n",
      "#77.\n",
      "dfs['orig_members_warn_logs'].head(5);\n",
      "#78.\n",
      "dfs['orig_message_topic_user_map'].head(5);\n",
      "#79.\n",
      "dfs['orig_message_topics'].head(5);\n",
      "#80.\n",
      "dfs['orig_moderator_logs'].head(5);\n",
      "#81.\n",
      "dfs['orig_permission_index'].head(5);\n",
      "#82.\n",
      "dfs['orig_pfields_content'].head(5);\n",
      "#83.\n",
      "dfs['orig_pfields_data'].head(5);\n",
      "#84.\n",
      "dfs['orig_pfields_groups'].head(5);\n",
      "#85.\n",
      "dfs['orig_profile_portal'].head(5);\n",
      "#86.\n",
      "dfs['orig_rc_classes'].head(5);\n",
      "#87.\n",
      "dfs['orig_rc_comments'].head(5);\n",
      "#88.\n",
      "dfs['orig_rc_modpref'].head(5);\n",
      "#89.\n",
      "dfs['orig_rc_status'].head(5);\n",
      "#90.\n",
      "dfs['orig_rc_status_sev'].head(5);\n",
      "#91.\n",
      "dfs['orig_reputation_cache'].head(5);\n",
      "#92.\n",
      "dfs['orig_reputation_index'].head(5);\n",
      "#93.\n",
      "dfs['orig_search_keywords'].head(5);\n",
      "#94.\n",
      "dfs['orig_search_sessions'].head(5);\n",
      "#95.\n",
      "dfs['orig_search_visitors'].head(5);\n",
      "#96.\n",
      "dfs['orig_skin_templates'].head(5);\n",
      "#97.\n",
      "dfs['orig_task_logs'].head(5);\n",
      "#98.\n",
      "dfs['orig_topic_ratings'].head(5);\n",
      "#99.\n",
      "dfs['orig_validating'].head(5);\n",
      "#100.\n",
      "dfs['x_utf_convert_session'].head(5);\n"
     ]
    }
   ],
   "source": [
    "for i in range(len(l)):\n",
    "    print(f'#{i + 21}.')\n",
    "    print(f\"dfs['{l[i]}'].head(5);\")"
   ]
  },
  {
   "cell_type": "code",
   "execution_count": null,
   "metadata": {},
   "outputs": [],
   "source": []
  }
 ],
 "metadata": {
  "kernelspec": {
   "display_name": "env",
   "language": "python",
   "name": "env"
  },
  "language_info": {
   "codemirror_mode": {
    "name": "ipython",
    "version": 3
   },
   "file_extension": ".py",
   "mimetype": "text/x-python",
   "name": "python",
   "nbconvert_exporter": "python",
   "pygments_lexer": "ipython3",
   "version": "3.8.2"
  }
 },
 "nbformat": 4,
 "nbformat_minor": 4
}
