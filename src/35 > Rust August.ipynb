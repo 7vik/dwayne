{
 "cells": [
  {
   "cell_type": "markdown",
   "metadata": {},
   "source": [
    "The name of this file, \"Rust August\" is deep, poetic, and exudes strong taste of philosophical reminiscence. I'll leave it to the reader to figure it out.\n",
    "\n",
    "We'll start the week with reading two papers: Nulled.io and CharacterizeEve, both of which are available (with highlights and notes) at `../papers/`\n",
    "\n",
    "After this, we'll look at all the data files and figure out 2-3 graph learning problems we can find from this data, and then narrow down to one to solve using GRL.\n",
    "\n",
    "A very crude data dictionary is available [here](https://www.bellingcat.com/resources/how-tos/2019/11/06/massive-white-supremacist-message-board-leak-how-to-access-and-interpret-the-data/). Though, this isn't academic, it's the best we have rn."
   ]
  },
  {
   "cell_type": "code",
   "execution_count": 2,
   "metadata": {},
   "outputs": [],
   "source": [
    "import pandas as pd\n",
    "import numpy as np\n",
    "import matplotlib.pyplot as plt\n",
    "%matplotlib inline\n",
    "import os\n",
    "import requests \n",
    "import io\n",
    "import seaborn as sns"
   ]
  },
  {
   "cell_type": "code",
   "execution_count": 3,
   "metadata": {},
   "outputs": [
    {
     "data": {
      "text/plain": [
       "['core_theme_settings_values.csv',\n",
       " 'orig_admin_login_logs.csv',\n",
       " 'core_sys_login.csv',\n",
       " 'core_theme_templates.csv']"
      ]
     },
     "execution_count": 3,
     "metadata": {},
     "output_type": "execute_result"
    }
   ],
   "source": [
    "PATH = '../data/'\n",
    "files = os.listdir(PATH)\n",
    "files[:4]"
   ]
  },
  {
   "cell_type": "code",
   "execution_count": 4,
   "metadata": {},
   "outputs": [],
   "source": [
    "dfs = {f[:-4] : pd.read_csv(PATH + f) \n",
    "           for f in files if f[-3:] == 'csv'\n",
    "}"
   ]
  },
  {
   "cell_type": "code",
   "execution_count": 4,
   "metadata": {},
   "outputs": [],
   "source": [
    "# 1. HTML tags for various media embeds. Not useful.\n",
    "dfs['bbcode_mediatag'].head(3);"
   ]
  },
  {
   "cell_type": "code",
   "execution_count": 5,
   "metadata": {},
   "outputs": [],
   "source": [
    "# 2. Different types of calendars. Not useful.\n",
    "dfs['calendar_calendars'].head(3);"
   ]
  },
  {
   "cell_type": "code",
   "execution_count": 6,
   "metadata": {},
   "outputs": [],
   "source": [
    "#3. comment_eid (event id?), comment_mid (member id?), \n",
    "#comment_text, comment_author (string name) might be useful.\n",
    "dfs['calendar_event_comments'].head(3);"
   ]
  },
  {
   "cell_type": "code",
   "execution_count": 7,
   "metadata": {},
   "outputs": [],
   "source": [
    "#4. Calendar events list. Not useful.\n",
    "dfs['calendar_events'].head(4);"
   ]
  },
  {
   "cell_type": "code",
   "execution_count": 8,
   "metadata": {},
   "outputs": [],
   "source": [
    "#5. Not useful.\n",
    "dfs['core_acp_search_index'].head(5);"
   ]
  },
  {
   "cell_type": "code",
   "execution_count": 9,
   "metadata": {},
   "outputs": [],
   "source": [
    "#6. NU ( = {Not Useful})\n",
    "dfs['core_admin_login_logs'].head(5);"
   ]
  },
  {
   "cell_type": "code",
   "execution_count": 10,
   "metadata": {},
   "outputs": [],
   "source": [
    "#7. NU\n",
    "dfs['core_admin_logs'].head(4);\n",
    "# member_id = 1 is of admin. username = Александр Славрос is of admin."
   ]
  },
  {
   "cell_type": "code",
   "execution_count": 11,
   "metadata": {},
   "outputs": [],
   "source": [
    "#8. NU\n",
    "dfs['core_applications'];"
   ]
  },
  {
   "cell_type": "code",
   "execution_count": 12,
   "metadata": {},
   "outputs": [],
   "source": [
    "#9. NU\n",
    "dfs['core_attachments'].head(4);"
   ]
  },
  {
   "cell_type": "code",
   "execution_count": 13,
   "metadata": {},
   "outputs": [],
   "source": [
    "#10. NU. Banned on Iron March... gg :)\n",
    "dfs['core_banfilters'].head(3);"
   ]
  },
  {
   "cell_type": "code",
   "execution_count": 14,
   "metadata": {},
   "outputs": [],
   "source": [
    "#11. NU\n",
    "dfs['core_cache'];"
   ]
  },
  {
   "cell_type": "code",
   "execution_count": 15,
   "metadata": {},
   "outputs": [],
   "source": [
    "#12. NU\n",
    "dfs['core_deletion_log'];"
   ]
  },
  {
   "cell_type": "code",
   "execution_count": 16,
   "metadata": {},
   "outputs": [],
   "source": [
    "#13. NU.\n",
    "dfs['core_emoticons'];"
   ]
  },
  {
   "cell_type": "code",
   "execution_count": 17,
   "metadata": {},
   "outputs": [],
   "source": [
    "#14. NU\n",
    "dfs['core_file_logs'];"
   ]
  },
  {
   "cell_type": "code",
   "execution_count": 18,
   "metadata": {},
   "outputs": [],
   "source": [
    "#15. NU\n",
    "dfs['core_file_storage'];"
   ]
  },
  {
   "cell_type": "code",
   "execution_count": 19,
   "metadata": {},
   "outputs": [],
   "source": [
    "#16. follow_rel_id (?) and follow_member_id may be useful.\n",
    "dfs['core_follow'];"
   ]
  },
  {
   "cell_type": "code",
   "execution_count": 20,
   "metadata": {},
   "outputs": [],
   "source": [
    "#17. NU\n",
    "dfs['core_group_promotions'];"
   ]
  },
  {
   "cell_type": "code",
   "execution_count": 21,
   "metadata": {},
   "outputs": [],
   "source": [
    "#18. NU\n",
    "dfs['core_hooks_files'];"
   ]
  },
  {
   "cell_type": "code",
   "execution_count": 22,
   "metadata": {},
   "outputs": [],
   "source": [
    "#19. NU\n",
    "dfs['core_ignored_users'];"
   ]
  },
  {
   "cell_type": "code",
   "execution_count": 23,
   "metadata": {},
   "outputs": [],
   "source": [
    "#20. NU\n",
    "dfs['core_item_markers'];"
   ]
  },
  {
   "cell_type": "code",
   "execution_count": 24,
   "metadata": {},
   "outputs": [],
   "source": [
    "#21. NU\n",
    "dfs['core_javascript'].head(5);"
   ]
  },
  {
   "cell_type": "code",
   "execution_count": 25,
   "metadata": {},
   "outputs": [],
   "source": [
    "#22. NU\n",
    "dfs['core_leaders'].head(5);"
   ]
  },
  {
   "cell_type": "code",
   "execution_count": 26,
   "metadata": {},
   "outputs": [],
   "source": [
    "#23. NU\n",
    "dfs['core_like_cache'].head(5);"
   ]
  },
  {
   "cell_type": "code",
   "execution_count": 27,
   "metadata": {},
   "outputs": [],
   "source": [
    "#24. NU\n",
    "dfs['core_login_handlers'].head(5);"
   ]
  },
  {
   "cell_type": "code",
   "execution_count": 28,
   "metadata": {},
   "outputs": [],
   "source": [
    "#25. All Users. Important.\n",
    "# member_id is unique and reflected across all csvs (total 1207)\n",
    "# all other things like DoB, IP, etc are most likely spoof\n",
    "# Difference between name and member_title\n",
    "# What is member_group_id?\n",
    "dfs['core_members'];"
   ]
  },
  {
   "cell_type": "code",
   "execution_count": 29,
   "metadata": {},
   "outputs": [],
   "source": [
    "#26. NU\n",
    "dfs['core_members_known_devices'].head(5);"
   ]
  },
  {
   "cell_type": "code",
   "execution_count": 30,
   "metadata": {},
   "outputs": [],
   "source": [
    "#27. NU\n",
    "dfs['core_members_warn_reasons'].head(5);"
   ]
  },
  {
   "cell_type": "code",
   "execution_count": 31,
   "metadata": {},
   "outputs": [],
   "source": [
    "#28. NU\n",
    "dfs['core_menu'].head(5);"
   ]
  },
  {
   "cell_type": "code",
   "execution_count": 5,
   "metadata": {},
   "outputs": [
    {
     "data": {
      "text/html": [
       "<div>\n",
       "<style scoped>\n",
       "    .dataframe tbody tr th:only-of-type {\n",
       "        vertical-align: middle;\n",
       "    }\n",
       "\n",
       "    .dataframe tbody tr th {\n",
       "        vertical-align: top;\n",
       "    }\n",
       "\n",
       "    .dataframe thead th {\n",
       "        text-align: right;\n",
       "    }\n",
       "</style>\n",
       "<table border=\"1\" class=\"dataframe\">\n",
       "  <thead>\n",
       "    <tr style=\"text-align: right;\">\n",
       "      <th></th>\n",
       "      <th>msg_id</th>\n",
       "      <th>msg_topic_id</th>\n",
       "      <th>msg_date</th>\n",
       "      <th>msg_post</th>\n",
       "      <th>msg_post_key</th>\n",
       "      <th>msg_author_id</th>\n",
       "      <th>msg_ip_address</th>\n",
       "      <th>msg_is_first_post</th>\n",
       "    </tr>\n",
       "  </thead>\n",
       "  <tbody>\n",
       "    <tr>\n",
       "      <th>0</th>\n",
       "      <td>1</td>\n",
       "      <td>1</td>\n",
       "      <td>1316144998</td>\n",
       "      <td>&lt;p&gt;The best first post to make on our forums i...</td>\n",
       "      <td>3320f7f06c422ef0fb77342724b4fd24</td>\n",
       "      <td>1</td>\n",
       "      <td>178.140.119.217</td>\n",
       "      <td>1</td>\n",
       "    </tr>\n",
       "    <tr>\n",
       "      <th>1</th>\n",
       "      <td>2</td>\n",
       "      <td>2</td>\n",
       "      <td>1316174048</td>\n",
       "      <td>\\n&lt;p&gt;Who are we hosting this forum from?&lt;/p&gt;\\n...</td>\n",
       "      <td>9204e4883321af2275a37138d054a3f1</td>\n",
       "      <td>11</td>\n",
       "      <td>109.78.212.13</td>\n",
       "      <td>1</td>\n",
       "    </tr>\n",
       "    <tr>\n",
       "      <th>2</th>\n",
       "      <td>3</td>\n",
       "      <td>2</td>\n",
       "      <td>1316183999</td>\n",
       "      <td>&lt;p&gt;Crisis Host - they basically provide hostin...</td>\n",
       "      <td>12fd0309239711d02b39127de3502c51</td>\n",
       "      <td>1</td>\n",
       "      <td>178.140.119.217</td>\n",
       "      <td>0</td>\n",
       "    </tr>\n",
       "    <tr>\n",
       "      <th>3</th>\n",
       "      <td>4</td>\n",
       "      <td>2</td>\n",
       "      <td>1316186941</td>\n",
       "      <td>&lt;p&gt;Thank you, I'll make a note of it, I am ver...</td>\n",
       "      <td>0658c6f99ac18d90609ea074ae5eefe6</td>\n",
       "      <td>11</td>\n",
       "      <td>109.78.212.13</td>\n",
       "      <td>0</td>\n",
       "    </tr>\n",
       "    <tr>\n",
       "      <th>4</th>\n",
       "      <td>5</td>\n",
       "      <td>2</td>\n",
       "      <td>1316187178</td>\n",
       "      <td>&lt;p&gt;If you mean the dark+orange skin then that'...</td>\n",
       "      <td>570257864e3cb812eebc2de5e5919080</td>\n",
       "      <td>1</td>\n",
       "      <td>178.140.119.217</td>\n",
       "      <td>0</td>\n",
       "    </tr>\n",
       "  </tbody>\n",
       "</table>\n",
       "</div>"
      ],
      "text/plain": [
       "   msg_id  msg_topic_id    msg_date  \\\n",
       "0       1             1  1316144998   \n",
       "1       2             2  1316174048   \n",
       "2       3             2  1316183999   \n",
       "3       4             2  1316186941   \n",
       "4       5             2  1316187178   \n",
       "\n",
       "                                            msg_post  \\\n",
       "0  <p>The best first post to make on our forums i...   \n",
       "1  \\n<p>Who are we hosting this forum from?</p>\\n...   \n",
       "2  <p>Crisis Host - they basically provide hostin...   \n",
       "3  <p>Thank you, I'll make a note of it, I am ver...   \n",
       "4  <p>If you mean the dark+orange skin then that'...   \n",
       "\n",
       "                       msg_post_key  msg_author_id   msg_ip_address  \\\n",
       "0  3320f7f06c422ef0fb77342724b4fd24              1  178.140.119.217   \n",
       "1  9204e4883321af2275a37138d054a3f1             11    109.78.212.13   \n",
       "2  12fd0309239711d02b39127de3502c51              1  178.140.119.217   \n",
       "3  0658c6f99ac18d90609ea074ae5eefe6             11    109.78.212.13   \n",
       "4  570257864e3cb812eebc2de5e5919080              1  178.140.119.217   \n",
       "\n",
       "   msg_is_first_post  \n",
       "0                  1  \n",
       "1                  1  \n",
       "2                  0  \n",
       "3                  0  \n",
       "4                  0  "
      ]
     },
     "execution_count": 5,
     "metadata": {},
     "output_type": "execute_result"
    }
   ],
   "source": [
    "#29. Important. All Private Messages. Total 21715.\n",
    "# msg_topic_id is the thread ID; each convo bw two users has its own thread/topic\n",
    "# msg_author_id is the same as member_id in core_members\n",
    "# msg_post is the first message in the thread, with HTML tags\n",
    "dfs['core_message_posts'].head(5)"
   ]
  },
  {
   "cell_type": "code",
   "execution_count": 33,
   "metadata": {},
   "outputs": [],
   "source": [
    "#30. All Private Message Topics (total 4475)\n",
    "# mt_id is same as msg_topic_id from core_message_posts\n",
    "# mt_starter_id is the member_id of the person who put the first message on that topic\n",
    "# mt_to_member_id is the member_id of the recipient of this private message\n",
    "dfs['core_message_topics'].head(5);"
   ]
  },
  {
   "cell_type": "code",
   "execution_count": 34,
   "metadata": {},
   "outputs": [],
   "source": [
    "#31. NU\n",
    "dfs['core_moderator_logs'];"
   ]
  },
  {
   "cell_type": "code",
   "execution_count": 35,
   "metadata": {},
   "outputs": [],
   "source": [
    "#32. NU.\n",
    "# Id 4, 6, 10 are core moderators.\n",
    "dfs['core_moderators'];"
   ]
  },
  {
   "cell_type": "code",
   "execution_count": 36,
   "metadata": {},
   "outputs": [],
   "source": [
    "#33. NU\n",
    "dfs['core_modules'].head(5);"
   ]
  },
  {
   "cell_type": "code",
   "execution_count": 37,
   "metadata": {},
   "outputs": [],
   "source": [
    "#34. NU\n",
    "dfs['core_notification_defaults'].head(5);"
   ]
  },
  {
   "cell_type": "code",
   "execution_count": 38,
   "metadata": {},
   "outputs": [],
   "source": [
    "#35. Pfields for each member. Total 1208. Could be used for node classification.\n",
    "dfs['core_pfields_content'].head(3);"
   ]
  },
  {
   "cell_type": "code",
   "execution_count": 39,
   "metadata": {},
   "outputs": [],
   "source": [
    "#36. NU\n",
    "dfs['core_pfields_data'];"
   ]
  },
  {
   "cell_type": "code",
   "execution_count": 40,
   "metadata": {},
   "outputs": [],
   "source": [
    "#37. NU\n",
    "dfs['core_polls'].head(4);"
   ]
  },
  {
   "cell_type": "code",
   "execution_count": 41,
   "metadata": {},
   "outputs": [],
   "source": [
    "#38. NU\n",
    "dfs['core_ratings'].head(4);"
   ]
  },
  {
   "cell_type": "code",
   "execution_count": 42,
   "metadata": {},
   "outputs": [],
   "source": [
    "#39. NU\n",
    "dfs['core_rc_comments'].head(5);"
   ]
  },
  {
   "cell_type": "code",
   "execution_count": 43,
   "metadata": {},
   "outputs": [],
   "source": [
    "#40. NU\n",
    "dfs['core_rc_index'].head(5);"
   ]
  },
  {
   "cell_type": "code",
   "execution_count": 44,
   "metadata": {},
   "outputs": [],
   "source": [
    "#41. NU\n",
    "dfs['core_rc_reports'].head(5);"
   ]
  },
  {
   "cell_type": "code",
   "execution_count": 45,
   "metadata": {},
   "outputs": [],
   "source": [
    "#42. NU. (unless level_id and level_points come across as important cross-references)\n",
    "dfs['core_reputation_levels'];"
   ]
  },
  {
   "cell_type": "code",
   "execution_count": 46,
   "metadata": {},
   "outputs": [],
   "source": [
    "#43. Important. All Posts. Total 196042.\n",
    "# index_content has the post content.\n",
    "# index_author is the member_id of the authon of that post.\n",
    "dfs['core_search_index'].head(4);"
   ]
  },
  {
   "cell_type": "code",
   "execution_count": 47,
   "metadata": {},
   "outputs": [],
   "source": [
    "#44. NU\n",
    "dfs['core_search_index_item_map'].head(5);"
   ]
  },
  {
   "cell_type": "code",
   "execution_count": 48,
   "metadata": {},
   "outputs": [],
   "source": [
    "#45. NU\n",
    "dfs['core_social_promote_sharers'].head(5);"
   ]
  },
  {
   "cell_type": "code",
   "execution_count": 49,
   "metadata": {},
   "outputs": [],
   "source": [
    "#46. NU\n",
    "dfs['core_soft_delete_log'].head(5);"
   ]
  },
  {
   "cell_type": "code",
   "execution_count": 50,
   "metadata": {},
   "outputs": [],
   "source": [
    "#47. NU\n",
    "dfs['core_sys_conf_settings'].head(5);"
   ]
  },
  {
   "cell_type": "code",
   "execution_count": 51,
   "metadata": {},
   "outputs": [],
   "source": [
    "#48. NU\n",
    "dfs['core_sys_login'].head(5);"
   ]
  },
  {
   "cell_type": "code",
   "execution_count": 52,
   "metadata": {},
   "outputs": [],
   "source": [
    "#49. NU\n",
    "dfs['core_tags'];"
   ]
  },
  {
   "cell_type": "code",
   "execution_count": 53,
   "metadata": {},
   "outputs": [],
   "source": [
    "#50. NU\n",
    "dfs['core_tags_cache'].head(5);"
   ]
  },
  {
   "cell_type": "code",
   "execution_count": 56,
   "metadata": {},
   "outputs": [],
   "source": [
    "#51. NU\n",
    "dfs['core_tasks'].head(5);"
   ]
  },
  {
   "cell_type": "code",
   "execution_count": 69,
   "metadata": {},
   "outputs": [],
   "source": [
    "#52. NU\n",
    "dfs['core_theme_settings_values'].head(5);"
   ]
  },
  {
   "cell_type": "code",
   "execution_count": 68,
   "metadata": {},
   "outputs": [],
   "source": [
    "#53. NU\n",
    "dfs['core_theme_templates'].head(5);"
   ]
  },
  {
   "cell_type": "code",
   "execution_count": 67,
   "metadata": {},
   "outputs": [],
   "source": [
    "#54. NU\n",
    "dfs['core_themes'].head(5);"
   ]
  },
  {
   "cell_type": "code",
   "execution_count": 66,
   "metadata": {},
   "outputs": [],
   "source": [
    "#55. NU\n",
    "dfs['core_upgrade_history'].head(5);"
   ]
  },
  {
   "cell_type": "code",
   "execution_count": 65,
   "metadata": {},
   "outputs": [],
   "source": [
    "#56. NU\n",
    "dfs['core_widgets'].head(5);"
   ]
  },
  {
   "cell_type": "code",
   "execution_count": 64,
   "metadata": {},
   "outputs": [],
   "source": [
    "#57. NU\n",
    "dfs['orig_admin_login_logs'].head(4);\n",
    "# name of admin_username is 'Alexander Slavros' or 'admin'"
   ]
  },
  {
   "cell_type": "code",
   "execution_count": 72,
   "metadata": {},
   "outputs": [],
   "source": [
    "#58. NU\n",
    "dfs['orig_admin_logs'].head(4);"
   ]
  },
  {
   "cell_type": "code",
   "execution_count": 75,
   "metadata": {},
   "outputs": [],
   "source": [
    "#59. NU\n",
    "dfs['orig_attachments_type'].head(5);"
   ]
  },
  {
   "cell_type": "code",
   "execution_count": 76,
   "metadata": {},
   "outputs": [],
   "source": [
    "#60. NU\n",
    "dfs['orig_cache_store'].head(5);"
   ]
  },
  {
   "cell_type": "code",
   "execution_count": 78,
   "metadata": {},
   "outputs": [],
   "source": [
    "#61. NU\n",
    "dfs['orig_cal_calendars'].head(5);"
   ]
  },
  {
   "cell_type": "code",
   "execution_count": 82,
   "metadata": {},
   "outputs": [],
   "source": [
    "#62. NU\n",
    "dfs['orig_cal_events'].head(5).event_content[0];"
   ]
  },
  {
   "cell_type": "code",
   "execution_count": 107,
   "metadata": {},
   "outputs": [],
   "source": [
    "#63. NU\n",
    "dfs['orig_content_cache_sigs'];"
   ]
  },
  {
   "cell_type": "code",
   "execution_count": 105,
   "metadata": {},
   "outputs": [],
   "source": [
    "#64. NU\n",
    "dfs['orig_core_applications'].head(5);"
   ]
  },
  {
   "cell_type": "code",
   "execution_count": 103,
   "metadata": {},
   "outputs": [],
   "source": [
    "#65. NU\n",
    "dfs['orig_core_hooks'].head(5);"
   ]
  },
  {
   "cell_type": "code",
   "execution_count": 102,
   "metadata": {},
   "outputs": [],
   "source": [
    "#66. NU\n",
    "dfs['orig_core_hooks_files'];"
   ]
  },
  {
   "cell_type": "code",
   "execution_count": 100,
   "metadata": {},
   "outputs": [],
   "source": [
    "#67. NU\n",
    "dfs['orig_core_item_markers_storage'];"
   ]
  },
  {
   "cell_type": "code",
   "execution_count": 98,
   "metadata": {},
   "outputs": [],
   "source": [
    "#68. NU \n",
    "# Don't fully understand what it is\n",
    "dfs['orig_core_like_cache'].head(5);"
   ]
  },
  {
   "cell_type": "code",
   "execution_count": 93,
   "metadata": {},
   "outputs": [],
   "source": [
    "#69. NU\n",
    "dfs['orig_core_share_links'];"
   ]
  },
  {
   "cell_type": "code",
   "execution_count": 91,
   "metadata": {},
   "outputs": [],
   "source": [
    "#70. NU\n",
    "dfs['orig_core_sys_lang_words'].head(5);"
   ]
  },
  {
   "cell_type": "code",
   "execution_count": 109,
   "metadata": {},
   "outputs": [],
   "source": [
    "#71. NU\n",
    "dfs['orig_core_sys_module'].head(5);"
   ]
  },
  {
   "cell_type": "code",
   "execution_count": 111,
   "metadata": {},
   "outputs": [],
   "source": [
    "#72. NU\n",
    "dfs['orig_custom_bbcode'].head(5);"
   ]
  },
  {
   "cell_type": "code",
   "execution_count": 114,
   "metadata": {},
   "outputs": [],
   "source": [
    "#73. NU\n",
    "dfs['orig_error_logs'];"
   ]
  },
  {
   "cell_type": "code",
   "execution_count": 117,
   "metadata": {},
   "outputs": [],
   "source": [
    "#74. NU\n",
    "dfs['orig_ignored_users'];"
   ]
  },
  {
   "cell_type": "code",
   "execution_count": 124,
   "metadata": {},
   "outputs": [],
   "source": [
    "#75. Useful. Notification Graph could give us very informative edges.\n",
    "# from notify_from_id to notify_to_id based on notify_type_key\n",
    "# and notify_type_key could be a nice edge feature\n",
    "dfs['orig_inline_notifications'].notify_type_key.value_counts();\n",
    "dfs['orig_inline_notifications'].head(5);"
   ]
  },
  {
   "cell_type": "code",
   "execution_count": 156,
   "metadata": {},
   "outputs": [
    {
     "name": "stdout",
     "output_type": "stream",
     "text": [
      "based on username\n",
      "1207 763\n",
      "0.44 = fraction of original members in core members.\n",
      "0.28 = fraction of core members in original members.\n",
      "based on member_id\n",
      "1207 763\n",
      "0.56 = fraction of original members in core members.\n",
      "0.35 = fraction of core members in original members.\n"
     ]
    }
   ],
   "source": [
    "#76. 763 Original members.\n",
    "sum(dfs['orig_members'].email.isnull())\n",
    "orig_members = [name for name in dfs['orig_members'].name]\n",
    "core_members = [name for name in dfs['core_members'].name]\n",
    "print('based on username')\n",
    "print(len(core_members), len(orig_members))\n",
    "print(round(np.mean([\n",
    "    user in core_members\n",
    "    for user in orig_members\n",
    "]), 2),\n",
    "     '= fraction of original members in core members.')\n",
    "print(round(np.mean([\n",
    "    user in orig_members\n",
    "    for user in core_members\n",
    "]), 2),\n",
    "     '= fraction of core members in original members.')\n",
    "print('based on member_id')\n",
    "orig_members = [user for user in dfs['orig_members'].member_id]\n",
    "core_members = [user for user in dfs['core_members'].member_id]\n",
    "print(len(core_members), len(orig_members))\n",
    "print(round(np.mean([\n",
    "    user in core_members\n",
    "    for user in orig_members\n",
    "]), 2),\n",
    "     '= fraction of original members in core members.')\n",
    "print(round(np.mean([\n",
    "    user in orig_members\n",
    "    for user in core_members\n",
    "]), 2),\n",
    "     '= fraction of core members in original members.')\n"
   ]
  },
  {
   "cell_type": "code",
   "execution_count": 169,
   "metadata": {},
   "outputs": [],
   "source": [
    "#77. NU\n",
    "dfs['orig_members_warn_logs'].head(5);"
   ]
  },
  {
   "cell_type": "code",
   "execution_count": 180,
   "metadata": {},
   "outputs": [],
   "source": [
    "#78. Useful. But don't fully understand.\n",
    "# Mapping from user_id to topic_id, might help connect users.\n",
    "dfs['orig_message_topic_user_map'];"
   ]
  },
  {
   "cell_type": "code",
   "execution_count": 182,
   "metadata": {},
   "outputs": [],
   "source": [
    "#79 All Orig Message Topics (total 3101)\n",
    "# mt_id is same as map_topic_id from orig_message_topic_user_map\n",
    "# mt_starter_id is the member_id of the person who put the first message on that topic\n",
    "# mt_to_member_id is the member_id of the recipient of this message\n",
    "dfs['orig_message_topics'].head(5);"
   ]
  },
  {
   "cell_type": "code",
   "execution_count": 189,
   "metadata": {},
   "outputs": [],
   "source": [
    "#80. NU\n",
    "dfs['orig_moderator_logs'].head(4);"
   ]
  },
  {
   "cell_type": "code",
   "execution_count": 262,
   "metadata": {},
   "outputs": [],
   "source": [
    "#81. NU\n",
    "dfs['orig_permission_index'];"
   ]
  },
  {
   "cell_type": "code",
   "execution_count": 260,
   "metadata": {},
   "outputs": [],
   "source": [
    "#82. pfields of 764 members. Might help in node features.\n",
    "dfs['orig_pfields_content'].head(5);"
   ]
  },
  {
   "cell_type": "code",
   "execution_count": 258,
   "metadata": {},
   "outputs": [],
   "source": [
    "#83. NU\n",
    "dfs['orig_pfields_data'];"
   ]
  },
  {
   "cell_type": "code",
   "execution_count": 253,
   "metadata": {},
   "outputs": [],
   "source": [
    "#84.NU\n",
    "dfs['orig_pfields_groups'].head(5);"
   ]
  },
  {
   "cell_type": "code",
   "execution_count": 252,
   "metadata": {},
   "outputs": [],
   "source": [
    "#85. NU\n",
    "dfs['orig_profile_portal'].head(4);"
   ]
  },
  {
   "cell_type": "code",
   "execution_count": 249,
   "metadata": {},
   "outputs": [],
   "source": [
    "#86. NU\n",
    "dfs['orig_rc_classes'];"
   ]
  },
  {
   "cell_type": "code",
   "execution_count": 247,
   "metadata": {},
   "outputs": [],
   "source": [
    "#87. Only 20 rows. While it has id, rid, comment_by, author_name, 20 prolly won't help\n",
    "dfs['orig_rc_comments'];"
   ]
  },
  {
   "cell_type": "code",
   "execution_count": 243,
   "metadata": {},
   "outputs": [],
   "source": [
    "#88. NU\n",
    "dfs['orig_rc_modpref'].head(5);"
   ]
  },
  {
   "cell_type": "code",
   "execution_count": 242,
   "metadata": {},
   "outputs": [],
   "source": [
    "#89. NU\n",
    "dfs['orig_rc_status'].head(5);"
   ]
  },
  {
   "cell_type": "code",
   "execution_count": 241,
   "metadata": {},
   "outputs": [],
   "source": [
    "#90. NU\n",
    "dfs['orig_rc_status_sev'].head(5);"
   ]
  },
  {
   "cell_type": "code",
   "execution_count": 240,
   "metadata": {},
   "outputs": [],
   "source": [
    "#91. NU\n",
    "dfs['orig_reputation_cache'].head(4);"
   ]
  },
  {
   "cell_type": "code",
   "execution_count": 238,
   "metadata": {},
   "outputs": [],
   "source": [
    "#92. What is reputation? Total 141550\n",
    "# 635 users have a reputation index, could be used for node classification or features?\n",
    "dfs['orig_reputation_index'];"
   ]
  },
  {
   "cell_type": "code",
   "execution_count": 232,
   "metadata": {},
   "outputs": [],
   "source": [
    "#93. NU\n",
    "# might be useful for some later NLP work\n",
    "dfs['orig_search_keywords'];"
   ]
  },
  {
   "cell_type": "code",
   "execution_count": 227,
   "metadata": {},
   "outputs": [],
   "source": [
    "#94. NU\n",
    "dfs['orig_search_sessions'].head(4);"
   ]
  },
  {
   "cell_type": "code",
   "execution_count": 222,
   "metadata": {},
   "outputs": [],
   "source": [
    "#95. NU.\n",
    "dfs['orig_search_visitors'];"
   ]
  },
  {
   "cell_type": "code",
   "execution_count": 217,
   "metadata": {},
   "outputs": [],
   "source": [
    "#96. NU\n",
    "dfs['orig_skin_templates'].head(5);"
   ]
  },
  {
   "cell_type": "code",
   "execution_count": 216,
   "metadata": {},
   "outputs": [],
   "source": [
    "#97. NU\n",
    "dfs['orig_task_logs'];"
   ]
  },
  {
   "cell_type": "code",
   "execution_count": 214,
   "metadata": {},
   "outputs": [],
   "source": [
    "#98. NU\n",
    "dfs['orig_topic_ratings'];"
   ]
  },
  {
   "cell_type": "code",
   "execution_count": 212,
   "metadata": {},
   "outputs": [],
   "source": [
    "#99. NU\n",
    "dfs['orig_validating'];"
   ]
  },
  {
   "cell_type": "code",
   "execution_count": 210,
   "metadata": {},
   "outputs": [],
   "source": [
    "#100. NU\n",
    "dfs['x_utf_convert_session'].head(5);"
   ]
  }
 ],
 "metadata": {
  "kernelspec": {
   "display_name": "env",
   "language": "python",
   "name": "env"
  },
  "language_info": {
   "codemirror_mode": {
    "name": "ipython",
    "version": 3
   },
   "file_extension": ".py",
   "mimetype": "text/x-python",
   "name": "python",
   "nbconvert_exporter": "python",
   "pygments_lexer": "ipython3",
   "version": "3.8.2"
  }
 },
 "nbformat": 4,
 "nbformat_minor": 4
}
