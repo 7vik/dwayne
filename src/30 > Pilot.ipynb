{
 "cells": [
  {
   "cell_type": "markdown",
   "metadata": {},
   "source": [
    "Beginning with [this](https://medium.com/octavian-ai/how-to-get-started-with-machine-learning-on-graphs-7f0795c83763) on how to get started with ML on graphs.\n",
    "\n",
    "Some insights important for us:\n",
    "\n",
    "> In this article I’m not going to cover “traditional” graph analysis — that’s the well known algorithmic techniques like PageRank, clique identification, shortest path, etc. These are very powerful and should be considered a first port-of-call due to their well understood nature and plentiful implementation in public libraries.\n",
    "\n",
    "Dark Web data analysis problems do not conform to these formalisms due to their breadth.\n",
    "\n",
    "> In mainstream areas of ML the community has discovered widely applicable techniques (e.g. transfer learning using ResNet for images or BERT for text) and made them accessible to developers (e.g. TensorFlow, PyTorch, FastAI). However, there are no equivalently easy, universal techniques, nor do any of the popular ML libraries have support for graph data.\n",
    "\n",
    "Challenges faced while applying ML on graphs:\n",
    "\n",
    "- flexibility of graphs doesn’t fit the fixed computation-graph\n",
    "- so we do not get fixed sized tensors, a paradigm popular with deep learning libraries and GPU manufacturers\n",
    "- hence, it is customary (as of Q1, 2019) to build our own high level systems\n",
    "\n",
    "While sampling from a graph to feed to an ML model, two cases might arise:\n",
    "\n",
    "- for small graphs, we can use the adjacency matrix etc to get a tensor of minibatches\n",
    "- for large graphs, we will need a method to sample subgraphs from the graph and train on them.  An extreme case is to take individual node-edge pairs.\n",
    "\n",
    "> Note that some approaches tabularize the data before it reaches the machine learning library. Node2Vec is a good example of this, where random walks are used to transform each node into a vector. These vectors are then fed into the machine learning model as a list.\n",
    "\n",
    "Common types of graph ML problems:\n",
    "\n",
    "- scoring of nodes\n",
    "- scoring of edges\n",
    "- scoring of graphs\n",
    "- link prediction\n",
    "\n",
    "A very common way to vectorize graphs is through embeddings, like through using random walks. We should definitely try Node2Vec on our problem (a team member will be working on this)\n",
    "\n",
    "Graph Convolutional Networks, or simply, Graph Networks are a very broad area of research on graph ML, and I'll be focusing in on them from the next episode.\n",
    "\n",
    "Finally, recent approaches use techniques like attention and reinforcement learning to solve graph ML problems, and this might be the next thing to try after GCNs.\n",
    "\n",
    "TBC with these:\n",
    "- https://arxiv.org/abs/1806.01261\n",
    "- https://tkipf.github.io/graph-convolutional-networks/\n",
    "- https://arxiv.org/pdf/1812.08434v1.pdf\n",
    "- https://nlp.stanford.edu/pubs/SocherChenManningNg_NIPS2013.pdf\n",
    "\n",
    "And look at latest work on GCNs.\n",
    "\n",
    "Bye!"
   ]
  },
  {
   "cell_type": "code",
   "execution_count": null,
   "metadata": {},
   "outputs": [],
   "source": []
  }
 ],
 "metadata": {
  "kernelspec": {
   "display_name": "Python 3",
   "language": "python",
   "name": "python3"
  },
  "language_info": {
   "codemirror_mode": {
    "name": "ipython",
    "version": 3
   },
   "file_extension": ".py",
   "mimetype": "text/x-python",
   "name": "python",
   "nbconvert_exporter": "python",
   "pygments_lexer": "ipython3",
   "version": "3.8.2"
  }
 },
 "nbformat": 4,
 "nbformat_minor": 4
}
