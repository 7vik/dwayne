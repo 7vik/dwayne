{
  "nbformat": 4,
  "nbformat_minor": 0,
  "metadata": {
    "colab": {
      "name": "32 > Brass Tacks Vanilla GCNs in PyTorch",
      "provenance": [],
      "collapsed_sections": []
    },
    "kernelspec": {
      "name": "python3",
      "display_name": "Python 3"
    }
  },
  "cells": [
    {
      "cell_type": "markdown",
      "metadata": {
        "id": "uU9D21DXQmsg",
        "colab_type": "text"
      },
      "source": [
        "The nuts and bolts of Deep Graph Learning, with loading graph data and training a Vanilla GCN in PyTorch."
      ]
    },
    {
      "cell_type": "code",
      "metadata": {
        "id": "qDXNmqzP7jkV",
        "colab_type": "code",
        "colab": {
          "base_uri": "https://localhost:8080/",
          "height": 35
        },
        "outputId": "cf0cb2f8-9fbb-41b4-a16a-e9cb3c41a8f4"
      },
      "source": [
        "import torch\n",
        "torch.__version__"
      ],
      "execution_count": null,
      "outputs": [
        {
          "output_type": "execute_result",
          "data": {
            "application/vnd.google.colaboratory.intrinsic+json": {
              "type": "string"
            },
            "text/plain": [
              "'1.6.0+cu101'"
            ]
          },
          "metadata": {
            "tags": []
          },
          "execution_count": 1
        }
      ]
    },
    {
      "cell_type": "code",
      "metadata": {
        "id": "31Cv_pAy8x_s",
        "colab_type": "code",
        "colab": {}
      },
      "source": [
        "! wget -q https://github.com/tkipf/pygcn/raw/master/data/cora/cora.cites\n",
        "! wget -q https://github.com/tkipf/pygcn/raw/master/data/cora/cora.content"
      ],
      "execution_count": null,
      "outputs": []
    },
    {
      "cell_type": "code",
      "metadata": {
        "id": "PB0Ogz8UEF70",
        "colab_type": "code",
        "colab": {}
      },
      "source": [
        "import numpy as np\n",
        "import scipy.sparse as sp\n",
        "import torch"
      ],
      "execution_count": null,
      "outputs": []
    },
    {
      "cell_type": "code",
      "metadata": {
        "id": "1qXsZbm40boo",
        "colab_type": "code",
        "colab": {}
      },
      "source": [
        "def encode_onehot(labels):\n",
        "  classes      = set(labels)\n",
        "  classes_dict = {c : np.identity(len(classes))[i, :] for i, c in enumerate(classes)}\n",
        "  labels_oh    = np.array(list(map(classes_dict.get, labels)), dtype=np.int32)\n",
        "  return labels_oh"
      ],
      "execution_count": null,
      "outputs": []
    },
    {
      "cell_type": "markdown",
      "metadata": {
        "id": "cD0y3irJ2ziT",
        "colab_type": "text"
      },
      "source": [
        "## The Dataset (Cora)\n",
        "\n",
        "The Cora dataset consists of ML papers, classified into one of the following seven classes:\n",
        "-\tCase_Based\n",
        "-\tGenetic_Algorithms\n",
        "-\tNeural_Networks\n",
        "-\tProbabilistic_Methods\n",
        "-\tReinforcement_Learning\n",
        "-\tRule_Learning\n",
        "-\tTheory\n",
        "\n",
        "The papers were selected in a way such that in the final corpus every paper cites or is cited by atleast one other paper. There are 2708 papers in the whole corpus. \n",
        "\n",
        "After stemming and removing stopwords we were left with a vocabulary of size 1433 unique words. \n",
        "\n",
        "`cora.content` contains descriptions of the papers in the following format:\n",
        "\n",
        "\t\t<paper_id> <word_attributes> <class_label>\n",
        "\n",
        "The first entry in each line contains the unique string ID of the paper followed by binary values indicating whether each word in the vocabulary is present (indicated by 1) or absent (indicated by 0) in the paper. Finally, the last entry in the line contains the class label of the paper.\n",
        "\n",
        "`cora.cites` contains the citation graph of the corpus. Each line describes a link in the following format:\n",
        "\n",
        "\t\t<ID of cited paper> <ID of citing paper>\n",
        "\n",
        "Each line contains two paper IDs. The first entry is the ID of the paper being cited and the second ID stands for the paper which contains the citation. The direction of the link is from right to left. If a line is represented by \"paper1 paper2\" then the link is \"paper2->paper1\". "
      ]
    },
    {
      "cell_type": "code",
      "metadata": {
        "id": "x0GPNG8M1QU9",
        "colab_type": "code",
        "colab": {}
      },
      "source": [
        "def load_data(path='./', dataset='cora'):\n",
        "  idx_features_labels = np.genfromtxt(f'{path}{dataset}.content', dtype=np.dtype(str))\n",
        "  features            = sp.csr_matrix(idx_features_labels[:, 1:-1], dtype=np.float32)\n",
        "  labels              = encode_onehot(idx_features_labels[:, -1])                       # the target\n",
        "  idx                 = np.array(idx_features_labels[:, 0], dtype=np.int32)\n",
        "  idx_map             = {j : i for i, j in enumerate(idx)}                              # build graph\n",
        "  edges_unordered     = np.genfromtxt(f'{path}{dataset}.cites', dtype=np.int32)\n",
        "  edges               = np.array(list(map(idx_map.get, edges_unordered.flatten())), dtype=np.int32)\n",
        "  edges               = edges.reshape(edges_unordered.shape)\n",
        "  edges_t             = (np.ones(edges.shape[0]), (edges[:, 0], edges[:, 1]))\n",
        "  adj                 = sp.coo_matrix(edges_t, shape=(labels.shape[0], labels.shape[0]), dtype=np.float32)\n",
        "  adj                 = adj + adj.T.multiply(adj.T > adj) - adj.multiply(adj.T > adj)   # symmetric \n",
        "  features            = normalize(features)\n",
        "  adj                 = normalize(adj + sp.eye(adj.shape[0]))\n",
        "  idx_train           = range(140)\n",
        "  idx_val             = range(200, 500)\n",
        "  idx_test            = range(500, 1500)\n",
        "  features            = torch.FloatTensor(np.array(features.todense()))\n",
        "  labels              = torch.LongTensor(np.where(labels)[1])\n",
        "  adj                 = sparse_mx_to_torch_sparse_tensor(adj)\n",
        "  idx_train           = torch.LongTensor(idx_train)\n",
        "  idx_val             = torch.LongTensor(idx_val)\n",
        "  idx_test            = torch.LongTensor(idx_test)\n",
        "  return adj, features, labels, idx_train, idx_val, idx_test"
      ],
      "execution_count": null,
      "outputs": []
    },
    {
      "cell_type": "code",
      "metadata": {
        "id": "VWwtAx_n1QZ5",
        "colab_type": "code",
        "colab": {}
      },
      "source": [
        "def normalize(mx):\n",
        "  rowsum = np.array(mx.sum(1))\n",
        "  r_inv  = np.power(rowsum, -1).flatten()\n",
        "  r_inv[np.isinf(r_inv)] = 0.\n",
        "  r_mat_inv = sp.diags(r_inv)\n",
        "  mx = r_mat_inv.dot(mx)\n",
        "  return mx\n",
        "\n",
        "def accuracy(output, labels):\n",
        "  preds   = output.max(1)[1].type_as(labels)\n",
        "  correct = preds.eq(labels).double()\n",
        "  correct = correct.sum()\n",
        "  return correct / len(labels)\n",
        "\n",
        "def sparse_mx_to_torch_sparse_tensor(sparse_mx):\n",
        "    sparse_mx = sparse_mx.tocoo().astype(np.float32)\n",
        "    indices = torch.from_numpy(np.vstack((sparse_mx.row, sparse_mx.col)).astype(np.int64))\n",
        "    values = torch.from_numpy(sparse_mx.data)\n",
        "    shape = torch.Size(sparse_mx.shape)\n",
        "    return torch.sparse.FloatTensor(indices, values, shape)"
      ],
      "execution_count": null,
      "outputs": []
    },
    {
      "cell_type": "code",
      "metadata": {
        "id": "qS2WImyf1QeU",
        "colab_type": "code",
        "colab": {}
      },
      "source": [
        "adj, features, labels, idx_train, idx_val, idx_test = load_data()"
      ],
      "execution_count": null,
      "outputs": []
    },
    {
      "cell_type": "code",
      "metadata": {
        "id": "ODik85BG4QYV",
        "colab_type": "code",
        "colab": {
          "base_uri": "https://localhost:8080/",
          "height": 34
        },
        "outputId": "7fc61ae8-ca04-45a8-e869-411d635c0869"
      },
      "source": [
        "features.shape"
      ],
      "execution_count": null,
      "outputs": [
        {
          "output_type": "execute_result",
          "data": {
            "text/plain": [
              "torch.Size([2708, 1433])"
            ]
          },
          "metadata": {
            "tags": []
          },
          "execution_count": 10
        }
      ]
    },
    {
      "cell_type": "code",
      "metadata": {
        "id": "7ZnqKRbN4Qdf",
        "colab_type": "code",
        "colab": {
          "base_uri": "https://localhost:8080/",
          "height": 34
        },
        "outputId": "687b9a63-8a8c-469e-a9ee-8d1fc2611b37"
      },
      "source": [
        "adj.shape"
      ],
      "execution_count": null,
      "outputs": [
        {
          "output_type": "execute_result",
          "data": {
            "text/plain": [
              "torch.Size([2708, 2708])"
            ]
          },
          "metadata": {
            "tags": []
          },
          "execution_count": 11
        }
      ]
    },
    {
      "cell_type": "code",
      "metadata": {
        "id": "Lsd3gMPw4QgB",
        "colab_type": "code",
        "colab": {
          "base_uri": "https://localhost:8080/",
          "height": 34
        },
        "outputId": "6e42fc55-7ccb-4b90-9fab-feefef2932b7"
      },
      "source": [
        "min([sum(features[z]) for z in range(2708)])"
      ],
      "execution_count": null,
      "outputs": [
        {
          "output_type": "execute_result",
          "data": {
            "text/plain": [
              "tensor(1.0000)"
            ]
          },
          "metadata": {
            "tags": []
          },
          "execution_count": 20
        }
      ]
    },
    {
      "cell_type": "code",
      "metadata": {
        "id": "twlbLJEi4QbL",
        "colab_type": "code",
        "colab": {
          "base_uri": "https://localhost:8080/",
          "height": 185
        },
        "outputId": "c747c728-7dd1-4902-97ef-d401f8e69e18"
      },
      "source": [
        "idx_train"
      ],
      "execution_count": null,
      "outputs": [
        {
          "output_type": "execute_result",
          "data": {
            "text/plain": [
              "tensor([  0,   1,   2,   3,   4,   5,   6,   7,   8,   9,  10,  11,  12,  13,\n",
              "         14,  15,  16,  17,  18,  19,  20,  21,  22,  23,  24,  25,  26,  27,\n",
              "         28,  29,  30,  31,  32,  33,  34,  35,  36,  37,  38,  39,  40,  41,\n",
              "         42,  43,  44,  45,  46,  47,  48,  49,  50,  51,  52,  53,  54,  55,\n",
              "         56,  57,  58,  59,  60,  61,  62,  63,  64,  65,  66,  67,  68,  69,\n",
              "         70,  71,  72,  73,  74,  75,  76,  77,  78,  79,  80,  81,  82,  83,\n",
              "         84,  85,  86,  87,  88,  89,  90,  91,  92,  93,  94,  95,  96,  97,\n",
              "         98,  99, 100, 101, 102, 103, 104, 105, 106, 107, 108, 109, 110, 111,\n",
              "        112, 113, 114, 115, 116, 117, 118, 119, 120, 121, 122, 123, 124, 125,\n",
              "        126, 127, 128, 129, 130, 131, 132, 133, 134, 135, 136, 137, 138, 139])"
            ]
          },
          "metadata": {
            "tags": []
          },
          "execution_count": 21
        }
      ]
    },
    {
      "cell_type": "code",
      "metadata": {
        "id": "L1_GUNxp9F8J",
        "colab_type": "code",
        "colab": {}
      },
      "source": [
        "import math\n",
        "import torch.nn as nn\n",
        "import torch.nn.functional as F\n",
        "import torch.optim as optim"
      ],
      "execution_count": null,
      "outputs": []
    },
    {
      "cell_type": "code",
      "metadata": {
        "id": "fmCLk5B7DDdq",
        "colab_type": "code",
        "colab": {}
      },
      "source": [
        "class GraphConv(nn.Module):\n",
        "\n",
        "  def __init__(self, in_features, out_features, bias=True):\n",
        "    super(GraphConv, self).__init__()\n",
        "    self.in_features  = in_features\n",
        "    self.out_features = out_features\n",
        "    self.weight = nn.Parameter(torch.Tensor(in_features, out_features))\n",
        "    if bias:\n",
        "      self.bias = nn.Parameter(torch.Tensor(out_features))\n",
        "    else:\n",
        "      self.register_parameter('bias', None)\n",
        "    self.reset_parameters()\n",
        "    \n",
        "  def reset_parameters(self):\n",
        "    stdv = 1. / math.sqrt(self.weight.size(1))\n",
        "    self.weight.data.uniform_(-stdv, stdv)\n",
        "    if self.bias is not None:\n",
        "      self.bias.data.uniform_(-stdv, stdv)\n",
        "\n",
        "  def forward(self, input, adj):\n",
        "    support = torch.mm(input, self.weight)\n",
        "    output = torch.spmm(adj, support)\n",
        "    if self.bias is not None:\n",
        "        return output + self.bias\n",
        "    else:\n",
        "        return output\n",
        "\n",
        "    def __repr__(self):\n",
        "      return self.__class__.__name__ +' ('+str(self.in_features)+' -> '+str(self.out_features)+')'"
      ],
      "execution_count": null,
      "outputs": []
    },
    {
      "cell_type": "code",
      "metadata": {
        "id": "3-i7AIU4D-Lf",
        "colab_type": "code",
        "colab": {}
      },
      "source": [
        "class VanillaGCN(nn.Module):\n",
        "\n",
        "  def __init__(self, nfeat, nhid, nclass, dropout):\n",
        "    super(VanillaGCN, self).__init__()\n",
        "    self.gc1 = GraphConv(nfeat, nhid)\n",
        "    self.gc2 = GraphConv(nhid, nclass)\n",
        "    self.dropout = dropout\n",
        "\n",
        "  def forward(self, x, adj):\n",
        "    x = F.relu(self.gc1(x, adj))\n",
        "    x = F.dropout(x, self.dropout, training=self.training)\n",
        "    x = self.gc2(x, adj)\n",
        "    return F.log_softmax(x, dim=1)"
      ],
      "execution_count": null,
      "outputs": []
    },
    {
      "cell_type": "code",
      "metadata": {
        "id": "ah8cnedjDV5k",
        "colab_type": "code",
        "colab": {}
      },
      "source": [
        "CUDA = torch.cuda.is_available()\n",
        "SEED = 42\n",
        "torch.manual_seed(SEED)\n",
        "if CUDA: torch.cuda.manual_seed(SEED)\n",
        "np.random.seed(SEED)"
      ],
      "execution_count": null,
      "outputs": []
    },
    {
      "cell_type": "code",
      "metadata": {
        "id": "wYTovIOKTsHY",
        "colab_type": "code",
        "colab": {}
      },
      "source": [
        "lr = 0.01\n",
        "epochs = 200\n",
        "wd = 5e-4\n",
        "hidden = 16\n",
        "dropout = 0.5\n",
        "fastmode = False"
      ],
      "execution_count": null,
      "outputs": []
    },
    {
      "cell_type": "code",
      "metadata": {
        "id": "f_VgUNPOT_ad",
        "colab_type": "code",
        "colab": {}
      },
      "source": [
        "model = VanillaGCN(nfeat=features.shape[1], nhid=hidden, nclass=labels.max().item() + 1, dropout=dropout)\n",
        "optimizer = optim.Adam(model.parameters(), lr=lr, weight_decay=wd)"
      ],
      "execution_count": null,
      "outputs": []
    },
    {
      "cell_type": "code",
      "metadata": {
        "id": "VRBuPNDMD5Ad",
        "colab_type": "code",
        "colab": {}
      },
      "source": [
        "if CUDA:\n",
        "  model.cuda()\n",
        "  features = features.cuda()\n",
        "  adj = adj.cuda()\n",
        "  labels = labels.cuda()\n",
        "  idx_train = idx_train.cuda()\n",
        "  idx_val = idx_val.cuda()\n",
        "  idx_test = idx_test.cuda()"
      ],
      "execution_count": null,
      "outputs": []
    },
    {
      "cell_type": "code",
      "metadata": {
        "id": "5lRmy_Y6SVqQ",
        "colab_type": "code",
        "colab": {}
      },
      "source": [
        "def train(epoch):\n",
        "  t = time.time()\n",
        "  model.train()\n",
        "  optimizer.zero_grad()\n",
        "  output = model(features, adj)\n",
        "  loss_train = F.nll_loss(output[idx_train], labels[idx_train])\n",
        "  acc_train = accuracy(output[idx_train], labels[idx_train])\n",
        "  loss_train.backward()\n",
        "  optimizer.step()\n",
        "  if not fastmode:\n",
        "      model.eval()\n",
        "      output = model(features, adj)\n",
        "  loss_val = F.nll_loss(output[idx_val], labels[idx_val])\n",
        "  acc_val = accuracy(output[idx_val], labels[idx_val])\n",
        "  print('Epoch: {:04d}'.format(epoch+1),\n",
        "        'loss_train: {:.4f}'.format(loss_train.item()),\n",
        "        'acc_train: {:.4f}'.format(acc_train.item()),\n",
        "        'loss_val: {:.4f}'.format(loss_val.item()),\n",
        "        'acc_val: {:.4f}'.format(acc_val.item()),\n",
        "        'time: {:.4f}s'.format(time.time() - t))\n",
        "  return loss_train.item(), loss_val.item()"
      ],
      "execution_count": null,
      "outputs": []
    },
    {
      "cell_type": "code",
      "metadata": {
        "id": "7qEw8X6gSlet",
        "colab_type": "code",
        "colab": {}
      },
      "source": [
        "def test():\n",
        "  model.eval()\n",
        "  output = model(features, adj)\n",
        "  loss_test = F.nll_loss(output[idx_test], labels[idx_test])\n",
        "  acc_test = accuracy(output[idx_test], labels[idx_test])\n",
        "  print(\"Test set results:\",\n",
        "        \"loss= {:.4f}\".format(loss_test.item()),\n",
        "        \"accuracy= {:.4f}\".format(acc_test.item()))"
      ],
      "execution_count": null,
      "outputs": []
    },
    {
      "cell_type": "code",
      "metadata": {
        "id": "1BjAiO1tSOSd",
        "colab_type": "code",
        "colab": {
          "base_uri": "https://localhost:8080/",
          "height": 1000
        },
        "outputId": "b0fff001-342e-4f2b-faac-3314f6610959"
      },
      "source": [
        "import time\n",
        "t_total = time.time()\n",
        "train_losses, val_losses = [], []\n",
        "for epoch in range(epochs):\n",
        "  loss_train, loss_val = train(epoch)\n",
        "  train_losses.append(loss_train)\n",
        "  val_losses.append(loss_val)\n",
        "print(\"Optimization Finished!\")\n",
        "print(\"Total time elapsed: {:.4f}s\".format(time.time() - t_total))"
      ],
      "execution_count": null,
      "outputs": [
        {
          "output_type": "stream",
          "text": [
            "Epoch: 0001 loss_train: 1.9756 acc_train: 0.1071 loss_val: 1.9451 acc_val: 0.1033 time: 0.0269s\n",
            "Epoch: 0002 loss_train: 1.9480 acc_train: 0.1071 loss_val: 1.9284 acc_val: 0.1033 time: 0.0199s\n",
            "Epoch: 0003 loss_train: 1.9359 acc_train: 0.1214 loss_val: 1.9128 acc_val: 0.1067 time: 0.0175s\n",
            "Epoch: 0004 loss_train: 1.9229 acc_train: 0.2000 loss_val: 1.8981 acc_val: 0.3767 time: 0.0166s\n",
            "Epoch: 0005 loss_train: 1.9007 acc_train: 0.2714 loss_val: 1.8841 acc_val: 0.3500 time: 0.0170s\n",
            "Epoch: 0006 loss_train: 1.8943 acc_train: 0.2929 loss_val: 1.8706 acc_val: 0.3500 time: 0.0194s\n",
            "Epoch: 0007 loss_train: 1.8763 acc_train: 0.2929 loss_val: 1.8575 acc_val: 0.3500 time: 0.0169s\n",
            "Epoch: 0008 loss_train: 1.8596 acc_train: 0.2929 loss_val: 1.8445 acc_val: 0.3500 time: 0.0170s\n",
            "Epoch: 0009 loss_train: 1.8480 acc_train: 0.2929 loss_val: 1.8318 acc_val: 0.3500 time: 0.0177s\n",
            "Epoch: 0010 loss_train: 1.8312 acc_train: 0.2929 loss_val: 1.8196 acc_val: 0.3500 time: 0.0154s\n",
            "Epoch: 0011 loss_train: 1.8224 acc_train: 0.2929 loss_val: 1.8080 acc_val: 0.3500 time: 0.0173s\n",
            "Epoch: 0012 loss_train: 1.8021 acc_train: 0.2929 loss_val: 1.7970 acc_val: 0.3500 time: 0.0213s\n",
            "Epoch: 0013 loss_train: 1.7923 acc_train: 0.2929 loss_val: 1.7866 acc_val: 0.3500 time: 0.0180s\n",
            "Epoch: 0014 loss_train: 1.7894 acc_train: 0.2929 loss_val: 1.7768 acc_val: 0.3500 time: 0.0177s\n",
            "Epoch: 0015 loss_train: 1.7768 acc_train: 0.2929 loss_val: 1.7674 acc_val: 0.3500 time: 0.0180s\n",
            "Epoch: 0016 loss_train: 1.7657 acc_train: 0.2929 loss_val: 1.7584 acc_val: 0.3500 time: 0.0183s\n",
            "Epoch: 0017 loss_train: 1.7423 acc_train: 0.2929 loss_val: 1.7499 acc_val: 0.3500 time: 0.0158s\n",
            "Epoch: 0018 loss_train: 1.7396 acc_train: 0.2929 loss_val: 1.7418 acc_val: 0.3500 time: 0.0167s\n",
            "Epoch: 0019 loss_train: 1.7355 acc_train: 0.2929 loss_val: 1.7342 acc_val: 0.3500 time: 0.0167s\n",
            "Epoch: 0020 loss_train: 1.7195 acc_train: 0.3000 loss_val: 1.7272 acc_val: 0.3500 time: 0.0154s\n",
            "Epoch: 0021 loss_train: 1.7110 acc_train: 0.2929 loss_val: 1.7205 acc_val: 0.3500 time: 0.0154s\n",
            "Epoch: 0022 loss_train: 1.6935 acc_train: 0.3143 loss_val: 1.7139 acc_val: 0.3500 time: 0.0169s\n",
            "Epoch: 0023 loss_train: 1.6951 acc_train: 0.3286 loss_val: 1.7074 acc_val: 0.3500 time: 0.0174s\n",
            "Epoch: 0024 loss_train: 1.6794 acc_train: 0.3214 loss_val: 1.7007 acc_val: 0.3500 time: 0.0192s\n",
            "Epoch: 0025 loss_train: 1.6766 acc_train: 0.3071 loss_val: 1.6937 acc_val: 0.3500 time: 0.0184s\n",
            "Epoch: 0026 loss_train: 1.6741 acc_train: 0.3357 loss_val: 1.6864 acc_val: 0.3533 time: 0.0162s\n",
            "Epoch: 0027 loss_train: 1.6394 acc_train: 0.3357 loss_val: 1.6787 acc_val: 0.3600 time: 0.0150s\n",
            "Epoch: 0028 loss_train: 1.6374 acc_train: 0.3357 loss_val: 1.6705 acc_val: 0.3633 time: 0.0160s\n",
            "Epoch: 0029 loss_train: 1.6236 acc_train: 0.3500 loss_val: 1.6619 acc_val: 0.3633 time: 0.0158s\n",
            "Epoch: 0030 loss_train: 1.6135 acc_train: 0.3786 loss_val: 1.6530 acc_val: 0.3600 time: 0.0142s\n",
            "Epoch: 0031 loss_train: 1.5814 acc_train: 0.3857 loss_val: 1.6438 acc_val: 0.3667 time: 0.0148s\n",
            "Epoch: 0032 loss_train: 1.5897 acc_train: 0.4071 loss_val: 1.6344 acc_val: 0.3700 time: 0.0166s\n",
            "Epoch: 0033 loss_train: 1.5612 acc_train: 0.4214 loss_val: 1.6250 acc_val: 0.3767 time: 0.0178s\n",
            "Epoch: 0034 loss_train: 1.5524 acc_train: 0.4143 loss_val: 1.6155 acc_val: 0.3933 time: 0.0168s\n",
            "Epoch: 0035 loss_train: 1.5465 acc_train: 0.4357 loss_val: 1.6061 acc_val: 0.4067 time: 0.0168s\n",
            "Epoch: 0036 loss_train: 1.5103 acc_train: 0.4857 loss_val: 1.5966 acc_val: 0.4300 time: 0.0184s\n",
            "Epoch: 0037 loss_train: 1.5202 acc_train: 0.4857 loss_val: 1.5865 acc_val: 0.4500 time: 0.0153s\n",
            "Epoch: 0038 loss_train: 1.4913 acc_train: 0.5357 loss_val: 1.5759 acc_val: 0.4633 time: 0.0137s\n",
            "Epoch: 0039 loss_train: 1.4959 acc_train: 0.5214 loss_val: 1.5646 acc_val: 0.4733 time: 0.0143s\n",
            "Epoch: 0040 loss_train: 1.4417 acc_train: 0.5429 loss_val: 1.5528 acc_val: 0.4900 time: 0.0145s\n",
            "Epoch: 0041 loss_train: 1.4493 acc_train: 0.5143 loss_val: 1.5403 acc_val: 0.4933 time: 0.0152s\n",
            "Epoch: 0042 loss_train: 1.4453 acc_train: 0.5429 loss_val: 1.5276 acc_val: 0.4967 time: 0.0140s\n",
            "Epoch: 0043 loss_train: 1.4443 acc_train: 0.5071 loss_val: 1.5147 acc_val: 0.5000 time: 0.0152s\n",
            "Epoch: 0044 loss_train: 1.3950 acc_train: 0.5357 loss_val: 1.5021 acc_val: 0.5167 time: 0.0144s\n",
            "Epoch: 0045 loss_train: 1.3669 acc_train: 0.5929 loss_val: 1.4893 acc_val: 0.5267 time: 0.0154s\n",
            "Epoch: 0046 loss_train: 1.3917 acc_train: 0.5429 loss_val: 1.4768 acc_val: 0.5333 time: 0.0145s\n",
            "Epoch: 0047 loss_train: 1.3555 acc_train: 0.5571 loss_val: 1.4646 acc_val: 0.5333 time: 0.0158s\n",
            "Epoch: 0048 loss_train: 1.3355 acc_train: 0.5857 loss_val: 1.4524 acc_val: 0.5400 time: 0.0168s\n",
            "Epoch: 0049 loss_train: 1.3194 acc_train: 0.6143 loss_val: 1.4402 acc_val: 0.5400 time: 0.0179s\n",
            "Epoch: 0050 loss_train: 1.3184 acc_train: 0.5857 loss_val: 1.4281 acc_val: 0.5533 time: 0.0157s\n",
            "Epoch: 0051 loss_train: 1.2862 acc_train: 0.5857 loss_val: 1.4158 acc_val: 0.5533 time: 0.0158s\n",
            "Epoch: 0052 loss_train: 1.2816 acc_train: 0.6143 loss_val: 1.4038 acc_val: 0.5667 time: 0.0144s\n",
            "Epoch: 0053 loss_train: 1.2731 acc_train: 0.6143 loss_val: 1.3919 acc_val: 0.5833 time: 0.0154s\n",
            "Epoch: 0054 loss_train: 1.2331 acc_train: 0.6571 loss_val: 1.3803 acc_val: 0.6000 time: 0.0153s\n",
            "Epoch: 0055 loss_train: 1.2189 acc_train: 0.6500 loss_val: 1.3691 acc_val: 0.6200 time: 0.0147s\n",
            "Epoch: 0056 loss_train: 1.2022 acc_train: 0.6857 loss_val: 1.3581 acc_val: 0.6233 time: 0.0145s\n",
            "Epoch: 0057 loss_train: 1.1786 acc_train: 0.6714 loss_val: 1.3470 acc_val: 0.6300 time: 0.0140s\n",
            "Epoch: 0058 loss_train: 1.1720 acc_train: 0.6786 loss_val: 1.3357 acc_val: 0.6267 time: 0.0146s\n",
            "Epoch: 0059 loss_train: 1.1649 acc_train: 0.7214 loss_val: 1.3237 acc_val: 0.6300 time: 0.0157s\n",
            "Epoch: 0060 loss_train: 1.1458 acc_train: 0.6643 loss_val: 1.3109 acc_val: 0.6433 time: 0.0151s\n",
            "Epoch: 0061 loss_train: 1.1706 acc_train: 0.6857 loss_val: 1.2979 acc_val: 0.6600 time: 0.0144s\n",
            "Epoch: 0062 loss_train: 1.1263 acc_train: 0.6929 loss_val: 1.2851 acc_val: 0.6633 time: 0.0167s\n",
            "Epoch: 0063 loss_train: 1.1350 acc_train: 0.7214 loss_val: 1.2723 acc_val: 0.6700 time: 0.0160s\n",
            "Epoch: 0064 loss_train: 1.0997 acc_train: 0.7143 loss_val: 1.2599 acc_val: 0.6767 time: 0.0156s\n",
            "Epoch: 0065 loss_train: 1.0853 acc_train: 0.7286 loss_val: 1.2476 acc_val: 0.6800 time: 0.0205s\n",
            "Epoch: 0066 loss_train: 1.0461 acc_train: 0.7500 loss_val: 1.2357 acc_val: 0.6867 time: 0.0164s\n",
            "Epoch: 0067 loss_train: 1.0417 acc_train: 0.7714 loss_val: 1.2239 acc_val: 0.6900 time: 0.0162s\n",
            "Epoch: 0068 loss_train: 1.0237 acc_train: 0.7357 loss_val: 1.2125 acc_val: 0.6933 time: 0.0152s\n",
            "Epoch: 0069 loss_train: 1.0438 acc_train: 0.7571 loss_val: 1.2012 acc_val: 0.7033 time: 0.0150s\n",
            "Epoch: 0070 loss_train: 1.0503 acc_train: 0.7357 loss_val: 1.1903 acc_val: 0.7067 time: 0.0148s\n",
            "Epoch: 0071 loss_train: 1.0236 acc_train: 0.7643 loss_val: 1.1796 acc_val: 0.7033 time: 0.0144s\n",
            "Epoch: 0072 loss_train: 0.9898 acc_train: 0.7571 loss_val: 1.1692 acc_val: 0.7067 time: 0.0148s\n",
            "Epoch: 0073 loss_train: 0.9770 acc_train: 0.7714 loss_val: 1.1590 acc_val: 0.7100 time: 0.0146s\n",
            "Epoch: 0074 loss_train: 0.9595 acc_train: 0.7571 loss_val: 1.1489 acc_val: 0.7133 time: 0.0162s\n",
            "Epoch: 0075 loss_train: 0.9530 acc_train: 0.7929 loss_val: 1.1384 acc_val: 0.7167 time: 0.0172s\n",
            "Epoch: 0076 loss_train: 0.9343 acc_train: 0.8071 loss_val: 1.1279 acc_val: 0.7200 time: 0.0151s\n",
            "Epoch: 0077 loss_train: 0.9276 acc_train: 0.7857 loss_val: 1.1177 acc_val: 0.7300 time: 0.0150s\n",
            "Epoch: 0078 loss_train: 0.9309 acc_train: 0.8071 loss_val: 1.1078 acc_val: 0.7300 time: 0.0160s\n",
            "Epoch: 0079 loss_train: 0.9054 acc_train: 0.8071 loss_val: 1.0980 acc_val: 0.7333 time: 0.0231s\n",
            "Epoch: 0080 loss_train: 0.8663 acc_train: 0.8071 loss_val: 1.0885 acc_val: 0.7367 time: 0.0187s\n",
            "Epoch: 0081 loss_train: 0.8975 acc_train: 0.7857 loss_val: 1.0792 acc_val: 0.7467 time: 0.0147s\n",
            "Epoch: 0082 loss_train: 0.9040 acc_train: 0.8000 loss_val: 1.0701 acc_val: 0.7467 time: 0.0149s\n",
            "Epoch: 0083 loss_train: 0.8721 acc_train: 0.8214 loss_val: 1.0615 acc_val: 0.7500 time: 0.0158s\n",
            "Epoch: 0084 loss_train: 0.8526 acc_train: 0.8286 loss_val: 1.0529 acc_val: 0.7567 time: 0.0157s\n",
            "Epoch: 0085 loss_train: 0.8459 acc_train: 0.8143 loss_val: 1.0442 acc_val: 0.7600 time: 0.0151s\n",
            "Epoch: 0086 loss_train: 0.8053 acc_train: 0.8143 loss_val: 1.0357 acc_val: 0.7633 time: 0.0156s\n",
            "Epoch: 0087 loss_train: 0.7878 acc_train: 0.8500 loss_val: 1.0271 acc_val: 0.7700 time: 0.0180s\n",
            "Epoch: 0088 loss_train: 0.7960 acc_train: 0.8500 loss_val: 1.0183 acc_val: 0.7733 time: 0.0146s\n",
            "Epoch: 0089 loss_train: 0.7804 acc_train: 0.8286 loss_val: 1.0100 acc_val: 0.7767 time: 0.0150s\n",
            "Epoch: 0090 loss_train: 0.8083 acc_train: 0.8214 loss_val: 1.0016 acc_val: 0.7767 time: 0.0144s\n",
            "Epoch: 0091 loss_train: 0.7987 acc_train: 0.8357 loss_val: 0.9932 acc_val: 0.7800 time: 0.0147s\n",
            "Epoch: 0092 loss_train: 0.8256 acc_train: 0.8357 loss_val: 0.9855 acc_val: 0.7800 time: 0.0142s\n",
            "Epoch: 0093 loss_train: 0.7929 acc_train: 0.8429 loss_val: 0.9786 acc_val: 0.7833 time: 0.0162s\n",
            "Epoch: 0094 loss_train: 0.7798 acc_train: 0.8500 loss_val: 0.9720 acc_val: 0.7800 time: 0.0150s\n",
            "Epoch: 0095 loss_train: 0.7348 acc_train: 0.8500 loss_val: 0.9654 acc_val: 0.7800 time: 0.0182s\n",
            "Epoch: 0096 loss_train: 0.7236 acc_train: 0.8357 loss_val: 0.9582 acc_val: 0.7833 time: 0.0148s\n",
            "Epoch: 0097 loss_train: 0.7086 acc_train: 0.8643 loss_val: 0.9508 acc_val: 0.7833 time: 0.0158s\n",
            "Epoch: 0098 loss_train: 0.7240 acc_train: 0.8786 loss_val: 0.9427 acc_val: 0.7967 time: 0.0149s\n",
            "Epoch: 0099 loss_train: 0.7753 acc_train: 0.8500 loss_val: 0.9351 acc_val: 0.7933 time: 0.0190s\n",
            "Epoch: 0100 loss_train: 0.7145 acc_train: 0.8571 loss_val: 0.9281 acc_val: 0.7967 time: 0.0160s\n",
            "Epoch: 0101 loss_train: 0.7089 acc_train: 0.8500 loss_val: 0.9218 acc_val: 0.7967 time: 0.0160s\n",
            "Epoch: 0102 loss_train: 0.6844 acc_train: 0.8929 loss_val: 0.9157 acc_val: 0.8000 time: 0.0160s\n",
            "Epoch: 0103 loss_train: 0.7044 acc_train: 0.8571 loss_val: 0.9096 acc_val: 0.8000 time: 0.0156s\n",
            "Epoch: 0104 loss_train: 0.7052 acc_train: 0.8643 loss_val: 0.9033 acc_val: 0.7967 time: 0.0139s\n",
            "Epoch: 0105 loss_train: 0.6305 acc_train: 0.8786 loss_val: 0.8967 acc_val: 0.7967 time: 0.0156s\n",
            "Epoch: 0106 loss_train: 0.6765 acc_train: 0.8857 loss_val: 0.8908 acc_val: 0.8033 time: 0.0140s\n",
            "Epoch: 0107 loss_train: 0.6312 acc_train: 0.9071 loss_val: 0.8857 acc_val: 0.8000 time: 0.0138s\n",
            "Epoch: 0108 loss_train: 0.6488 acc_train: 0.8857 loss_val: 0.8813 acc_val: 0.8033 time: 0.0143s\n",
            "Epoch: 0109 loss_train: 0.6602 acc_train: 0.8643 loss_val: 0.8766 acc_val: 0.7967 time: 0.0154s\n",
            "Epoch: 0110 loss_train: 0.6423 acc_train: 0.8786 loss_val: 0.8715 acc_val: 0.8000 time: 0.0139s\n",
            "Epoch: 0111 loss_train: 0.6210 acc_train: 0.8929 loss_val: 0.8657 acc_val: 0.7900 time: 0.0132s\n",
            "Epoch: 0112 loss_train: 0.6237 acc_train: 0.8643 loss_val: 0.8601 acc_val: 0.7900 time: 0.0162s\n",
            "Epoch: 0113 loss_train: 0.6451 acc_train: 0.8786 loss_val: 0.8553 acc_val: 0.8000 time: 0.0146s\n",
            "Epoch: 0114 loss_train: 0.6194 acc_train: 0.8714 loss_val: 0.8507 acc_val: 0.8033 time: 0.0148s\n",
            "Epoch: 0115 loss_train: 0.5926 acc_train: 0.8929 loss_val: 0.8465 acc_val: 0.8067 time: 0.0153s\n",
            "Epoch: 0116 loss_train: 0.5899 acc_train: 0.8929 loss_val: 0.8428 acc_val: 0.8100 time: 0.0160s\n",
            "Epoch: 0117 loss_train: 0.5705 acc_train: 0.8929 loss_val: 0.8388 acc_val: 0.8133 time: 0.0144s\n",
            "Epoch: 0118 loss_train: 0.6579 acc_train: 0.8571 loss_val: 0.8350 acc_val: 0.8133 time: 0.0151s\n",
            "Epoch: 0119 loss_train: 0.6208 acc_train: 0.8643 loss_val: 0.8314 acc_val: 0.8100 time: 0.0143s\n",
            "Epoch: 0120 loss_train: 0.5951 acc_train: 0.8857 loss_val: 0.8290 acc_val: 0.8133 time: 0.0187s\n",
            "Epoch: 0121 loss_train: 0.5646 acc_train: 0.8643 loss_val: 0.8272 acc_val: 0.8133 time: 0.0163s\n",
            "Epoch: 0122 loss_train: 0.5566 acc_train: 0.8929 loss_val: 0.8255 acc_val: 0.8000 time: 0.0162s\n",
            "Epoch: 0123 loss_train: 0.5833 acc_train: 0.8857 loss_val: 0.8224 acc_val: 0.8000 time: 0.0157s\n",
            "Epoch: 0124 loss_train: 0.5529 acc_train: 0.8929 loss_val: 0.8181 acc_val: 0.8033 time: 0.0164s\n",
            "Epoch: 0125 loss_train: 0.5642 acc_train: 0.9143 loss_val: 0.8132 acc_val: 0.8067 time: 0.0206s\n",
            "Epoch: 0126 loss_train: 0.5579 acc_train: 0.9000 loss_val: 0.8094 acc_val: 0.8100 time: 0.0200s\n",
            "Epoch: 0127 loss_train: 0.5864 acc_train: 0.8857 loss_val: 0.8064 acc_val: 0.8100 time: 0.0162s\n",
            "Epoch: 0128 loss_train: 0.5227 acc_train: 0.9286 loss_val: 0.8033 acc_val: 0.8133 time: 0.0157s\n",
            "Epoch: 0129 loss_train: 0.5209 acc_train: 0.9071 loss_val: 0.8016 acc_val: 0.8067 time: 0.0151s\n",
            "Epoch: 0130 loss_train: 0.5415 acc_train: 0.9071 loss_val: 0.8006 acc_val: 0.7967 time: 0.0146s\n",
            "Epoch: 0131 loss_train: 0.5455 acc_train: 0.9214 loss_val: 0.7989 acc_val: 0.8000 time: 0.0147s\n",
            "Epoch: 0132 loss_train: 0.5499 acc_train: 0.8857 loss_val: 0.7960 acc_val: 0.8000 time: 0.0141s\n",
            "Epoch: 0133 loss_train: 0.5285 acc_train: 0.9143 loss_val: 0.7921 acc_val: 0.8033 time: 0.0146s\n",
            "Epoch: 0134 loss_train: 0.5315 acc_train: 0.9143 loss_val: 0.7876 acc_val: 0.8033 time: 0.0145s\n",
            "Epoch: 0135 loss_train: 0.5395 acc_train: 0.9214 loss_val: 0.7832 acc_val: 0.8133 time: 0.0162s\n",
            "Epoch: 0136 loss_train: 0.5243 acc_train: 0.9143 loss_val: 0.7795 acc_val: 0.8200 time: 0.0160s\n",
            "Epoch: 0137 loss_train: 0.5214 acc_train: 0.9000 loss_val: 0.7767 acc_val: 0.8133 time: 0.0189s\n",
            "Epoch: 0138 loss_train: 0.5611 acc_train: 0.9071 loss_val: 0.7745 acc_val: 0.8100 time: 0.0148s\n",
            "Epoch: 0139 loss_train: 0.4819 acc_train: 0.9429 loss_val: 0.7734 acc_val: 0.8000 time: 0.0164s\n",
            "Epoch: 0140 loss_train: 0.5186 acc_train: 0.9143 loss_val: 0.7729 acc_val: 0.8000 time: 0.0159s\n",
            "Epoch: 0141 loss_train: 0.4968 acc_train: 0.8929 loss_val: 0.7720 acc_val: 0.8000 time: 0.0171s\n",
            "Epoch: 0142 loss_train: 0.4923 acc_train: 0.9214 loss_val: 0.7706 acc_val: 0.7967 time: 0.0152s\n",
            "Epoch: 0143 loss_train: 0.4834 acc_train: 0.9357 loss_val: 0.7687 acc_val: 0.7933 time: 0.0195s\n",
            "Epoch: 0144 loss_train: 0.4973 acc_train: 0.9286 loss_val: 0.7651 acc_val: 0.7967 time: 0.0156s\n",
            "Epoch: 0145 loss_train: 0.5217 acc_train: 0.9000 loss_val: 0.7607 acc_val: 0.7967 time: 0.0148s\n",
            "Epoch: 0146 loss_train: 0.4637 acc_train: 0.9286 loss_val: 0.7563 acc_val: 0.8067 time: 0.0145s\n",
            "Epoch: 0147 loss_train: 0.4776 acc_train: 0.9071 loss_val: 0.7531 acc_val: 0.8167 time: 0.0150s\n",
            "Epoch: 0148 loss_train: 0.4639 acc_train: 0.8857 loss_val: 0.7504 acc_val: 0.8167 time: 0.0146s\n",
            "Epoch: 0149 loss_train: 0.5256 acc_train: 0.8857 loss_val: 0.7474 acc_val: 0.8233 time: 0.0152s\n",
            "Epoch: 0150 loss_train: 0.4697 acc_train: 0.9286 loss_val: 0.7449 acc_val: 0.8233 time: 0.0187s\n",
            "Epoch: 0151 loss_train: 0.5265 acc_train: 0.9143 loss_val: 0.7431 acc_val: 0.8233 time: 0.0142s\n",
            "Epoch: 0152 loss_train: 0.4466 acc_train: 0.9286 loss_val: 0.7416 acc_val: 0.8233 time: 0.0140s\n",
            "Epoch: 0153 loss_train: 0.4808 acc_train: 0.9286 loss_val: 0.7407 acc_val: 0.8167 time: 0.0149s\n",
            "Epoch: 0154 loss_train: 0.5003 acc_train: 0.9071 loss_val: 0.7406 acc_val: 0.8067 time: 0.0151s\n",
            "Epoch: 0155 loss_train: 0.4704 acc_train: 0.9214 loss_val: 0.7412 acc_val: 0.8000 time: 0.0152s\n",
            "Epoch: 0156 loss_train: 0.4875 acc_train: 0.9286 loss_val: 0.7418 acc_val: 0.8033 time: 0.0154s\n",
            "Epoch: 0157 loss_train: 0.4975 acc_train: 0.9071 loss_val: 0.7409 acc_val: 0.8033 time: 0.0148s\n",
            "Epoch: 0158 loss_train: 0.4448 acc_train: 0.9286 loss_val: 0.7398 acc_val: 0.8033 time: 0.0148s\n",
            "Epoch: 0159 loss_train: 0.4222 acc_train: 0.9286 loss_val: 0.7379 acc_val: 0.8000 time: 0.0143s\n",
            "Epoch: 0160 loss_train: 0.4539 acc_train: 0.9286 loss_val: 0.7350 acc_val: 0.8033 time: 0.0154s\n",
            "Epoch: 0161 loss_train: 0.4650 acc_train: 0.9286 loss_val: 0.7318 acc_val: 0.8067 time: 0.0215s\n",
            "Epoch: 0162 loss_train: 0.4263 acc_train: 0.9214 loss_val: 0.7288 acc_val: 0.8133 time: 0.0242s\n",
            "Epoch: 0163 loss_train: 0.4272 acc_train: 0.9571 loss_val: 0.7264 acc_val: 0.8167 time: 0.0174s\n",
            "Epoch: 0164 loss_train: 0.4682 acc_train: 0.9214 loss_val: 0.7246 acc_val: 0.8167 time: 0.0161s\n",
            "Epoch: 0165 loss_train: 0.5016 acc_train: 0.9000 loss_val: 0.7227 acc_val: 0.8167 time: 0.0142s\n",
            "Epoch: 0166 loss_train: 0.4303 acc_train: 0.9357 loss_val: 0.7213 acc_val: 0.8100 time: 0.0147s\n",
            "Epoch: 0167 loss_train: 0.4148 acc_train: 0.9143 loss_val: 0.7202 acc_val: 0.8100 time: 0.0140s\n",
            "Epoch: 0168 loss_train: 0.4779 acc_train: 0.8857 loss_val: 0.7187 acc_val: 0.8100 time: 0.0157s\n",
            "Epoch: 0169 loss_train: 0.4283 acc_train: 0.9357 loss_val: 0.7176 acc_val: 0.8033 time: 0.0145s\n",
            "Epoch: 0170 loss_train: 0.4433 acc_train: 0.9429 loss_val: 0.7173 acc_val: 0.7933 time: 0.0155s\n",
            "Epoch: 0171 loss_train: 0.4344 acc_train: 0.9429 loss_val: 0.7171 acc_val: 0.7933 time: 0.0155s\n",
            "Epoch: 0172 loss_train: 0.4654 acc_train: 0.9286 loss_val: 0.7155 acc_val: 0.7933 time: 0.0153s\n",
            "Epoch: 0173 loss_train: 0.4524 acc_train: 0.9214 loss_val: 0.7136 acc_val: 0.7967 time: 0.0162s\n",
            "Epoch: 0174 loss_train: 0.4689 acc_train: 0.8929 loss_val: 0.7114 acc_val: 0.8067 time: 0.0170s\n",
            "Epoch: 0175 loss_train: 0.4167 acc_train: 0.8929 loss_val: 0.7095 acc_val: 0.8133 time: 0.0182s\n",
            "Epoch: 0176 loss_train: 0.3964 acc_train: 0.9357 loss_val: 0.7088 acc_val: 0.8167 time: 0.0153s\n",
            "Epoch: 0177 loss_train: 0.4173 acc_train: 0.9571 loss_val: 0.7073 acc_val: 0.8167 time: 0.0142s\n",
            "Epoch: 0178 loss_train: 0.3868 acc_train: 0.9429 loss_val: 0.7064 acc_val: 0.8133 time: 0.0148s\n",
            "Epoch: 0179 loss_train: 0.3891 acc_train: 0.9429 loss_val: 0.7063 acc_val: 0.8133 time: 0.0154s\n",
            "Epoch: 0180 loss_train: 0.4258 acc_train: 0.9500 loss_val: 0.7061 acc_val: 0.8167 time: 0.0154s\n",
            "Epoch: 0181 loss_train: 0.4083 acc_train: 0.9286 loss_val: 0.7067 acc_val: 0.8167 time: 0.0147s\n",
            "Epoch: 0182 loss_train: 0.4125 acc_train: 0.9357 loss_val: 0.7082 acc_val: 0.8133 time: 0.0154s\n",
            "Epoch: 0183 loss_train: 0.4387 acc_train: 0.9357 loss_val: 0.7077 acc_val: 0.8100 time: 0.0159s\n",
            "Epoch: 0184 loss_train: 0.3856 acc_train: 0.9643 loss_val: 0.7058 acc_val: 0.8100 time: 0.0152s\n",
            "Epoch: 0185 loss_train: 0.4281 acc_train: 0.9643 loss_val: 0.7021 acc_val: 0.8100 time: 0.0259s\n",
            "Epoch: 0186 loss_train: 0.4136 acc_train: 0.9214 loss_val: 0.6987 acc_val: 0.8133 time: 0.0183s\n",
            "Epoch: 0187 loss_train: 0.3936 acc_train: 0.9429 loss_val: 0.6951 acc_val: 0.8167 time: 0.0174s\n",
            "Epoch: 0188 loss_train: 0.4321 acc_train: 0.9214 loss_val: 0.6925 acc_val: 0.8133 time: 0.0151s\n",
            "Epoch: 0189 loss_train: 0.4113 acc_train: 0.9214 loss_val: 0.6908 acc_val: 0.8100 time: 0.0148s\n",
            "Epoch: 0190 loss_train: 0.4379 acc_train: 0.9357 loss_val: 0.6900 acc_val: 0.8133 time: 0.0153s\n",
            "Epoch: 0191 loss_train: 0.3700 acc_train: 0.9643 loss_val: 0.6904 acc_val: 0.8167 time: 0.0154s\n",
            "Epoch: 0192 loss_train: 0.3824 acc_train: 0.9429 loss_val: 0.6915 acc_val: 0.8233 time: 0.0149s\n",
            "Epoch: 0193 loss_train: 0.3731 acc_train: 0.9429 loss_val: 0.6929 acc_val: 0.8233 time: 0.0138s\n",
            "Epoch: 0194 loss_train: 0.3736 acc_train: 0.9500 loss_val: 0.6936 acc_val: 0.8133 time: 0.0152s\n",
            "Epoch: 0195 loss_train: 0.3757 acc_train: 0.9571 loss_val: 0.6939 acc_val: 0.8167 time: 0.0157s\n",
            "Epoch: 0196 loss_train: 0.3637 acc_train: 0.9500 loss_val: 0.6921 acc_val: 0.8167 time: 0.0184s\n",
            "Epoch: 0197 loss_train: 0.3836 acc_train: 0.9429 loss_val: 0.6907 acc_val: 0.8200 time: 0.0145s\n",
            "Epoch: 0198 loss_train: 0.3888 acc_train: 0.9643 loss_val: 0.6888 acc_val: 0.8133 time: 0.0159s\n",
            "Epoch: 0199 loss_train: 0.3399 acc_train: 0.9429 loss_val: 0.6882 acc_val: 0.8100 time: 0.0152s\n",
            "Epoch: 0200 loss_train: 0.3710 acc_train: 0.9500 loss_val: 0.6872 acc_val: 0.8100 time: 0.0178s\n",
            "Optimization Finished!\n",
            "Total time elapsed: 3.4128s\n"
          ],
          "name": "stdout"
        }
      ]
    },
    {
      "cell_type": "code",
      "metadata": {
        "id": "2aOHpfjmTyQb",
        "colab_type": "code",
        "colab": {
          "base_uri": "https://localhost:8080/",
          "height": 34
        },
        "outputId": "15fbd951-c705-44ff-ac48-50341ced71e5"
      },
      "source": [
        "test()"
      ],
      "execution_count": null,
      "outputs": [
        {
          "output_type": "stream",
          "text": [
            "Test set results: loss= 0.7075 accuracy= 0.8350\n"
          ],
          "name": "stdout"
        }
      ]
    },
    {
      "cell_type": "code",
      "metadata": {
        "id": "XgTfVX7CUySC",
        "colab_type": "code",
        "colab": {}
      },
      "source": [
        "import matplotlib.pyplot as plt\n",
        "%matplotlib inline"
      ],
      "execution_count": null,
      "outputs": []
    },
    {
      "cell_type": "code",
      "metadata": {
        "id": "GLmJbYibYj_n",
        "colab_type": "code",
        "colab": {
          "base_uri": "https://localhost:8080/",
          "height": 282
        },
        "outputId": "1125e9fe-d2b0-4519-e90b-ede0b928705c"
      },
      "source": [
        "plt.plot(train_losses, label='Train Loss')\n",
        "plt.plot(val_losses, label='Val Loss')"
      ],
      "execution_count": null,
      "outputs": [
        {
          "output_type": "execute_result",
          "data": {
            "text/plain": [
              "[<matplotlib.lines.Line2D at 0x7f71cf82e9e8>]"
            ]
          },
          "metadata": {
            "tags": []
          },
          "execution_count": 69
        },
        {
          "output_type": "display_data",
          "data": {
            "image/png": "[encoded data removed]",
            "text/plain": [
              "<Figure size 432x288 with 1 Axes>"
            ]
          },
          "metadata": {
            "tags": [],
            "needs_background": "light"
          }
        }
      ]
    },
    {
      "cell_type": "markdown",
      "metadata": {
        "id": "gilds_d0Ve82",
        "colab_type": "text"
      },
      "source": [
        "Sometime soon, we'll have week-13 of [this](https://www.youtube.com/watch?v=f01J0Dri-6k&list=PLLHTzKZzVU9eaEyErdV26ikyolxOsz6mq&index=24&t=0s) and that should be really good!\n",
        "\n",
        "Also, ICML 2020 had a workshop on [GRL+](https://slideslive.com/icml-2020/graph-representation-learning-and-beyond-grl), should definitely watch relevant presentations"
      ]
    },
    {
      "cell_type": "code",
      "metadata": {
        "id": "IbYum6i8VeRp",
        "colab_type": "code",
        "colab": {}
      },
      "source": [
        ""
      ],
      "execution_count": null,
      "outputs": []
    }
  ]
}