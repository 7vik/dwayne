{
 "cells": [
  {
   "cell_type": "markdown",
   "metadata": {},
   "source": [
    "Hyperparameters, gradient descents, and tricks to get it to converge. "
   ]
  },
  {
   "cell_type": "markdown",
   "metadata": {},
   "source": [
    "What all is useful here:\n",
    "- orig_members: member_id (763)\n",
    "- orig_inline_notifications: notify_from_id, notify_to_id (47066)\n",
    "- orig_message_topic_user_map: map_user_id, map_topic_id (6025)\n",
    "- orig_message_topics: mt_starter_id, mt_to_member_id, mt_id (3101)\n",
    "- orig_reputation_index: member_id (141550)\n",
    "\n",
    "NOTE: Make sure to adjust some inconsistencies in members before trying out GRL."
   ]
  },
  {
   "cell_type": "code",
   "execution_count": 1,
   "metadata": {},
   "outputs": [],
   "source": [
    "import pandas as pd\n",
    "import numpy as np\n",
    "import matplotlib.pyplot as plt\n",
    "%matplotlib inline\n",
    "import os\n",
    "import requests \n",
    "import io\n",
    "import seaborn as sns"
   ]
  },
  {
   "cell_type": "markdown",
   "metadata": {},
   "source": [
    "Graph Formulation:\n",
    "\n",
    "**Nodes**: Members (total 763)\n",
    "\n",
    "**Node Features**: (the node label for classification)\n",
    "- Reputation Value \n",
    "\n",
    "**Edges**: (both can be treated as directed edges)\n",
    "- Notifications (total 47066)\n",
    "- Private Messages (total 3101)"
   ]
  },
  {
   "cell_type": "code",
   "execution_count": 9,
   "metadata": {},
   "outputs": [],
   "source": [
    "PATH = '../data/'\n",
    "files = os.listdir(PATH)\n",
    "dfs = {f[:-4] : pd.read_csv(PATH + f) \n",
    "           for f in files if f[-3:] == 'csv'\n",
    "}"
   ]
  },
  {
   "cell_type": "markdown",
   "metadata": {},
   "source": [
    "Now, we need to fit this problem into the Vanilla GCN implementation by Kipf!"
   ]
  },
  {
   "cell_type": "code",
   "execution_count": 10,
   "metadata": {},
   "outputs": [],
   "source": [
    "# first, make Python lists of all the relevant data\n",
    "members = sorted(list(dfs['orig_members'].member_id))"
   ]
  },
  {
   "cell_type": "code",
   "execution_count": 11,
   "metadata": {},
   "outputs": [
    {
     "data": {
      "text/plain": [
       "[1, 2, 3, 4, 5, 6, 7, 8, 9, 10, 11, 12, 13, 14, 16, 17, 19, 20, 22, 23]"
      ]
     },
     "execution_count": 11,
     "metadata": {},
     "output_type": "execute_result"
    }
   ],
   "source": [
    "# we'll need to shift them all to 1..N\n",
    "members[:20]"
   ]
  },
  {
   "cell_type": "code",
   "execution_count": 12,
   "metadata": {},
   "outputs": [
    {
     "data": {
      "text/plain": [
       "(763, 74)"
      ]
     },
     "execution_count": 12,
     "metadata": {},
     "output_type": "execute_result"
    }
   ],
   "source": [
    "dfs['orig_members'].shape"
   ]
  },
  {
   "cell_type": "code",
   "execution_count": 13,
   "metadata": {},
   "outputs": [],
   "source": [
    "reputation = [[m, sum(dfs['orig_reputation_index'].member_id == m)]\n",
    "              for m in members]"
   ]
  },
  {
   "cell_type": "code",
   "execution_count": 14,
   "metadata": {},
   "outputs": [
    {
     "data": {
      "text/plain": [
       "17.0"
      ]
     },
     "execution_count": 14,
     "metadata": {},
     "output_type": "execute_result"
    }
   ],
   "source": [
    "# maybe using 17.0 as the cutoff\n",
    "just_reps = [reputation[z][1] for z in range(reputation.__len__())]\n",
    "med_reps  = np.median(just_reps)\n",
    "med_reps"
   ]
  },
  {
   "cell_type": "code",
   "execution_count": null,
   "metadata": {},
   "outputs": [],
   "source": []
  },
  {
   "cell_type": "code",
   "execution_count": 15,
   "metadata": {},
   "outputs": [],
   "source": [
    "med_reps = 50"
   ]
  },
  {
   "cell_type": "code",
   "execution_count": 16,
   "metadata": {},
   "outputs": [],
   "source": [
    "labels = [int(rep > med_reps) for rep in just_reps]"
   ]
  },
  {
   "cell_type": "code",
   "execution_count": 17,
   "metadata": {},
   "outputs": [
    {
     "data": {
      "text/plain": [
       "[1, 1, 1, 1, 0, 0, 1, 1, 1, 0]"
      ]
     },
     "execution_count": 17,
     "metadata": {},
     "output_type": "execute_result"
    }
   ],
   "source": [
    "labels[:10]"
   ]
  },
  {
   "cell_type": "code",
   "execution_count": 18,
   "metadata": {},
   "outputs": [
    {
     "data": {
      "text/plain": [
       "763"
      ]
     },
     "execution_count": 18,
     "metadata": {},
     "output_type": "execute_result"
    }
   ],
   "source": [
    "just_reps.__len__()"
   ]
  },
  {
   "cell_type": "code",
   "execution_count": 19,
   "metadata": {},
   "outputs": [],
   "source": [
    "notifs_raw = [[dfs['orig_inline_notifications'].notify_from_id[z], \n",
    "               dfs['orig_inline_notifications'].notify_to_id[z]]\n",
    "              for z in range(dfs['orig_inline_notifications'].shape[0])]"
   ]
  },
  {
   "cell_type": "code",
   "execution_count": 20,
   "metadata": {},
   "outputs": [],
   "source": [
    "notifs = [n for n in notifs_raw if (n[0] in members and n[1] in members)]"
   ]
  },
  {
   "cell_type": "code",
   "execution_count": 21,
   "metadata": {},
   "outputs": [
    {
     "data": {
      "text/plain": [
       "(47066, 47066)"
      ]
     },
     "execution_count": 21,
     "metadata": {},
     "output_type": "execute_result"
    }
   ],
   "source": [
    "len(notifs_raw), len(notifs)"
   ]
  },
  {
   "cell_type": "code",
   "execution_count": 22,
   "metadata": {},
   "outputs": [],
   "source": [
    "messages_raw = [[dfs['orig_message_topics'].mt_starter_id[z], \n",
    "               dfs['orig_message_topics'].mt_to_member_id[z]]\n",
    "              for z in range(dfs['orig_message_topics'].shape[0])]"
   ]
  },
  {
   "cell_type": "code",
   "execution_count": 23,
   "metadata": {},
   "outputs": [],
   "source": [
    "messages = [n for n in messages_raw if (n[0] in members and n[1] in members)]"
   ]
  },
  {
   "cell_type": "code",
   "execution_count": 24,
   "metadata": {},
   "outputs": [
    {
     "data": {
      "text/plain": [
       "(3101, 2859)"
      ]
     },
     "execution_count": 24,
     "metadata": {},
     "output_type": "execute_result"
    }
   ],
   "source": [
    "len(messages_raw), len(messages)"
   ]
  },
  {
   "cell_type": "code",
   "execution_count": 25,
   "metadata": {},
   "outputs": [
    {
     "data": {
      "text/plain": [
       "([[9267, 9679], [9327, 6260], [8232, 9679]], [[1, 23], [11, 1], [16, 14]])"
      ]
     },
     "execution_count": 25,
     "metadata": {},
     "output_type": "execute_result"
    }
   ],
   "source": [
    "notifs[:3], messages[:3]"
   ]
  },
  {
   "cell_type": "code",
   "execution_count": 26,
   "metadata": {},
   "outputs": [
    {
     "data": {
      "text/plain": [
       "'1.6.0'"
      ]
     },
     "execution_count": 26,
     "metadata": {},
     "output_type": "execute_result"
    }
   ],
   "source": [
    "import torch\n",
    "torch.__version__"
   ]
  },
  {
   "cell_type": "code",
   "execution_count": 27,
   "metadata": {},
   "outputs": [],
   "source": [
    "# I won't use sparse matrices since 763x763 should be okay \n",
    "import numpy as np"
   ]
  },
  {
   "cell_type": "code",
   "execution_count": 28,
   "metadata": {},
   "outputs": [],
   "source": [
    "# Now we want the adjacency matrix\n",
    "# change to messages for a different set of edges\n",
    "# edges_raw = notifs  \n",
    "edges_raw = messages\n",
    "member_index = {members[i] : i+1 for i in range(len(members))}"
   ]
  },
  {
   "cell_type": "code",
   "execution_count": 29,
   "metadata": {},
   "outputs": [
    {
     "data": {
      "text/plain": [
       "507"
      ]
     },
     "execution_count": 29,
     "metadata": {},
     "output_type": "execute_result"
    }
   ],
   "source": [
    "member_index[9267]"
   ]
  },
  {
   "cell_type": "code",
   "execution_count": 30,
   "metadata": {},
   "outputs": [],
   "source": [
    "edges = [\n",
    "    [member_index[node] for node in edge]\n",
    "    for edge in edges_raw\n",
    "]"
   ]
  },
  {
   "cell_type": "code",
   "execution_count": 31,
   "metadata": {},
   "outputs": [],
   "source": [
    "num_nodes = len(members)\n",
    "adjacency = [[0 for _ in range(num_nodes)] for _ in range(num_nodes)]\n",
    "# TODO: Change 0 to -1 : negative sampling"
   ]
  },
  {
   "cell_type": "code",
   "execution_count": 32,
   "metadata": {},
   "outputs": [],
   "source": [
    "for edge in edges:\n",
    "    adjacency[edge[0] - 1][edge[1] - 1] = 1\n",
    "    # TODO \n",
    "# both sides\n",
    "# add gender "
   ]
  },
  {
   "cell_type": "code",
   "execution_count": 33,
   "metadata": {},
   "outputs": [],
   "source": [
    "# let's try to add self loops and normalize the adjacency matrix\n",
    "# TODO: try without self loops\n",
    "for i in range(len(adjacency)):\n",
    "    adjacency[i][i] = 1"
   ]
  },
  {
   "cell_type": "code",
   "execution_count": 34,
   "metadata": {},
   "outputs": [],
   "source": [
    "from sklearn.preprocessing import normalize"
   ]
  },
  {
   "cell_type": "code",
   "execution_count": 35,
   "metadata": {},
   "outputs": [],
   "source": [
    "adjacency = np.array(adjacency)\n",
    "adjacency = normalize(adjacency, norm='l1', axis=1)"
   ]
  },
  {
   "cell_type": "code",
   "execution_count": 36,
   "metadata": {},
   "outputs": [],
   "source": [
    "# train and val split fractions\n",
    "trainf = 0.15\n",
    "valf   = 0.15"
   ]
  },
  {
   "cell_type": "code",
   "execution_count": 37,
   "metadata": {},
   "outputs": [],
   "source": [
    "def dataloader(adjacency, labels):\n",
    "#     print(adjacency.shape)\n",
    "    labels = np.array(labels)\n",
    "#     print(labels.shape)\n",
    "    features = featurise(labels)\n",
    "    idx_train, idx_val, idx_test = train_val_test_split(adjacency.shape[0], trainf, valf)\n",
    "    data = (adjacency, features, labels, idx_train, idx_val, idx_test)\n",
    "#     print([type(d) for d in data])\n",
    "    data = tuple(map(lambda z: torch.from_numpy(z), data))\n",
    "#     print([type(d) for d in data])\n",
    "    return data"
   ]
  },
  {
   "cell_type": "code",
   "execution_count": 38,
   "metadata": {},
   "outputs": [],
   "source": [
    "def train_val_test_split(num_nodes, train, val):\n",
    "  idx_train = np.random.choice(range(num_nodes), int(train * num_nodes), replace=False)\n",
    "  idx_vt = list(set(range(num_nodes)) - set(idx_train))\n",
    "  idx_val = np.random.choice(idx_vt, int(val * num_nodes), replace=False)\n",
    "  idx_test = list(set(idx_vt) - set(idx_val))\n",
    "  return np.array(idx_train), np.array(idx_val), np.array(idx_test)"
   ]
  },
  {
   "cell_type": "code",
   "execution_count": 39,
   "metadata": {},
   "outputs": [],
   "source": [
    "def featurise(labels, ft_type='random', size=50):\n",
    "    if ft_type == 'random':\n",
    "        return np.random.rand(len(labels), size)\n",
    "    if ft_type == 'onehot':\n",
    "        return 42                   # TODO\n",
    "    if ft_type == 'uniform':\n",
    "        return np.ones(len(labels), size)"
   ]
  },
  {
   "cell_type": "code",
   "execution_count": 40,
   "metadata": {},
   "outputs": [],
   "source": [
    "adj, features, labels, idx_train, idx_val, idx_test = dataloader(adjacency, labels)"
   ]
  },
  {
   "cell_type": "code",
   "execution_count": 41,
   "metadata": {},
   "outputs": [
    {
     "data": {
      "text/plain": [
       "(torch.Size([114]), torch.Size([114]), torch.Size([535]))"
      ]
     },
     "execution_count": 41,
     "metadata": {},
     "output_type": "execute_result"
    }
   ],
   "source": [
    "idx_train.shape, idx_val.shape, idx_test.shape"
   ]
  },
  {
   "cell_type": "code",
   "execution_count": 42,
   "metadata": {},
   "outputs": [
    {
     "data": {
      "text/plain": [
       "torch.Size([763, 50])"
      ]
     },
     "execution_count": 42,
     "metadata": {},
     "output_type": "execute_result"
    }
   ],
   "source": [
    "features.shape"
   ]
  },
  {
   "cell_type": "code",
   "execution_count": 43,
   "metadata": {},
   "outputs": [],
   "source": [
    "# untested\n",
    "def accuracy(output, labels):\n",
    "  preds   = output.max(1)[1].type_as(labels)\n",
    "  correct = preds.eq(labels).double()\n",
    "  correct = correct.sum()\n",
    "  return correct / len(labels)"
   ]
  },
  {
   "cell_type": "code",
   "execution_count": 44,
   "metadata": {},
   "outputs": [],
   "source": [
    "import math\n",
    "import torch.nn as nn\n",
    "import torch.nn.functional as F\n",
    "import torch.optim as optim\n",
    "import matplotlib.pyplot as plt\n",
    "%matplotlib inline\n",
    "import time"
   ]
  },
  {
   "cell_type": "code",
   "execution_count": 45,
   "metadata": {},
   "outputs": [],
   "source": [
    "class GraphConv(nn.Module):\n",
    "\n",
    "    def __init__(self, in_features, out_features):\n",
    "        super(GraphConv, self).__init__()\n",
    "        self.in_features  = in_features\n",
    "        self.out_features = out_features\n",
    "        self.weight = nn.Parameter(torch.Tensor(in_features, out_features))\n",
    "        self.bias = nn.Parameter(torch.Tensor(out_features))\n",
    "        self.reset_parameters()\n",
    "    \n",
    "    def reset_parameters(self):\n",
    "        stdv = 1. / math.sqrt(self.weight.size(1))\n",
    "        self.weight.data.uniform_(-stdv, stdv)\n",
    "        self.bias.data.uniform_(-stdv, stdv)\n",
    "\n",
    "    def forward(self, input, adj):\n",
    "#         print(input.dtype, adj.dtype)\n",
    "        input = input.float()\n",
    "        adj   = adj.float()\n",
    "#         print(input.dtype, adj.dtype)\n",
    "        support = torch.mm(input, self.weight)\n",
    "        output = torch.mm(adj, support)     # permutation inv sum of all neighbor features\n",
    "        return output + self.bias\n",
    "\n",
    "    def __repr__(self):\n",
    "        return self.__class__.__name__ +' ('+str(self.in_features)+' -> '+str(self.out_features)+')'"
   ]
  },
  {
   "cell_type": "code",
   "execution_count": 46,
   "metadata": {},
   "outputs": [],
   "source": [
    "class VanillaGCN(nn.Module):\n",
    "\n",
    "    def __init__(self, nfeat, nhid, nclass, dropout):\n",
    "        super(VanillaGCN, self).__init__()\n",
    "        self.gc1 = GraphConv(nfeat, nhid)\n",
    "        self.gc2 = GraphConv(nhid, nclass)\n",
    "        self.dropout = dropout\n",
    "\n",
    "    def forward(self, x, adj):\n",
    "        x = F.relu(self.gc1(x, adj))\n",
    "        x = F.dropout(x, self.dropout, training=self.training)\n",
    "        x = self.gc2(x, adj)\n",
    "        return F.log_softmax(x, dim=1)\n",
    "    # TODO: try different activation functions"
   ]
  },
  {
   "cell_type": "code",
   "execution_count": 47,
   "metadata": {},
   "outputs": [],
   "source": [
    "CUDA = torch.cuda.is_available()\n",
    "SEED = 42\n",
    "torch.manual_seed(SEED)\n",
    "if CUDA: torch.cuda.manual_seed(SEED)\n",
    "np.random.seed(SEED)"
   ]
  },
  {
   "cell_type": "code",
   "execution_count": null,
   "metadata": {},
   "outputs": [],
   "source": [
    "# TODO: random seed\n",
    "# TODO: Change the kind of graph convolution operator"
   ]
  },
  {
   "cell_type": "code",
   "execution_count": 48,
   "metadata": {},
   "outputs": [],
   "source": [
    "# hyperparameters\n",
    "# lr = 0.01\n",
    "lr = 0.03\n",
    "# epochs = 200\n",
    "epochs = 200\n",
    "wd = 5e-4\n",
    "hidden = 16\n",
    "dropout = 0.5\n",
    "fastmode = False"
   ]
  },
  {
   "cell_type": "code",
   "execution_count": 49,
   "metadata": {},
   "outputs": [
    {
     "data": {
      "text/plain": [
       "False"
      ]
     },
     "execution_count": 49,
     "metadata": {},
     "output_type": "execute_result"
    }
   ],
   "source": [
    "CUDA"
   ]
  },
  {
   "cell_type": "code",
   "execution_count": 50,
   "metadata": {},
   "outputs": [],
   "source": [
    "# move the data and model to the GPU \n",
    "# if CUDA:\n",
    "#   model.cuda()\n",
    "#   features = features.cuda()\n",
    "#   adj = adj.cuda()\n",
    "#   labels = labels.cuda()\n",
    "#   idx_train = idx_train.cuda()\n",
    "#   idx_val = idx_val.cuda()\n",
    "#   idx_test = idx_test.cuda()"
   ]
  },
  {
   "cell_type": "code",
   "execution_count": 51,
   "metadata": {},
   "outputs": [],
   "source": [
    "def train(epoch, model, optimizer, features, adj, idx_train, idx_val):\n",
    "  t = time.time()\n",
    "  model.train()\n",
    "  optimizer.zero_grad()\n",
    "  output = model(features, adj)\n",
    "  loss_train = F.nll_loss(output[idx_train], labels[idx_train])\n",
    "  acc_train = accuracy(output[idx_train], labels[idx_train])\n",
    "  loss_train.backward()\n",
    "  optimizer.step()\n",
    "  if not fastmode:\n",
    "      model.eval()\n",
    "      output = model(features, adj)\n",
    "  loss_val = F.nll_loss(output[idx_val], labels[idx_val])\n",
    "  acc_val = accuracy(output[idx_val], labels[idx_val])\n",
    "#   if epoch % 10 == 0:\n",
    "#     print('Epoch: {:04d}'.format(epoch+1),\n",
    "#         'loss_train: {:.4f}'.format(loss_train.item()),\n",
    "#         'loss_val: {:.4f}'.format(loss_val.item()),\n",
    "#         'acc_val: {:.4f}'.format(acc_val.item()))\n",
    "  return loss_train.item(), loss_val.item()"
   ]
  },
  {
   "cell_type": "code",
   "execution_count": 52,
   "metadata": {},
   "outputs": [],
   "source": [
    "def test(model, features, adj, idx_test):\n",
    "  model.eval()\n",
    "  output = model(features, adj)\n",
    "  loss_test = F.nll_loss(output[idx_test], labels[idx_test])\n",
    "  acc_test = accuracy(output[idx_test], labels[idx_test])\n",
    "  print(\"Test set results:\",\n",
    "        \"loss= {:.4f}\".format(loss_test.item()),\n",
    "        \"accuracy= {:.4f}\".format(acc_test.item()))"
   ]
  },
  {
   "cell_type": "code",
   "execution_count": 53,
   "metadata": {},
   "outputs": [],
   "source": [
    "def expt_loop(description):\n",
    "    model = VanillaGCN(\n",
    "        nfeat   = features.shape[1], \n",
    "        nhid    = hidden, \n",
    "        nclass  = labels.max().item() + 1, \n",
    "        dropout = dropout\n",
    "    )\n",
    "    optimizer = optim.Adam(model.parameters(), lr=lr, weight_decay=wd)\n",
    "    print(description)\n",
    "    train_losses, val_losses = [], []\n",
    "    for epoch in range(epochs):\n",
    "        loss_train, loss_val = train(epoch, model, optimizer, features, adj, idx_train, idx_val)\n",
    "        train_losses.append(loss_train)\n",
    "        val_losses.append(loss_val)\n",
    "    test(model, features, adj, idx_test)\n",
    "    plt.plot(train_losses, label='Train Loss')\n",
    "    plt.plot(val_losses, label='Val Loss')\n",
    "    plt.grid()\n",
    "    plt.xlabel('Epochs')\n",
    "    plt.ylabel('NLLLoss')\n",
    "    plt.legend()\n",
    "    plt.show()"
   ]
  },
  {
   "cell_type": "code",
   "execution_count": 54,
   "metadata": {},
   "outputs": [
    {
     "name": "stdout",
     "output_type": "stream",
     "text": [
      "Vanilla GCN on messages, split at 50 reputation\n",
      "Test set results: loss= 0.8419 accuracy= 0.5308\n"
     ]
    },
    {
     "data": {
      "image/png": "[encoded data removed]",
      "text/plain": [
       "<Figure size 432x288 with 1 Axes>"
      ]
     },
     "metadata": {
      "needs_background": "light"
     },
     "output_type": "display_data"
    }
   ],
   "source": [
    "expt_loop('Vanilla GCN on messages, split at 50 reputation')"
   ]
  },
  {
   "cell_type": "code",
   "execution_count": null,
   "metadata": {},
   "outputs": [],
   "source": []
  }
 ],
 "metadata": {
  "kernelspec": {
   "display_name": "Python 3",
   "language": "python",
   "name": "python3"
  },
  "language_info": {
   "codemirror_mode": {
    "name": "ipython",
    "version": 3
   },
   "file_extension": ".py",
   "mimetype": "text/x-python",
   "name": "python",
   "nbconvert_exporter": "python",
   "pygments_lexer": "ipython3",
   "version": "3.8.5"
  }
 },
 "nbformat": 4,
 "nbformat_minor": 4
}
